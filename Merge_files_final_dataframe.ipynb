{
 "cells": [
  {
   "cell_type": "markdown",
   "id": "c9e449d0-242c-49a4-9e9d-85e14c74a697",
   "metadata": {},
   "source": [
    "## Read in the full data"
   ]
  },
  {
   "cell_type": "code",
   "execution_count": 1,
   "id": "8dbe909d-b4ad-4579-b809-adfd62debbd8",
   "metadata": {},
   "outputs": [],
   "source": [
    "data=read.csv('/dagher/dagher11/filip/UPF/data/dataset_excluded.csv', quote='\"')\n",
    "NOVA_data=read.csv('/dagher/dagher11/filip/UPF/data/NOVA_energy_values_wide.csv', quote='\"', sep=' ')\n",
    "data=merge(data, NOVA_data, by.x='eid', by.y='participant', all.x=T)\n",
    "#data=subset(data, !is.na(data$uk_biobank_assessment_centre_54.2.0))"
   ]
  },
  {
   "cell_type": "code",
   "execution_count": 4,
   "id": "98e9a2f2-f054-4d15-ba46-967000978462",
   "metadata": {},
   "outputs": [
    {
     "data": {
      "text/plain": [
       "\n",
       "\tPearson's product-moment correlation\n",
       "\n",
       "data:  data$body_mass_index_bmi_21001.0.0 and data$upf_per\n",
       "t = 12.545, df = 33724, p-value < 2.2e-16\n",
       "alternative hypothesis: true correlation is not equal to 0\n",
       "95 percent confidence interval:\n",
       " 0.05752165 0.07876764\n",
       "sample estimates:\n",
       "       cor \n",
       "0.06815237 \n"
      ]
     },
     "metadata": {},
     "output_type": "display_data"
    }
   ],
   "source": [
    "data=subset(data, !is.na(data$uk_biobank_assessment_centre_54.2.0))\n",
    "cor.test(data$body_mass_index_bmi_21001.0.0, data$upf_per)"
   ]
  },
  {
   "cell_type": "markdown",
   "id": "df2400b0-52f7-44aa-9110-2327666ab08c",
   "metadata": {},
   "source": [
    "# Read in data directly merged with NOVA already"
   ]
  },
  {
   "cell_type": "code",
   "execution_count": 1,
   "id": "cd7cf1f2-3433-4bd8-9771-d369bc2e7089",
   "metadata": {},
   "outputs": [
    {
     "name": "stderr",
     "output_type": "stream",
     "text": [
      "\n",
      "Attaching package: ‘dplyr’\n",
      "\n",
      "\n",
      "The following objects are masked from ‘package:stats’:\n",
      "\n",
      "    filter, lag\n",
      "\n",
      "\n",
      "The following objects are masked from ‘package:base’:\n",
      "\n",
      "    intersect, setdiff, setequal, union\n",
      "\n",
      "\n"
     ]
    }
   ],
   "source": [
    "library(dplyr)\n",
    "data=read.table('/dagher/dagher11/filip/UPF/data/final_dataframe.csv',quote='\"', sep=',')"
   ]
  },
  {
   "cell_type": "markdown",
   "id": "1351595f-c024-4621-9958-316bf42ab259",
   "metadata": {},
   "source": [
    "## Read in data with missing subcortical structures and merge"
   ]
  },
  {
   "cell_type": "code",
   "execution_count": 2,
   "id": "87e6d182-7b72-4069-972e-45aaac5b52c8",
   "metadata": {},
   "outputs": [],
   "source": [
    "data_sub=read.csv('/dagher/dagher11/filip/MAPT_OB/data/dataset_excluded_new.csv', quote='\"')\n",
    "data_sub=dplyr::select(data_sub, eid, volume_of_pallidum_right_25018.2.0, volume_of_hippocampus_left_25019.2.0, \n",
    "                volume_of_hippocampus_right_25020.2.0, volume_of_amygdala_left_25021.2.0, volume_of_amygdala_right_25022.2.0)"
   ]
  },
  {
   "cell_type": "code",
   "execution_count": 3,
   "id": "c292e045-a097-49fb-906e-ca323d9b10b2",
   "metadata": {},
   "outputs": [],
   "source": [
    "data=merge(data, data_sub, by='eid', all.x=T)"
   ]
  },
  {
   "cell_type": "markdown",
   "id": "f78f2480-d253-42d9-adca-43519e2794fc",
   "metadata": {},
   "source": [
    "# Get DTI and SWI data"
   ]
  },
  {
   "cell_type": "code",
   "execution_count": 21,
   "id": "395a3f30-0733-4500-80b2-d7031d8a86fa",
   "metadata": {},
   "outputs": [],
   "source": [
    "data_dti=read.table('/dagher/dagher11/filip/Downloads/UKB_WM_Regionwise_Data_allAtlases_allMeasures.csv', quote='\"', sep=',', header=T) # This is in long format and the next files are in wide format\n",
    "data_swi=read.table('~/Downloads/SWI_raw_data.csv', quote='\"', sep=',', header=T)\n",
    "data_dti_FA=read.table('~/Downloads/UKBB_fa_data_other.csv', quote='\"', sep=',', header=T)\n",
    "data_dti_MD=read.table('~/Downloads/UKBB_md_data_other.csv', quote='\"', sep=',', header=T)\n",
    "data_dti_AD=read.table('~/Downloads/UKBB_ad_data_other.csv', quote='\"', sep=',', header=T)\n",
    "data_dti_RD=read.table('~/Downloads/UKBB_rd_data_other.csv', quote='\"', sep=',', header=T)\n",
    "data_dti_FA=data_dti_FA[c(2, 21:length(data_dti_FA))]\n",
    "data_dti_MD=data_dti_MD[c(2, 21:length(data_dti_MD))]\n",
    "data_dti_AD=data_dti_AD[c(2, 21:length(data_dti_AD))]\n",
    "data_dti_RD=data_dti_RD[c(2, 21:length(data_dti_RD))]"
   ]
  },
  {
   "cell_type": "code",
   "execution_count": null,
   "id": "62912ff7-9801-40c3-ae0c-fded877744c8",
   "metadata": {},
   "outputs": [],
   "source": [
    "colnames(data_dti_FA)=paste(colnames(data_dti_FA),'FA',sep='_')\n",
    "colnames(data_dti_MD)=paste(colnames(data_dti_MD),'MD',sep='_')\n",
    "colnames(data_dti_AD)=paste(colnames(data_dti_AD),'AD',sep='_')\n",
    "colnames(data_dti_RD)=paste(colnames(data_dti_RD),'RD',sep='_')"
   ]
  },
  {
   "cell_type": "code",
   "execution_count": null,
   "id": "ceede4fc-b166-4dcd-9843-1329e96b6d39",
   "metadata": {},
   "outputs": [],
   "source": [
    "data_dti_wide=reshape(data_dti, idvar = \"Subject_ID\", timevar = \"WM_Measure\", direction = \"wide\") #This creates some of the same variables with .MD that are the same as _MD\n",
    "data=merge(data, data_dti_wide, by.x='eid', by.y='Subject_ID', all.x=T)"
   ]
  },
  {
   "cell_type": "code",
   "execution_count": null,
   "id": "0cd5ccc8-0426-484d-951a-55f8048ce5b7",
   "metadata": {},
   "outputs": [],
   "source": [
    "data=merge(data, data_dti_FA, by.x='eid', by.y='Subject_ID_FA', all.x=T)\n",
    "data=merge(data, data_dti_MD, by.x='eid', by.y='Subject_ID_MD', all.x=T)\n",
    "data=merge(data, data_dti_RD, by.x='eid', by.y='Subject_ID_RD', all.x=T)\n",
    "data=merge(data, data_dti_AD, by.x='eid', by.y='Subject_ID_AD', all.x=T)"
   ]
  },
  {
   "cell_type": "code",
   "execution_count": null,
   "id": "22ecca11-e586-4c2d-aa54-fde10a07f4be",
   "metadata": {},
   "outputs": [],
   "source": [
    "data=merge(data, data_swi, by.x='eid', by.y='eid', all.x=T)"
   ]
  },
  {
   "cell_type": "code",
   "execution_count": null,
   "id": "86a60e3d-55cc-42a3-a7c3-3c72b91c2bcf",
   "metadata": {},
   "outputs": [],
   "source": [
    "data$alcohol=dplyr::coalesce(data$`alcohol_consumed_100580.4.0`,\n",
    "                     data$`alcohol_consumed_100580.3.0`,\n",
    "                     data$`alcohol_consumed_100580.2.0`,\n",
    "                     data$`alcohol_consumed_100580.1.0`,\n",
    "                     data$`alcohol_consumed_100580.0.0`)"
   ]
  },
  {
   "cell_type": "code",
   "execution_count": 10,
   "id": "6033ef76-5d6a-4b91-9c21-da35954de0bf",
   "metadata": {},
   "outputs": [],
   "source": [
    "data$thalamus_FA=rowMeans(cbind(data$left_thalamus.FA, data$right_thalamus.FA))\n",
    "data$amygdala_FA=rowMeans(cbind(data$left_amygdala.FA, data$right_amygdala.FA))\n",
    "data$thalamus_MD=rowMeans(cbind(data$left_thalamus.MD, data$right_thalamus.MD))\n",
    "data$amygdala_MD=rowMeans(cbind(data$left_amygdala.MD, data$right_amygdala.MD))\n",
    "data$thalamus_AD=rowMeans(cbind(data$left_thalamus.AD, data$right_thalamus.AD))\n",
    "data$amygdala_AD=rowMeans(cbind(data$left_amygdala.AD, data$right_amygdala.AD))\n",
    "data$thalamus_RD=rowMeans(cbind(data$left_thalamus.RD, data$right_thalamus.RD))\n",
    "data$amygdala_RD=rowMeans(cbind(data$left_amygdala.RD, data$right_amygdala.RD))\n",
    "data$full_hypo.FA=data$full_hypo_FA\n",
    "data$full_hypo.MD=data$full_hypo_MD\n",
    "data$full_hypo.RD=data$full_hypo_RD\n",
    "data$full_hypo.AD=data$full_hypo_AD\n",
    "data$left_globus_pallidus.FA=rowMeans(cbind(data$left_globus_pallidus_externa.FA, data$right_globus_pallidus_interna.FA))\n",
    "data$left_globus_pallidus.MD=rowMeans(cbind(data$left_globus_pallidus_externa.MD, data$right_globus_pallidus_interna.MD))\n",
    "data$right_globus_pallidus.FA=rowMeans(cbind(data$right_globus_pallidus_externa.FA, data$right_globus_pallidus_interna.FA))\n",
    "data$right_globus_pallidus.MD=rowMeans(cbind(data$right_globus_pallidus_externa.MD, data$right_globus_pallidus_interna.MD))"
   ]
  },
  {
   "cell_type": "markdown",
   "id": "28b3b6f4-db7f-43ab-b810-b756f7d58ec1",
   "metadata": {},
   "source": [
    "# Add NODDI measures"
   ]
  },
  {
   "cell_type": "code",
   "execution_count": 22,
   "id": "3b517e6f-4ee4-491c-9a01-8081aae6c00c",
   "metadata": {},
   "outputs": [],
   "source": [
    "noddi=read.table('~/Downloads/UKB_NODDI_Regionwise_Subcortical_Filip.csv', quote='\"', sep=',', header=T)"
   ]
  },
  {
   "cell_type": "code",
   "execution_count": 23,
   "id": "710b87fa-94e9-4ec0-aa18-81e932c6c4f5",
   "metadata": {},
   "outputs": [],
   "source": [
    "noddi$full_hypo=rowMeans(cbind(dplyr::select(noddi, anterior_hypothalamic_area_L.nii.gz, arcuate_hypothalamic_nucleus_L.nii.gz, \n",
    "                                      dorsal_periventricular_hypothalamic_nucleus_L.nii.gz, dorsomedial_hypothalamic_nucleus_L.nii.gz, \n",
    "                                      lateral_hypothalamus_L.nii.gz, mammillary_bodies_L.nii.gz, medial_preoptic_nucleus_L.nii.gz, \n",
    "                                      paraventricular_nucleus_L.nii.gz, periventricular_hypothalamic_nucleus_L.nii.gz, \n",
    "                                      posterior_hypotahalamic_nucleus_L.nii.gz, suprachiasmatic_hypothalamic_nucleus_L.nii.gz, \n",
    "                                      supraoptic_hypothalamic_nucleus_L.nii.gz, tuberomammillary_hypothalamic_nucleus_L.nii.gz, \n",
    "                                      ventromedial_hypothalamus_L.nii.gz, anterior_hypothalamic_area_R.nii.gz, \n",
    "                                      arcuate_hypothalamic_nucleus_R.nii.gz, dorsal_periventricular_hypothalamic_nucleus_R.nii.gz, \n",
    "                                      dorsomedial_hypothalamic_nucleus_R.nii.gz, lateral_hypothalamus_R.nii.gz, mammillary_bodies_R.nii.gz, \n",
    "                                      medial_preoptic_nucleus_R.nii.gz, paraventricular_nucleus_R.nii.gz, \n",
    "                                      periventricular_hypothalamic_nucleus_R.nii.gz, posterior_hypotahalamic_nucleus_R.nii.gz, \n",
    "                                      suprachiasmatic_hypothalamic_nucleus_R.nii.gz, supraoptic_hypothalamic_nucleus_R.nii.gz, \n",
    "                                      tuberomammillary_hypothalamic_nucleus_R.nii.gz, ventromedial_hypothalamus_R.nii.gz)))\n",
    "\n",
    "noddi$globus_pallidus_LH=rowMeans(cbind(dplyr::select(noddi, MNI_PD25_subcortical_LH_globus_pallidus_externus.nii.gz,\n",
    "                                                      MNI_PD25_subcortical_LH_globus_pallidus_internus.nii.gz)))\n",
    "noddi$globus_pallidus_RH=rowMeans(cbind(dplyr::select(noddi, MNI_PD25_subcortical_RH_globus_pallidus_externus.nii.gz,\n",
    "                                                      MNI_PD25_subcortical_RH_globus_pallidus_Internus.nii.gz)))"
   ]
  },
  {
   "cell_type": "code",
   "execution_count": 24,
   "id": "4f7b7d7a-37b7-4fee-b337-4aa5c5b6e1b9",
   "metadata": {},
   "outputs": [],
   "source": [
    "noddi_wide=reshape(noddi, idvar = \"Subject_ID\", timevar = \"NODDI_Measure\", direction = \"wide\")"
   ]
  },
  {
   "cell_type": "code",
   "execution_count": 25,
   "id": "5191a849-66bc-4296-88b3-610cd2aa3fd3",
   "metadata": {},
   "outputs": [],
   "source": [
    "data=merge(data, noddi_wide, by.x='eid', by.y='Subject_ID', all.x=T)"
   ]
  },
  {
   "cell_type": "code",
   "execution_count": 15,
   "id": "d5e8a228-ca0b-4f17-bf9c-68051108b683",
   "metadata": {},
   "outputs": [
    {
     "data": {
      "text/html": [
       "41128"
      ],
      "text/latex": [
       "41128"
      ],
      "text/markdown": [
       "41128"
      ],
      "text/plain": [
       "[1] 41128"
      ]
     },
     "metadata": {},
     "output_type": "display_data"
    }
   ],
   "source": [
    "sum(!is.na(data$`mean_thickness_of_caudalanteriorcingulate_left_hemisphere_27174.2.0`))"
   ]
  },
  {
   "cell_type": "markdown",
   "id": "5aa3bc9e-f827-49a3-8797-9ce14a5b9269",
   "metadata": {},
   "source": [
    "# Remove outliers"
   ]
  },
  {
   "cell_type": "code",
   "execution_count": 16,
   "id": "4224df89-c16a-405e-aa9e-86d02e2d44ce",
   "metadata": {},
   "outputs": [],
   "source": [
    "area_vars <- colnames(data)[grep('area_of', colnames(data))]\n",
    "thickness_vars <- colnames(data)[grep('mean_thickness_of', colnames(data))]\n",
    "volume_vars <- colnames(data)[grep('volume_of', colnames(data))][c(1:7, 103:107, 8:9)]\n",
    "fa_vars <- colnames(data)[grep('mean_fa', colnames(data))]\n",
    "md_vars <- colnames(data)[grep('mean_md', colnames(data))]\n",
    "\n",
    "variables <- c(\n",
    "  # Grep patterns (these represent multiple variables in your data)\n",
    "  area_vars, thickness_vars, volume_vars, fa_vars, md_vars,\n",
    "  \n",
    "  # Directly referenced variables\n",
    "  \"age_when_attended_assessment_centre_21003.2.0\",\n",
    "  \"alcohol\",\n",
    "  \"average_total_household_income_before_tax_738.2.0\",\n",
    "  \"body_mass_index_bmi_21001.2.0\",\n",
    "  \"c.reactive_protein_30710.0.0\",\n",
    "  \"date_of_attending_assessment_centre_53.2.0\",\n",
    "  \"diastolic_blood_pressure_automated_reading_4079.0.0\",\n",
    "  \"glycated_haemoglobin_hba1c_30750.0.0\",\n",
    "  \"hdl_cholesterol_30760.0.0\",\n",
    "  \"ldl_direct_30780.0.0\",\n",
    "  \"number_of_daysweek_of_vigorous_physical_activity_10._minutes_904.2.0\",\n",
    "  \"Percentage_NOVA_4\",\n",
    "  \"qualifications_6138.2.0\",\n",
    "  \"saturated_fa\",\n",
    "  \"sex_31.0.0\",\n",
    "  \"smoking_status_20116.2.0\",\n",
    "  \"sodium\",\n",
    "  \"systolic_blood_pressure_automated_reading_4080.0.0\",\n",
    "  \"Total_Energy_KJ\",\n",
    "  \"total_sugar\",\n",
    "  \"triglycerides_30870.0.0\",\n",
    "  \"uk_biobank_assessment_centre_54.2.0\",\n",
    "  \"visceral_adipose_tissue_volume_vat_22407.2.0\",\n",
    "  \"volume_of_estimatedtotalintracranial_whole_brain_26521.2.0\",\n",
    "  \"WHR\",\n",
    "  \n",
    "  # Brain structure variables with .FA and .MD suffixes\n",
    "  \"left_caudate.FA\", \"left_caudate.MD\",\n",
    "  \"right_caudate.FA\", \"right_caudate.MD\",\n",
    "  \"left_putamen.FA\", \"left_putamen.MD\",\n",
    "  \"right_putamen.FA\", \"right_putamen.MD\",\n",
    "  \"left_globus_pallidus_externa.FA\", \"left_globus_pallidus_externa.MD\",\n",
    "  \"right_globus_pallidus_externa.FA\", \"right_globus_pallidus_externa.MD\",\n",
    "  \"left_thalamus.FA\", \"left_thalamus.MD\",\n",
    "  \"right_thalamus.FA\", \"right_thalamus.MD\",\n",
    "  \"left_hippocampus.FA\", \"left_hippocampus.MD\",\n",
    "  \"right_hippocampus.FA\", \"right_hippocampus.MD\",\n",
    "  \"left_nucleus_accumbens.FA\", \"left_nucleus_accumbens.MD\",\n",
    "  \"right_nucleus_accumbens.FA\", \"right_nucleus_accumbens.MD\",\n",
    "  \"left_amygdala.FA\", \"left_amygdala.MD\",\n",
    "  \"right_amygdala.FA\", \"right_amygdala.MD\",\n",
    "  \"full_hypo.FA\", \"full_hypo.MD\",\n",
    "  \n",
    "  # MNI structure variables with .ICVF and .ISOVF suffixes\n",
    "  \"MNI_PD25_subcortical_LH_caudate.nii.gz.ICVF\", \"MNI_PD25_subcortical_LH_caudate.nii.gz.ISOVF\",\n",
    "  \"MNI_PD25_subcortical_RH_caudate.nii.gz.ICVF\", \"MNI_PD25_subcortical_RH_caudate.nii.gz.ISOVF\",\n",
    "  \"MNI_PD25_subcortical_LH_putamen.nii.gz.ICVF\", \"MNI_PD25_subcortical_LH_putamen.nii.gz.ISOVF\",\n",
    "  \"MNI_PD25_subcortical_RH_putamen.nii.gz.ICVF\", \"MNI_PD25_subcortical_RH_putamen.nii.gz.ISOVF\",\n",
    "  \"globus_pallidus_LH.ICVF\", \"globus_pallidus_LH.ISOVF\",\n",
    "  \"globus_pallidus_RH.ICVF\", \"globus_pallidus_RH.ISOVF\",\n",
    "  \"MNI_PD25_subcortical_LH_thalamus.nii.gz.ICVF\", \"MNI_PD25_subcortical_LH_thalamus.nii.gz.ISOVF\",\n",
    "  \"MNI_PD25_subcortical_RH_thalamus.nii.gz.ICVF\", \"MNI_PD25_subcortical_RH_thalamus.nii.gz.ISOVF\",\n",
    "  \"MNI_PD25_subcortical_LH_hippocampus.nii.gz.ICVF\", \"MNI_PD25_subcortical_LH_hippocampus.nii.gz.ISOVF\",\n",
    "  \"MNI_PD25_subcortical_RH_hippocampus.nii.gz.ICVF\", \"MNI_PD25_subcortical_RH_hippocampus.nii.gz.ISOVF\",\n",
    "  \"MNI_PD25_subcortical_LH_nucleus_accumbens.nii.gz.ICVF\", \"MNI_PD25_subcortical_LH_nucleus_accumbens.nii.gz.ISOVF\",\n",
    "  \"MNI_PD25_subcortical_RH_nucleus_accumbens.nii.gz.ICVF\", \"MNI_PD25_subcortical_RH_nucleus_accumbens.nii.gz.ISOVF\",\n",
    "  \"MNI_PD25_subcortical_LH_amygdala.nii.gz.ICVF\", \"MNI_PD25_subcortical_LH_amygdala.nii.gz.ISOVF\",\n",
    "  \"MNI_PD25_subcortical_RH_amygdala.nii.gz.ICVF\", \"MNI_PD25_subcortical_RH_amygdala.nii.gz.ISOVF\",\n",
    "  \"full_hypo.ICVF\", \"full_hypo.ISOVF\"\n",
    ")"
   ]
  },
  {
   "cell_type": "code",
   "execution_count": 18,
   "id": "da443218-672c-46bd-b9e8-fea1175fae19",
   "metadata": {},
   "outputs": [],
   "source": [
    "# Create empty vectors to store results\n",
    "variable_names <- c()\n",
    "outlier_percentages <- c()\n",
    "\n",
    "# Store initial NA counts for each column\n",
    "initial_na <- sapply(data, function(x) sum(is.na(x)))\n",
    "\n",
    "# outlier removal loop\n",
    "for (j in 2:ncol(data)) {\n",
    "    if (is.numeric(data[[j]])) {\n",
    "        # Store variable name\n",
    "        variable_names <- c(variable_names, colnames(data)[j])\n",
    "        \n",
    "        # Store initial non-NA count\n",
    "        initial_valid <- sum(!is.na(data[[j]]))\n",
    "        \n",
    "        # outlier removal code\n",
    "        Q3 <- as.numeric(quantile(data[j], 0.75, na.rm=TRUE))\n",
    "        Q1 <- as.numeric(quantile(data[j], 0.25, na.rm=TRUE))\n",
    "        upper <- Q3 + (2.2*(Q3-Q1))\n",
    "        lower <- Q1 - (2.2*(Q3-Q1))\n",
    "        data[j][data[j] < lower] <- NA\n",
    "        data[j][data[j] > upper] <- NA\n",
    "        \n",
    "        # Calculate percentage of values removed\n",
    "        final_valid <- sum(!is.na(data[[j]]))\n",
    "        percent_removed <- ((initial_valid - final_valid) / initial_valid) * 100\n",
    "        outlier_percentages <- c(outlier_percentages, round(percent_removed, 2))\n",
    "    }\n",
    "}\n",
    "\n",
    "# Create final dataframe\n",
    "outlier_summary <- data.frame(\n",
    "    Variable = variable_names,\n",
    "    Percent_Removed = outlier_percentages\n",
    ")\n",
    "outlier_summary <- outlier_summary[outlier_summary$Variable %in% variables, ]\n",
    "\n",
    "# Sort by percentage removed \n",
    "outlier_summary <- outlier_summary[order(-outlier_summary$Percent_Removed), ]"
   ]
  },
  {
   "cell_type": "code",
   "execution_count": 19,
   "id": "cbe06bff-fabf-4542-80e6-efea890a8af4",
   "metadata": {},
   "outputs": [],
   "source": [
    "write.table(outlier_summary, '/dagher/dagher11/filip/UPF/data/outliers_short.csv',sep=',')"
   ]
  },
  {
   "cell_type": "code",
   "execution_count": 18,
   "id": "8727b01c-4040-485f-a006-7eb9e5957e9e",
   "metadata": {},
   "outputs": [
    {
     "data": {
      "text/html": [
       "41083"
      ],
      "text/latex": [
       "41083"
      ],
      "text/markdown": [
       "41083"
      ],
      "text/plain": [
       "[1] 41083"
      ]
     },
     "metadata": {},
     "output_type": "display_data"
    }
   ],
   "source": [
    "sum(!is.na(data$`mean_thickness_of_caudalanteriorcingulate_left_hemisphere_27174.2.0`))"
   ]
  },
  {
   "cell_type": "markdown",
   "id": "af81ce5d-003c-49a9-98ca-c8575309f11e",
   "metadata": {},
   "source": [
    "# UPF % calculations"
   ]
  },
  {
   "cell_type": "code",
   "execution_count": 19,
   "id": "3e11dbe1-648b-4839-a707-4fc871c1b443",
   "metadata": {},
   "outputs": [],
   "source": [
    "data$upf_perc=data$kJ_NOVA_4/rowSums(cbind(data$kJ_NOVA_1, data$kJ_NOVA_2, data$kJ_NOVA_3, data$kJ_NOVA_4), na.rm=T)\n",
    "data$nova2_perc=data$kJ_NOVA_2/rowSums(cbind(data$kJ_NOVA_1, data$kJ_NOVA_2, data$kJ_NOVA_3, data$kJ_NOVA_4), na.rm=T)\n",
    "data$nova1_perc=data$kJ_NOVA_1/rowSums(cbind(data$kJ_NOVA_1, data$kJ_NOVA_2, data$kJ_NOVA_3, data$kJ_NOVA_4), na.rm=T)\n",
    "data$nova3_perc=data$kJ_NOVA_3/rowSums(cbind(data$kJ_NOVA_1, data$kJ_NOVA_2, data$kJ_NOVA_3, data$kJ_NOVA_4), na.rm=T)"
   ]
  },
  {
   "cell_type": "code",
   "execution_count": 20,
   "id": "16b053a7-5722-4d0c-8ffb-52a9a474ddb8",
   "metadata": {},
   "outputs": [],
   "source": [
    "data$kJ_sum=rowSums(cbind(data$kJ_NOVA_1, data$kJ_NOVA_2, data$kJ_NOVA_3, data$kJ_NOVA_4), na.rm=T)"
   ]
  },
  {
   "cell_type": "code",
   "execution_count": null,
   "id": "97cfe230-57a3-4e65-8f89-268e1207c859",
   "metadata": {},
   "outputs": [],
   "source": [
    "#data <- data[data$kJ_sum >= 2092 & data$kJ_sum <= 20920, ]"
   ]
  },
  {
   "cell_type": "code",
   "execution_count": 21,
   "id": "16107e3c-8795-49e0-9621-7db2ed58c394",
   "metadata": {},
   "outputs": [],
   "source": [
    "data$typical_diet=dplyr::coalesce(data$typical_diet_yesterday_100020.5.0, data$typical_diet_yesterday_100020.4.0,\n",
    "                          data$typical_diet_yesterday_100020.3.0, data$typical_diet_yesterday_100020.2.0,\n",
    "                          data$typical_diet_yesterday_100020.1.0)\n",
    "data$typical_diet[is.na(data$typical_diet)] <- \"Yes\"\n",
    "#data <- subset(data, typical_diet != \"No\")"
   ]
  },
  {
   "cell_type": "code",
   "execution_count": 22,
   "id": "40aa8e9a-b037-4778-8f80-d06c04649a10",
   "metadata": {},
   "outputs": [
    {
     "data": {
      "text/html": [
       "41083"
      ],
      "text/latex": [
       "41083"
      ],
      "text/markdown": [
       "41083"
      ],
      "text/plain": [
       "[1] 41083"
      ]
     },
     "metadata": {},
     "output_type": "display_data"
    }
   ],
   "source": [
    "sum(!is.na(data$`mean_thickness_of_caudalanteriorcingulate_left_hemisphere_27174.2.0`))"
   ]
  },
  {
   "cell_type": "markdown",
   "id": "fc1acdc0-8dce-4f6f-bace-481d95440b02",
   "metadata": {},
   "source": [
    "# Merge with nutrients"
   ]
  },
  {
   "cell_type": "code",
   "execution_count": 23,
   "id": "c840ab07-5d06-4da3-a30a-114590dea456",
   "metadata": {},
   "outputs": [],
   "source": [
    "data_nutrients=read.table('/dagher/dagher11/filip/UPF/data/ukb_category_100117_bis.csv', header=TRUE, na.strings = \"\", sep=',', quote = \"\\\"\")"
   ]
  },
  {
   "cell_type": "code",
   "execution_count": 24,
   "id": "109ab9ff-2dec-49f6-9753-97d25c743368",
   "metadata": {},
   "outputs": [],
   "source": [
    "coalesce_set <- function(data, prefix) {\n",
    "  cols <- grep(paste0(\"^X\", prefix), names(data), value = TRUE)\n",
    "  ordered_cols <- sort(cols, decreasing = TRUE) \n",
    "  #print(ordered_cols)\n",
    "  result <- coalesce(!!!as.list(data[ordered_cols]))\n",
    "  return(result)\n",
    "}"
   ]
  },
  {
   "cell_type": "code",
   "execution_count": 25,
   "id": "42220ddf-b76e-462e-b7f0-2572347966fb",
   "metadata": {},
   "outputs": [
    {
     "name": "stderr",
     "output_type": "stream",
     "text": [
      "Warning message in unique(as.integer(sub(\"X(.*)\\\\..*\", \"\\\\1\", names(data_nutrients)))):\n",
      "“NAs introduced by coercion”\n"
     ]
    }
   ],
   "source": [
    "unique_prefixes <- unique(as.integer(sub(\"X(.*)\\\\..*\", \"\\\\1\", names(data_nutrients))))"
   ]
  },
  {
   "cell_type": "code",
   "execution_count": 26,
   "id": "752e32eb-9cf3-4fb6-9674-efac9cfd70fc",
   "metadata": {},
   "outputs": [],
   "source": [
    "for (prefix in unique_prefixes[-1]) {\n",
    "  data_nutrients[[paste0(prefix, \"_coalesced\")]] <- coalesce_set(data_nutrients, prefix)\n",
    "}"
   ]
  },
  {
   "cell_type": "code",
   "execution_count": 27,
   "id": "0d05893c-cca7-4578-a8ec-b362635687b7",
   "metadata": {},
   "outputs": [],
   "source": [
    "data_nutrients <- data_nutrients %>%\n",
    "  select(ends_with(\"_coalesced\"),'eid')"
   ]
  },
  {
   "cell_type": "code",
   "execution_count": 28,
   "id": "0b986e9d-58d6-4924-b9e4-7870d0216304",
   "metadata": {
    "scrolled": true
   },
   "outputs": [],
   "source": [
    "colnames(data_nutrients)=c('carbohydrate','protein','fat','free_sugar','monosaturated_fa','other_sugar','sodium','total_sugar',\n",
    "                          'trans_fa','starch','saturated_fa','eid')"
   ]
  },
  {
   "cell_type": "code",
   "execution_count": 29,
   "id": "936fe7b0-a145-47cf-b767-1d92b8b50895",
   "metadata": {},
   "outputs": [],
   "source": [
    "data=merge(data, data_nutrients, by='eid', all.x=T)"
   ]
  },
  {
   "cell_type": "code",
   "execution_count": 30,
   "id": "516dd0a8-08c4-49f4-97d1-0e86a2c06440",
   "metadata": {},
   "outputs": [
    {
     "data": {
      "text/html": [
       "41083"
      ],
      "text/latex": [
       "41083"
      ],
      "text/markdown": [
       "41083"
      ],
      "text/plain": [
       "[1] 41083"
      ]
     },
     "metadata": {},
     "output_type": "display_data"
    }
   ],
   "source": [
    "sum(!is.na(data$`mean_thickness_of_caudalanteriorcingulate_left_hemisphere_27174.2.0`))"
   ]
  },
  {
   "cell_type": "markdown",
   "id": "5dc2b9fb-32a3-4d3f-ae2b-b7ed195bd525",
   "metadata": {},
   "source": [
    "# Some checks"
   ]
  },
  {
   "cell_type": "code",
   "execution_count": 32,
   "id": "e15d9117-c49c-47c7-ac29-79983808565c",
   "metadata": {},
   "outputs": [
    {
     "data": {
      "image/png": "[encoded data removed]",
      "text/plain": [
       "Plot with title “Histogram of data$upf_perc”"
      ]
     },
     "metadata": {
      "image/png": {
       "height": 420,
       "width": 420
      }
     },
     "output_type": "display_data"
    }
   ],
   "source": [
    "hist(data$upf_perc)"
   ]
  },
  {
   "cell_type": "code",
   "execution_count": 33,
   "id": "3dc14234-08d9-48a7-bec2-4dfbd71c7534",
   "metadata": {},
   "outputs": [],
   "source": [
    "write.table(data, '/dagher/dagher11/filip/UPF/data/final_dataframe_all.csv', quote=T, sep=',',row.names=F)"
   ]
  },
  {
   "cell_type": "code",
   "execution_count": null,
   "id": "f2d62099-4773-415b-835c-bde7ef951747",
   "metadata": {},
   "outputs": [],
   "source": []
  }
 ],
 "metadata": {
  "kernelspec": {
   "display_name": "mambaR",
   "language": "R",
   "name": "r4"
  },
  "language_info": {
   "codemirror_mode": "r",
   "file_extension": ".r",
   "mimetype": "text/x-r-source",
   "name": "R",
   "pygments_lexer": "r",
   "version": "4.3.1"
  }
 },
 "nbformat": 4,
 "nbformat_minor": 5
}
