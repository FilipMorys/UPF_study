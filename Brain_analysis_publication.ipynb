{
 "cells": [
  {
   "cell_type": "markdown",
   "id": "3fee6d85-e46a-4abd-80b5-525c818b609d",
   "metadata": {
    "jp-MarkdownHeadingCollapsed": true
   },
   "source": [
    "# Load packages and set up variables"
   ]
  },
  {
   "cell_type": "code",
   "execution_count": 1,
   "id": "e9045607-96f2-4434-b199-835476c7031a",
   "metadata": {
    "scrolled": true
   },
   "outputs": [
    {
     "name": "stderr",
     "output_type": "stream",
     "text": [
      "Loading required package: psych\n",
      "\n",
      "Loading required package: dplyr\n",
      "\n",
      "\n",
      "Attaching package: ‘dplyr’\n",
      "\n",
      "\n",
      "The following objects are masked from ‘package:stats’:\n",
      "\n",
      "    filter, lag\n",
      "\n",
      "\n",
      "The following objects are masked from ‘package:base’:\n",
      "\n",
      "    intersect, setdiff, setequal, union\n",
      "\n",
      "\n",
      "Loading required package: ggplot2\n",
      "\n",
      "\n",
      "Attaching package: ‘ggplot2’\n",
      "\n",
      "\n",
      "The following objects are masked from ‘package:psych’:\n",
      "\n",
      "    %+%, alpha\n",
      "\n",
      "\n",
      "Loading required package: car\n",
      "\n",
      "Loading required package: carData\n",
      "\n",
      "\n",
      "Attaching package: ‘car’\n",
      "\n",
      "\n",
      "The following object is masked from ‘package:dplyr’:\n",
      "\n",
      "    recode\n",
      "\n",
      "\n",
      "The following object is masked from ‘package:psych’:\n",
      "\n",
      "    logit\n",
      "\n",
      "\n",
      "Loading required package: janitor\n",
      "\n",
      "\n",
      "Attaching package: ‘janitor’\n",
      "\n",
      "\n",
      "The following objects are masked from ‘package:stats’:\n",
      "\n",
      "    chisq.test, fisher.test\n",
      "\n",
      "\n",
      "Loading required package: readxl\n",
      "\n",
      "Loading required package: remotes\n",
      "\n",
      "Loading required package: ggpubr\n",
      "\n",
      "Loading required package: ggseg\n",
      "\n",
      "Loading required package: ggseg3d\n",
      "\n",
      "Loading required package: plotly\n",
      "\n",
      "\n",
      "Attaching package: ‘plotly’\n",
      "\n",
      "\n",
      "The following object is masked from ‘package:ggplot2’:\n",
      "\n",
      "    last_plot\n",
      "\n",
      "\n",
      "The following object is masked from ‘package:stats’:\n",
      "\n",
      "    filter\n",
      "\n",
      "\n",
      "The following object is masked from ‘package:graphics’:\n",
      "\n",
      "    layout\n",
      "\n",
      "\n",
      "Loading required package: flextable\n",
      "\n",
      "\n",
      "Attaching package: ‘flextable’\n",
      "\n",
      "\n",
      "The following objects are masked from ‘package:plotly’:\n",
      "\n",
      "    highlight, style\n",
      "\n",
      "\n",
      "The following objects are masked from ‘package:ggpubr’:\n",
      "\n",
      "    border, font, rotate\n",
      "\n",
      "\n",
      "Loading required package: Hmisc\n",
      "\n",
      "\n",
      "Attaching package: ‘Hmisc’\n",
      "\n",
      "\n",
      "The following object is masked from ‘package:plotly’:\n",
      "\n",
      "    subplot\n",
      "\n",
      "\n",
      "The following objects are masked from ‘package:dplyr’:\n",
      "\n",
      "    src, summarize\n",
      "\n",
      "\n",
      "The following object is masked from ‘package:psych’:\n",
      "\n",
      "    describe\n",
      "\n",
      "\n",
      "The following objects are masked from ‘package:base’:\n",
      "\n",
      "    format.pval, units\n",
      "\n",
      "\n",
      "\n",
      "Attaching package: ‘matrixStats’\n",
      "\n",
      "\n",
      "The following object is masked from ‘package:dplyr’:\n",
      "\n",
      "    count\n",
      "\n",
      "\n",
      "\n",
      "Attaching package: ‘effectsize’\n",
      "\n",
      "\n",
      "The following object is masked from ‘package:psych’:\n",
      "\n",
      "    phi\n",
      "\n",
      "\n",
      "Loading required package: MASS\n",
      "\n",
      "\n",
      "Attaching package: ‘MASS’\n",
      "\n",
      "\n",
      "The following object is masked from ‘package:plotly’:\n",
      "\n",
      "    select\n",
      "\n",
      "\n",
      "The following object is masked from ‘package:dplyr’:\n",
      "\n",
      "    select\n",
      "\n",
      "\n",
      "Loading required package: Matrix\n",
      "\n",
      "Loading required package: mvtnorm\n",
      "\n",
      "\n",
      "Attaching package: ‘mvtnorm’\n",
      "\n",
      "\n",
      "The following object is masked from ‘package:effectsize’:\n",
      "\n",
      "    standardize\n",
      "\n",
      "\n",
      "Loading required package: sandwich\n",
      "\n",
      "mediation: Causal Mediation Analysis\n",
      "Version: 4.5.0\n",
      "\n",
      "\n",
      "\n",
      "Attaching package: ‘mediation’\n",
      "\n",
      "\n",
      "The following object is masked from ‘package:psych’:\n",
      "\n",
      "    mediate\n",
      "\n",
      "\n"
     ]
    }
   ],
   "source": [
    "if (!require(\"psych\")) rhumba::install(\"r-psych\")\n",
    "if (!require(\"dplyr\")) rhumba::install(\"r-dplyr\")\n",
    "if (!require(\"ggplot2\")) rhumba::install(\"r-ggplot2\")\n",
    "if (!require(\"car\")) rhumba::install(\"r-car\")\n",
    "if (!require(\"janitor\")) rhumba::install(\"r-janitor\")\n",
    "if (!require(\"readxl\")) rhumba::install(\"r-readxl\")\n",
    "if (!require(\"remotes\")) rhumba::install(\"r-remotes\")\n",
    "#if (!require(\"hmisc\")) rhumba::install(\"r-hmisc\")\n",
    "if (!require(\"ggpubr\")) rhumba::install(\"r-ggpubr\")\n",
    "if (!require(\"ggseg\")) install.packages(\"ggseg\")\n",
    "if (!require(\"ggseg3d\")) install.packages(\"ggseg3d\")\n",
    "#remotes::install_github(\"LCBC-UiO/ggsegDKT\", auth_token='PLACE TOKEN HERE')\n",
    "library(ggsegDKT)\n",
    "if (!require(\"plotly\")) install.packages(\"plotly\")\n",
    "if (!require(\"flextable\")) install.packages(\"flextable\")\n",
    "if (!require(\"Hmisc\")) rhumba::install(\"r-Hmisc\")\n",
    "library('matrixStats')\n",
    "library(effectsize)\n",
    "library('mediation')"
   ]
  },
  {
   "cell_type": "code",
   "execution_count": 2,
   "id": "eae045d4-9b11-4bee-9ccf-9bb5e6757d9a",
   "metadata": {},
   "outputs": [],
   "source": [
    "# Custom function to round and format values\n",
    "round_and_format <- function(x, digits = 4, threshold = 0.0001) {\n",
    "  # Round the values first\n",
    "  x_rounded <- round(x, digits)\n",
    "  \n",
    "  # Format values in scientific notation if they are below the threshold and non-zero\n",
    "  x_formatted <- ifelse(abs(x) < threshold & abs(x) > 0, format(x, scientific = TRUE, digits = digits), x_rounded)\n",
    "  \n",
    "  return(x_formatted)\n",
    "}\n"
   ]
  },
  {
   "cell_type": "code",
   "execution_count": 3,
   "id": "a05ba263-0d09-49f0-bf83-3ce3485f9929",
   "metadata": {},
   "outputs": [],
   "source": [
    "plot_struct=c('caudal anterior cingulate','caudal middle frontal','cuneus','entorhinal','fusiform','inferior parietal',\n",
    " 'inferior temporal','isthmus cingulate','lateral occipital','lateral orbitofrontal','lingual',\n",
    " 'medial orbitofrontal','middle temporal','parahippocampal','paracentral','pars opercularis','pars orbitalis',\n",
    " 'pars triangularis','pericalcarine','postcentral','posterior cingulate','precentral','precuneus',\n",
    " 'rostral anterior cingulate','rostral middle frontal','superior frontal','superior parietal','superior temporal',\n",
    " 'supramarginal', 'transverse temporal','insula')\n",
    "\n",
    "re_from <- \"\\\\b([[:alpha:]])([[:alpha:]]+)\"\n",
    "\n",
    "plot_struct_title=gsub(re_from, \"\\\\U\\\\1\\\\L\\\\2\" ,plot_struct, perl=TRUE)\n",
    "\n",
    "WM_names=c(\"Middle Cerebellar Peduncle\",\n",
    "\"Pontine Crossing Tract\",\n",
    "\"Genu of Corpus Callosum\",\n",
    "\"Body of Corpus Callosum\",\n",
    "\"Splenium of Corpus Callosum\",\n",
    "\"Fornix\",\n",
    "\"Corticospinal Tract Right\",\n",
    "\"Corticospinal Tract Left\",\n",
    "\"Medial Lemniscus Right\",\n",
    "\"Medial Lemniscus Left\",\n",
    "\"Inferior Cerebellar Peduncle Right\",\n",
    "\"Inferior Cerebellar Peduncle Left\",\n",
    "\"Superior Cerebellar Peduncle Right\",\n",
    "\"Superior Cerebellar Peduncle Left\",\n",
    "\"Cerebral Peduncle Right\",\n",
    "\"Cerebral Peduncle Left\",\n",
    "\"Anterior Limb of Internal Capsule Right\",\n",
    "\"Anterior Limb of Internal Capsule Left\",\n",
    "\"Posterior Limb of Internal Capsule Right\",\n",
    "\"Posterior Limb of Internal Capsule Left\",\n",
    "\"Retrolenticular Part of Internal Capsule Right\",\n",
    "\"Retrolenticular Part of Internal Capsule Left\",\n",
    "\"Anterior Corona Radiata Right\",\n",
    "\"Anterior Corona Radiata Left\",\n",
    "\"Superior Corona Radiata Right\",\n",
    "\"Superior Corona Radiata Left\",\n",
    "\"Posterior Corona Radiata Right\",\n",
    "\"Posterior Corona Radiata Left\",\n",
    "\"Posterior Thalamic Radiation Right\",\n",
    "\"Posterior Thalamic Radiation Left\",\n",
    "\"Sagittal Stratum Right\",\n",
    "\"Sagittal Stratum Left\",\n",
    "\"External Capsule Right\",\n",
    "\"External Capsule Left\",\n",
    "\"Cingulum Cingulate Gyrus Right\",\n",
    "\"Cingulum Cingulate Gyrus Left\",\n",
    "\"Cingulum Hippocampus Right\",\n",
    "\"Cingulum Hippocampus Left\",\n",
    "\"Fornix Cres Stria Terminalis Right\",\n",
    "\"Fornix Cres Stria Terminalis Left\",\n",
    "\"Superior Longitudinal Fasciculus Right\",\n",
    "\"Superior Longitudinal Fasciculus Left\",\n",
    "\"Superior Fronto-Occipital Fasciculus Right\",\n",
    "\"Superior Fronto-Occipital Fasciculus Left\",\n",
    "\"Uncinate Fasciculus Right\",\n",
    "\"Uncinate Fasciculus Left\",\n",
    "\"Tapetum Right\",\n",
    "\"Tapetum Left\")"
   ]
  },
  {
   "cell_type": "markdown",
   "id": "d9d9d65c-21b1-4f85-8d02-a90b3642a62d",
   "metadata": {},
   "source": [
    "# Read in the data"
   ]
  },
  {
   "cell_type": "code",
   "execution_count": 4,
   "id": "2593d1ef-3477-4e9c-ad4b-5ff8d610a50c",
   "metadata": {},
   "outputs": [],
   "source": [
    "data=read.table('/dagher/dagher11/filip/UPF/data/final_dataframe_all.csv',quote='\"', sep=',', header=T)"
   ]
  },
  {
   "cell_type": "code",
   "execution_count": 5,
   "id": "5688e353-75ae-43d6-b24b-d4d52aa8b137",
   "metadata": {},
   "outputs": [],
   "source": [
    "data=data[!(is.na(data$upf_perc)),]"
   ]
  },
  {
   "cell_type": "markdown",
   "id": "39ab33bf-e740-43e7-8f62-797c0f72843d",
   "metadata": {
    "jp-MarkdownHeadingCollapsed": true
   },
   "source": [
    "# Sample characteristics"
   ]
  },
  {
   "cell_type": "code",
   "execution_count": 27,
   "id": "ec304a43-a23e-4cb1-80ec-19fbd05e736f",
   "metadata": {},
   "outputs": [
    {
     "data": {
      "text/html": [
       "<table class=\"dataframe\">\n",
       "<caption>A psych: 1 × 13</caption>\n",
       "<thead>\n",
       "\t<tr><th></th><th scope=col>vars</th><th scope=col>n</th><th scope=col>mean</th><th scope=col>sd</th><th scope=col>median</th><th scope=col>trimmed</th><th scope=col>mad</th><th scope=col>min</th><th scope=col>max</th><th scope=col>range</th><th scope=col>skew</th><th scope=col>kurtosis</th><th scope=col>se</th></tr>\n",
       "\t<tr><th></th><th scope=col>&lt;dbl&gt;</th><th scope=col>&lt;dbl&gt;</th><th scope=col>&lt;dbl&gt;</th><th scope=col>&lt;dbl&gt;</th><th scope=col>&lt;dbl&gt;</th><th scope=col>&lt;dbl&gt;</th><th scope=col>&lt;dbl&gt;</th><th scope=col>&lt;dbl&gt;</th><th scope=col>&lt;dbl&gt;</th><th scope=col>&lt;dbl&gt;</th><th scope=col>&lt;dbl&gt;</th><th scope=col>&lt;dbl&gt;</th><th scope=col>&lt;dbl&gt;</th></tr>\n",
       "</thead>\n",
       "<tbody>\n",
       "\t<tr><th scope=row>X1</th><td>1</td><td>32211</td><td>64.51203</td><td>7.71126</td><td>65</td><td>64.62851</td><td>8.8956</td><td>44</td><td>84</td><td>40</td><td>-0.1321896</td><td>-0.7782011</td><td>0.04296583</td></tr>\n",
       "</tbody>\n",
       "</table>\n"
      ],
      "text/latex": [
       "A psych: 1 × 13\n",
       "\\begin{tabular}{r|lllllllllllll}\n",
       "  & vars & n & mean & sd & median & trimmed & mad & min & max & range & skew & kurtosis & se\\\\\n",
       "  & <dbl> & <dbl> & <dbl> & <dbl> & <dbl> & <dbl> & <dbl> & <dbl> & <dbl> & <dbl> & <dbl> & <dbl> & <dbl>\\\\\n",
       "\\hline\n",
       "\tX1 & 1 & 32211 & 64.51203 & 7.71126 & 65 & 64.62851 & 8.8956 & 44 & 84 & 40 & -0.1321896 & -0.7782011 & 0.04296583\\\\\n",
       "\\end{tabular}\n"
      ],
      "text/markdown": [
       "\n",
       "A psych: 1 × 13\n",
       "\n",
       "| <!--/--> | vars &lt;dbl&gt; | n &lt;dbl&gt; | mean &lt;dbl&gt; | sd &lt;dbl&gt; | median &lt;dbl&gt; | trimmed &lt;dbl&gt; | mad &lt;dbl&gt; | min &lt;dbl&gt; | max &lt;dbl&gt; | range &lt;dbl&gt; | skew &lt;dbl&gt; | kurtosis &lt;dbl&gt; | se &lt;dbl&gt; |\n",
       "|---|---|---|---|---|---|---|---|---|---|---|---|---|---|\n",
       "| X1 | 1 | 32211 | 64.51203 | 7.71126 | 65 | 64.62851 | 8.8956 | 44 | 84 | 40 | -0.1321896 | -0.7782011 | 0.04296583 |\n",
       "\n"
      ],
      "text/plain": [
       "   vars n     mean     sd      median trimmed  mad    min max range skew      \n",
       "X1 1    32211 64.51203 7.71126 65     64.62851 8.8956 44  84  40    -0.1321896\n",
       "   kurtosis   se        \n",
       "X1 -0.7782011 0.04296583"
      ]
     },
     "metadata": {},
     "output_type": "display_data"
    },
    {
     "data": {
      "text/html": [
       "<table class=\"dataframe\">\n",
       "<caption>A psych: 1 × 13</caption>\n",
       "<thead>\n",
       "\t<tr><th></th><th scope=col>vars</th><th scope=col>n</th><th scope=col>mean</th><th scope=col>sd</th><th scope=col>median</th><th scope=col>trimmed</th><th scope=col>mad</th><th scope=col>min</th><th scope=col>max</th><th scope=col>range</th><th scope=col>skew</th><th scope=col>kurtosis</th><th scope=col>se</th></tr>\n",
       "\t<tr><th></th><th scope=col>&lt;dbl&gt;</th><th scope=col>&lt;dbl&gt;</th><th scope=col>&lt;dbl&gt;</th><th scope=col>&lt;dbl&gt;</th><th scope=col>&lt;dbl&gt;</th><th scope=col>&lt;dbl&gt;</th><th scope=col>&lt;dbl&gt;</th><th scope=col>&lt;dbl&gt;</th><th scope=col>&lt;dbl&gt;</th><th scope=col>&lt;dbl&gt;</th><th scope=col>&lt;dbl&gt;</th><th scope=col>&lt;dbl&gt;</th><th scope=col>&lt;dbl&gt;</th></tr>\n",
       "</thead>\n",
       "<tbody>\n",
       "\t<tr><th scope=row>X1</th><td>1</td><td>30986</td><td>26.05199</td><td>4.005288</td><td>25.58755</td><td>25.78785</td><td>3.792268</td><td>13.388</td><td>40.4273</td><td>27.0393</td><td>0.6498038</td><td>0.4598922</td><td>0.02275365</td></tr>\n",
       "</tbody>\n",
       "</table>\n"
      ],
      "text/latex": [
       "A psych: 1 × 13\n",
       "\\begin{tabular}{r|lllllllllllll}\n",
       "  & vars & n & mean & sd & median & trimmed & mad & min & max & range & skew & kurtosis & se\\\\\n",
       "  & <dbl> & <dbl> & <dbl> & <dbl> & <dbl> & <dbl> & <dbl> & <dbl> & <dbl> & <dbl> & <dbl> & <dbl> & <dbl>\\\\\n",
       "\\hline\n",
       "\tX1 & 1 & 30986 & 26.05199 & 4.005288 & 25.58755 & 25.78785 & 3.792268 & 13.388 & 40.4273 & 27.0393 & 0.6498038 & 0.4598922 & 0.02275365\\\\\n",
       "\\end{tabular}\n"
      ],
      "text/markdown": [
       "\n",
       "A psych: 1 × 13\n",
       "\n",
       "| <!--/--> | vars &lt;dbl&gt; | n &lt;dbl&gt; | mean &lt;dbl&gt; | sd &lt;dbl&gt; | median &lt;dbl&gt; | trimmed &lt;dbl&gt; | mad &lt;dbl&gt; | min &lt;dbl&gt; | max &lt;dbl&gt; | range &lt;dbl&gt; | skew &lt;dbl&gt; | kurtosis &lt;dbl&gt; | se &lt;dbl&gt; |\n",
       "|---|---|---|---|---|---|---|---|---|---|---|---|---|---|\n",
       "| X1 | 1 | 30986 | 26.05199 | 4.005288 | 25.58755 | 25.78785 | 3.792268 | 13.388 | 40.4273 | 27.0393 | 0.6498038 | 0.4598922 | 0.02275365 |\n",
       "\n"
      ],
      "text/plain": [
       "   vars n     mean     sd       median   trimmed  mad      min    max    \n",
       "X1 1    30986 26.05199 4.005288 25.58755 25.78785 3.792268 13.388 40.4273\n",
       "   range   skew      kurtosis  se        \n",
       "X1 27.0393 0.6498038 0.4598922 0.02275365"
      ]
     },
     "metadata": {},
     "output_type": "display_data"
    },
    {
     "data": {
      "text/plain": [
       "\n",
       "Female   Male \n",
       " 16656  15555 "
      ]
     },
     "metadata": {},
     "output_type": "display_data"
    },
    {
     "data": {
      "text/html": [
       "<table class=\"dataframe\">\n",
       "<caption>A psych: 1 × 13</caption>\n",
       "<thead>\n",
       "\t<tr><th></th><th scope=col>vars</th><th scope=col>n</th><th scope=col>mean</th><th scope=col>sd</th><th scope=col>median</th><th scope=col>trimmed</th><th scope=col>mad</th><th scope=col>min</th><th scope=col>max</th><th scope=col>range</th><th scope=col>skew</th><th scope=col>kurtosis</th><th scope=col>se</th></tr>\n",
       "\t<tr><th></th><th scope=col>&lt;dbl&gt;</th><th scope=col>&lt;dbl&gt;</th><th scope=col>&lt;dbl&gt;</th><th scope=col>&lt;dbl&gt;</th><th scope=col>&lt;dbl&gt;</th><th scope=col>&lt;dbl&gt;</th><th scope=col>&lt;dbl&gt;</th><th scope=col>&lt;dbl&gt;</th><th scope=col>&lt;dbl&gt;</th><th scope=col>&lt;dbl&gt;</th><th scope=col>&lt;dbl&gt;</th><th scope=col>&lt;dbl&gt;</th><th scope=col>&lt;dbl&gt;</th></tr>\n",
       "</thead>\n",
       "<tbody>\n",
       "\t<tr><th scope=row>X1</th><td>1</td><td>32211</td><td>0.4660888</td><td>0.1647173</td><td>0.4678934</td><td>0.4662084</td><td>0.1677363</td><td>0</td><td>1</td><td>1</td><td>0.007414091</td><td>-0.1780098</td><td>0.000917777</td></tr>\n",
       "</tbody>\n",
       "</table>\n"
      ],
      "text/latex": [
       "A psych: 1 × 13\n",
       "\\begin{tabular}{r|lllllllllllll}\n",
       "  & vars & n & mean & sd & median & trimmed & mad & min & max & range & skew & kurtosis & se\\\\\n",
       "  & <dbl> & <dbl> & <dbl> & <dbl> & <dbl> & <dbl> & <dbl> & <dbl> & <dbl> & <dbl> & <dbl> & <dbl> & <dbl>\\\\\n",
       "\\hline\n",
       "\tX1 & 1 & 32211 & 0.4660888 & 0.1647173 & 0.4678934 & 0.4662084 & 0.1677363 & 0 & 1 & 1 & 0.007414091 & -0.1780098 & 0.000917777\\\\\n",
       "\\end{tabular}\n"
      ],
      "text/markdown": [
       "\n",
       "A psych: 1 × 13\n",
       "\n",
       "| <!--/--> | vars &lt;dbl&gt; | n &lt;dbl&gt; | mean &lt;dbl&gt; | sd &lt;dbl&gt; | median &lt;dbl&gt; | trimmed &lt;dbl&gt; | mad &lt;dbl&gt; | min &lt;dbl&gt; | max &lt;dbl&gt; | range &lt;dbl&gt; | skew &lt;dbl&gt; | kurtosis &lt;dbl&gt; | se &lt;dbl&gt; |\n",
       "|---|---|---|---|---|---|---|---|---|---|---|---|---|---|\n",
       "| X1 | 1 | 32211 | 0.4660888 | 0.1647173 | 0.4678934 | 0.4662084 | 0.1677363 | 0 | 1 | 1 | 0.007414091 | -0.1780098 | 0.000917777 |\n",
       "\n"
      ],
      "text/plain": [
       "   vars n     mean      sd        median    trimmed   mad       min max range\n",
       "X1 1    32211 0.4660888 0.1647173 0.4678934 0.4662084 0.1677363 0   1   1    \n",
       "   skew        kurtosis   se         \n",
       "X1 0.007414091 -0.1780098 0.000917777"
      ]
     },
     "metadata": {},
     "output_type": "display_data"
    },
    {
     "data": {
      "text/html": [
       "<table class=\"dataframe\">\n",
       "<caption>A psych: 1 × 13</caption>\n",
       "<thead>\n",
       "\t<tr><th></th><th scope=col>vars</th><th scope=col>n</th><th scope=col>mean</th><th scope=col>sd</th><th scope=col>median</th><th scope=col>trimmed</th><th scope=col>mad</th><th scope=col>min</th><th scope=col>max</th><th scope=col>range</th><th scope=col>skew</th><th scope=col>kurtosis</th><th scope=col>se</th></tr>\n",
       "\t<tr><th></th><th scope=col>&lt;dbl&gt;</th><th scope=col>&lt;dbl&gt;</th><th scope=col>&lt;dbl&gt;</th><th scope=col>&lt;dbl&gt;</th><th scope=col>&lt;dbl&gt;</th><th scope=col>&lt;dbl&gt;</th><th scope=col>&lt;dbl&gt;</th><th scope=col>&lt;dbl&gt;</th><th scope=col>&lt;dbl&gt;</th><th scope=col>&lt;dbl&gt;</th><th scope=col>&lt;dbl&gt;</th><th scope=col>&lt;dbl&gt;</th><th scope=col>&lt;dbl&gt;</th></tr>\n",
       "</thead>\n",
       "<tbody>\n",
       "\t<tr><th scope=row>X1</th><td>1</td><td>32211</td><td>10912.8</td><td>4531.571</td><td>10716.3</td><td>10779.73</td><td>5412.312</td><td>2099.008</td><td>20919.26</td><td>18820.25</td><td>0.1947741</td><td>-0.9065799</td><td>25.24915</td></tr>\n",
       "</tbody>\n",
       "</table>\n"
      ],
      "text/latex": [
       "A psych: 1 × 13\n",
       "\\begin{tabular}{r|lllllllllllll}\n",
       "  & vars & n & mean & sd & median & trimmed & mad & min & max & range & skew & kurtosis & se\\\\\n",
       "  & <dbl> & <dbl> & <dbl> & <dbl> & <dbl> & <dbl> & <dbl> & <dbl> & <dbl> & <dbl> & <dbl> & <dbl> & <dbl>\\\\\n",
       "\\hline\n",
       "\tX1 & 1 & 32211 & 10912.8 & 4531.571 & 10716.3 & 10779.73 & 5412.312 & 2099.008 & 20919.26 & 18820.25 & 0.1947741 & -0.9065799 & 25.24915\\\\\n",
       "\\end{tabular}\n"
      ],
      "text/markdown": [
       "\n",
       "A psych: 1 × 13\n",
       "\n",
       "| <!--/--> | vars &lt;dbl&gt; | n &lt;dbl&gt; | mean &lt;dbl&gt; | sd &lt;dbl&gt; | median &lt;dbl&gt; | trimmed &lt;dbl&gt; | mad &lt;dbl&gt; | min &lt;dbl&gt; | max &lt;dbl&gt; | range &lt;dbl&gt; | skew &lt;dbl&gt; | kurtosis &lt;dbl&gt; | se &lt;dbl&gt; |\n",
       "|---|---|---|---|---|---|---|---|---|---|---|---|---|---|\n",
       "| X1 | 1 | 32211 | 10912.8 | 4531.571 | 10716.3 | 10779.73 | 5412.312 | 2099.008 | 20919.26 | 18820.25 | 0.1947741 | -0.9065799 | 25.24915 |\n",
       "\n"
      ],
      "text/plain": [
       "   vars n     mean    sd       median  trimmed  mad      min      max     \n",
       "X1 1    32211 10912.8 4531.571 10716.3 10779.73 5412.312 2099.008 20919.26\n",
       "   range    skew      kurtosis   se      \n",
       "X1 18820.25 0.1947741 -0.9065799 25.24915"
      ]
     },
     "metadata": {},
     "output_type": "display_data"
    }
   ],
   "source": [
    "psych::describe(data$age_when_attended_assessment_centre_21003.2.0)\n",
    "psych::describe(data$body_mass_index_bmi_21001.2.0)\n",
    "table(data$sex_31.0.0)\n",
    "psych::describe(data$upf_perc)\n",
    "psych::describe(data$kJ_sum)"
   ]
  },
  {
   "cell_type": "code",
   "execution_count": 28,
   "id": "6beffa41-3f8f-403d-8cc4-ee6d5e9ceb3d",
   "metadata": {},
   "outputs": [],
   "source": [
    "Sample_ukbbrain=data[!(is.na(data$mean_thickness_of_caudalanteriorcingulate_right_hemisphere_27267.2.0)),]\n",
    "Sample_GMdiff=data[!(is.na(data$left_nucleus_accumbens_MD)),]\n",
    "Sample_GMcell=data[!(is.na(data$MNI_PD25_subcortical_LH_nucleus_accumbens.nii.gz.ICVF)),]\n",
    "Sample_cog1=data[!(is.na(data$number_of_incorrect_matches_in_round_399.2.1)),]\n",
    "Sample_cog2=data[!(is.na(data$number_of_puzzles_correct_21004.2.0)),]\n",
    "Sample_blood=data[!(is.na(data$c.reactive_protein_30710.0.0)),]"
   ]
  },
  {
   "cell_type": "code",
   "execution_count": 44,
   "id": "c2cd7f5f-bcd9-4d72-8db6-76ac423d1c82",
   "metadata": {},
   "outputs": [
    {
     "data": {
      "text/html": [
       "15462"
      ],
      "text/latex": [
       "15462"
      ],
      "text/markdown": [
       "15462"
      ],
      "text/plain": [
       "[1] 15462"
      ]
     },
     "metadata": {},
     "output_type": "display_data"
    }
   ],
   "source": [
    "nrow(Sample_GMdiff)"
   ]
  },
  {
   "cell_type": "code",
   "execution_count": 32,
   "id": "99ec2fd7-29f5-4eb2-8e76-9a7d501a2613",
   "metadata": {},
   "outputs": [
    {
     "data": {
      "text/html": [
       "<table class=\"dataframe\">\n",
       "<caption>A psych: 1 × 13</caption>\n",
       "<thead>\n",
       "\t<tr><th></th><th scope=col>vars</th><th scope=col>n</th><th scope=col>mean</th><th scope=col>sd</th><th scope=col>median</th><th scope=col>trimmed</th><th scope=col>mad</th><th scope=col>min</th><th scope=col>max</th><th scope=col>range</th><th scope=col>skew</th><th scope=col>kurtosis</th><th scope=col>se</th></tr>\n",
       "\t<tr><th></th><th scope=col>&lt;dbl&gt;</th><th scope=col>&lt;dbl&gt;</th><th scope=col>&lt;dbl&gt;</th><th scope=col>&lt;dbl&gt;</th><th scope=col>&lt;dbl&gt;</th><th scope=col>&lt;dbl&gt;</th><th scope=col>&lt;dbl&gt;</th><th scope=col>&lt;dbl&gt;</th><th scope=col>&lt;dbl&gt;</th><th scope=col>&lt;dbl&gt;</th><th scope=col>&lt;dbl&gt;</th><th scope=col>&lt;dbl&gt;</th><th scope=col>&lt;dbl&gt;</th></tr>\n",
       "</thead>\n",
       "<tbody>\n",
       "\t<tr><th scope=row>X1</th><td>1</td><td>24740</td><td>64.01985</td><td>7.721043</td><td>65</td><td>64.12141</td><td>8.8956</td><td>44</td><td>83</td><td>39</td><td>-0.1193964</td><td>-0.8240451</td><td>0.04908809</td></tr>\n",
       "</tbody>\n",
       "</table>\n"
      ],
      "text/latex": [
       "A psych: 1 × 13\n",
       "\\begin{tabular}{r|lllllllllllll}\n",
       "  & vars & n & mean & sd & median & trimmed & mad & min & max & range & skew & kurtosis & se\\\\\n",
       "  & <dbl> & <dbl> & <dbl> & <dbl> & <dbl> & <dbl> & <dbl> & <dbl> & <dbl> & <dbl> & <dbl> & <dbl> & <dbl>\\\\\n",
       "\\hline\n",
       "\tX1 & 1 & 24740 & 64.01985 & 7.721043 & 65 & 64.12141 & 8.8956 & 44 & 83 & 39 & -0.1193964 & -0.8240451 & 0.04908809\\\\\n",
       "\\end{tabular}\n"
      ],
      "text/markdown": [
       "\n",
       "A psych: 1 × 13\n",
       "\n",
       "| <!--/--> | vars &lt;dbl&gt; | n &lt;dbl&gt; | mean &lt;dbl&gt; | sd &lt;dbl&gt; | median &lt;dbl&gt; | trimmed &lt;dbl&gt; | mad &lt;dbl&gt; | min &lt;dbl&gt; | max &lt;dbl&gt; | range &lt;dbl&gt; | skew &lt;dbl&gt; | kurtosis &lt;dbl&gt; | se &lt;dbl&gt; |\n",
       "|---|---|---|---|---|---|---|---|---|---|---|---|---|---|\n",
       "| X1 | 1 | 24740 | 64.01985 | 7.721043 | 65 | 64.12141 | 8.8956 | 44 | 83 | 39 | -0.1193964 | -0.8240451 | 0.04908809 |\n",
       "\n"
      ],
      "text/plain": [
       "   vars n     mean     sd       median trimmed  mad    min max range skew      \n",
       "X1 1    24740 64.01985 7.721043 65     64.12141 8.8956 44  83  39    -0.1193964\n",
       "   kurtosis   se        \n",
       "X1 -0.8240451 0.04908809"
      ]
     },
     "metadata": {},
     "output_type": "display_data"
    },
    {
     "data": {
      "text/html": [
       "<table class=\"dataframe\">\n",
       "<caption>A psych: 1 × 13</caption>\n",
       "<thead>\n",
       "\t<tr><th></th><th scope=col>vars</th><th scope=col>n</th><th scope=col>mean</th><th scope=col>sd</th><th scope=col>median</th><th scope=col>trimmed</th><th scope=col>mad</th><th scope=col>min</th><th scope=col>max</th><th scope=col>range</th><th scope=col>skew</th><th scope=col>kurtosis</th><th scope=col>se</th></tr>\n",
       "\t<tr><th></th><th scope=col>&lt;dbl&gt;</th><th scope=col>&lt;dbl&gt;</th><th scope=col>&lt;dbl&gt;</th><th scope=col>&lt;dbl&gt;</th><th scope=col>&lt;dbl&gt;</th><th scope=col>&lt;dbl&gt;</th><th scope=col>&lt;dbl&gt;</th><th scope=col>&lt;dbl&gt;</th><th scope=col>&lt;dbl&gt;</th><th scope=col>&lt;dbl&gt;</th><th scope=col>&lt;dbl&gt;</th><th scope=col>&lt;dbl&gt;</th><th scope=col>&lt;dbl&gt;</th></tr>\n",
       "</thead>\n",
       "<tbody>\n",
       "\t<tr><th scope=row>X1</th><td>1</td><td>23798</td><td>25.9775</td><td>3.951774</td><td>25.5243</td><td>25.71757</td><td>3.736449</td><td>13.388</td><td>40.4273</td><td>27.0393</td><td>0.6579596</td><td>0.4945434</td><td>0.02561663</td></tr>\n",
       "</tbody>\n",
       "</table>\n"
      ],
      "text/latex": [
       "A psych: 1 × 13\n",
       "\\begin{tabular}{r|lllllllllllll}\n",
       "  & vars & n & mean & sd & median & trimmed & mad & min & max & range & skew & kurtosis & se\\\\\n",
       "  & <dbl> & <dbl> & <dbl> & <dbl> & <dbl> & <dbl> & <dbl> & <dbl> & <dbl> & <dbl> & <dbl> & <dbl> & <dbl>\\\\\n",
       "\\hline\n",
       "\tX1 & 1 & 23798 & 25.9775 & 3.951774 & 25.5243 & 25.71757 & 3.736449 & 13.388 & 40.4273 & 27.0393 & 0.6579596 & 0.4945434 & 0.02561663\\\\\n",
       "\\end{tabular}\n"
      ],
      "text/markdown": [
       "\n",
       "A psych: 1 × 13\n",
       "\n",
       "| <!--/--> | vars &lt;dbl&gt; | n &lt;dbl&gt; | mean &lt;dbl&gt; | sd &lt;dbl&gt; | median &lt;dbl&gt; | trimmed &lt;dbl&gt; | mad &lt;dbl&gt; | min &lt;dbl&gt; | max &lt;dbl&gt; | range &lt;dbl&gt; | skew &lt;dbl&gt; | kurtosis &lt;dbl&gt; | se &lt;dbl&gt; |\n",
       "|---|---|---|---|---|---|---|---|---|---|---|---|---|---|\n",
       "| X1 | 1 | 23798 | 25.9775 | 3.951774 | 25.5243 | 25.71757 | 3.736449 | 13.388 | 40.4273 | 27.0393 | 0.6579596 | 0.4945434 | 0.02561663 |\n",
       "\n"
      ],
      "text/plain": [
       "   vars n     mean    sd       median  trimmed  mad      min    max     range  \n",
       "X1 1    23798 25.9775 3.951774 25.5243 25.71757 3.736449 13.388 40.4273 27.0393\n",
       "   skew      kurtosis  se        \n",
       "X1 0.6579596 0.4945434 0.02561663"
      ]
     },
     "metadata": {},
     "output_type": "display_data"
    },
    {
     "data": {
      "text/plain": [
       "\n",
       "Female   Male \n",
       " 13030  11710 "
      ]
     },
     "metadata": {},
     "output_type": "display_data"
    },
    {
     "data": {
      "text/html": [
       "<table class=\"dataframe\">\n",
       "<caption>A psych: 1 × 13</caption>\n",
       "<thead>\n",
       "\t<tr><th></th><th scope=col>vars</th><th scope=col>n</th><th scope=col>mean</th><th scope=col>sd</th><th scope=col>median</th><th scope=col>trimmed</th><th scope=col>mad</th><th scope=col>min</th><th scope=col>max</th><th scope=col>range</th><th scope=col>skew</th><th scope=col>kurtosis</th><th scope=col>se</th></tr>\n",
       "\t<tr><th></th><th scope=col>&lt;dbl&gt;</th><th scope=col>&lt;dbl&gt;</th><th scope=col>&lt;dbl&gt;</th><th scope=col>&lt;dbl&gt;</th><th scope=col>&lt;dbl&gt;</th><th scope=col>&lt;dbl&gt;</th><th scope=col>&lt;dbl&gt;</th><th scope=col>&lt;dbl&gt;</th><th scope=col>&lt;dbl&gt;</th><th scope=col>&lt;dbl&gt;</th><th scope=col>&lt;dbl&gt;</th><th scope=col>&lt;dbl&gt;</th><th scope=col>&lt;dbl&gt;</th></tr>\n",
       "</thead>\n",
       "<tbody>\n",
       "\t<tr><th scope=row>X1</th><td>1</td><td>24740</td><td>0.4661802</td><td>0.1642742</td><td>0.4672976</td><td>0.466139</td><td>0.1675089</td><td>0</td><td>1</td><td>1</td><td>0.01403847</td><td>-0.1836824</td><td>0.001044407</td></tr>\n",
       "</tbody>\n",
       "</table>\n"
      ],
      "text/latex": [
       "A psych: 1 × 13\n",
       "\\begin{tabular}{r|lllllllllllll}\n",
       "  & vars & n & mean & sd & median & trimmed & mad & min & max & range & skew & kurtosis & se\\\\\n",
       "  & <dbl> & <dbl> & <dbl> & <dbl> & <dbl> & <dbl> & <dbl> & <dbl> & <dbl> & <dbl> & <dbl> & <dbl> & <dbl>\\\\\n",
       "\\hline\n",
       "\tX1 & 1 & 24740 & 0.4661802 & 0.1642742 & 0.4672976 & 0.466139 & 0.1675089 & 0 & 1 & 1 & 0.01403847 & -0.1836824 & 0.001044407\\\\\n",
       "\\end{tabular}\n"
      ],
      "text/markdown": [
       "\n",
       "A psych: 1 × 13\n",
       "\n",
       "| <!--/--> | vars &lt;dbl&gt; | n &lt;dbl&gt; | mean &lt;dbl&gt; | sd &lt;dbl&gt; | median &lt;dbl&gt; | trimmed &lt;dbl&gt; | mad &lt;dbl&gt; | min &lt;dbl&gt; | max &lt;dbl&gt; | range &lt;dbl&gt; | skew &lt;dbl&gt; | kurtosis &lt;dbl&gt; | se &lt;dbl&gt; |\n",
       "|---|---|---|---|---|---|---|---|---|---|---|---|---|---|\n",
       "| X1 | 1 | 24740 | 0.4661802 | 0.1642742 | 0.4672976 | 0.466139 | 0.1675089 | 0 | 1 | 1 | 0.01403847 | -0.1836824 | 0.001044407 |\n",
       "\n"
      ],
      "text/plain": [
       "   vars n     mean      sd        median    trimmed  mad       min max range\n",
       "X1 1    24740 0.4661802 0.1642742 0.4672976 0.466139 0.1675089 0   1   1    \n",
       "   skew       kurtosis   se         \n",
       "X1 0.01403847 -0.1836824 0.001044407"
      ]
     },
     "metadata": {},
     "output_type": "display_data"
    },
    {
     "data": {
      "text/html": [
       "<table class=\"dataframe\">\n",
       "<caption>A psych: 1 × 13</caption>\n",
       "<thead>\n",
       "\t<tr><th></th><th scope=col>vars</th><th scope=col>n</th><th scope=col>mean</th><th scope=col>sd</th><th scope=col>median</th><th scope=col>trimmed</th><th scope=col>mad</th><th scope=col>min</th><th scope=col>max</th><th scope=col>range</th><th scope=col>skew</th><th scope=col>kurtosis</th><th scope=col>se</th></tr>\n",
       "\t<tr><th></th><th scope=col>&lt;dbl&gt;</th><th scope=col>&lt;dbl&gt;</th><th scope=col>&lt;dbl&gt;</th><th scope=col>&lt;dbl&gt;</th><th scope=col>&lt;dbl&gt;</th><th scope=col>&lt;dbl&gt;</th><th scope=col>&lt;dbl&gt;</th><th scope=col>&lt;dbl&gt;</th><th scope=col>&lt;dbl&gt;</th><th scope=col>&lt;dbl&gt;</th><th scope=col>&lt;dbl&gt;</th><th scope=col>&lt;dbl&gt;</th><th scope=col>&lt;dbl&gt;</th></tr>\n",
       "</thead>\n",
       "<tbody>\n",
       "\t<tr><th scope=row>X1</th><td>1</td><td>24740</td><td>10967.7</td><td>4526.935</td><td>10793.43</td><td>10843.09</td><td>5412.221</td><td>2099.008</td><td>20919.26</td><td>18820.25</td><td>0.1798842</td><td>-0.9067672</td><td>28.7809</td></tr>\n",
       "</tbody>\n",
       "</table>\n"
      ],
      "text/latex": [
       "A psych: 1 × 13\n",
       "\\begin{tabular}{r|lllllllllllll}\n",
       "  & vars & n & mean & sd & median & trimmed & mad & min & max & range & skew & kurtosis & se\\\\\n",
       "  & <dbl> & <dbl> & <dbl> & <dbl> & <dbl> & <dbl> & <dbl> & <dbl> & <dbl> & <dbl> & <dbl> & <dbl> & <dbl>\\\\\n",
       "\\hline\n",
       "\tX1 & 1 & 24740 & 10967.7 & 4526.935 & 10793.43 & 10843.09 & 5412.221 & 2099.008 & 20919.26 & 18820.25 & 0.1798842 & -0.9067672 & 28.7809\\\\\n",
       "\\end{tabular}\n"
      ],
      "text/markdown": [
       "\n",
       "A psych: 1 × 13\n",
       "\n",
       "| <!--/--> | vars &lt;dbl&gt; | n &lt;dbl&gt; | mean &lt;dbl&gt; | sd &lt;dbl&gt; | median &lt;dbl&gt; | trimmed &lt;dbl&gt; | mad &lt;dbl&gt; | min &lt;dbl&gt; | max &lt;dbl&gt; | range &lt;dbl&gt; | skew &lt;dbl&gt; | kurtosis &lt;dbl&gt; | se &lt;dbl&gt; |\n",
       "|---|---|---|---|---|---|---|---|---|---|---|---|---|---|\n",
       "| X1 | 1 | 24740 | 10967.7 | 4526.935 | 10793.43 | 10843.09 | 5412.221 | 2099.008 | 20919.26 | 18820.25 | 0.1798842 | -0.9067672 | 28.7809 |\n",
       "\n"
      ],
      "text/plain": [
       "   vars n     mean    sd       median   trimmed  mad      min      max     \n",
       "X1 1    24740 10967.7 4526.935 10793.43 10843.09 5412.221 2099.008 20919.26\n",
       "   range    skew      kurtosis   se     \n",
       "X1 18820.25 0.1798842 -0.9067672 28.7809"
      ]
     },
     "metadata": {},
     "output_type": "display_data"
    }
   ],
   "source": [
    "psych::describe(Sample_ukbbrain$age_when_attended_assessment_centre_21003.2.0)\n",
    "psych::describe(Sample_ukbbrain$body_mass_index_bmi_21001.2.0)\n",
    "table(Sample_ukbbrain$sex_31.0.0)"
   ]
  },
  {
   "cell_type": "code",
   "execution_count": 33,
   "id": "63d6d20e-e91b-402f-8894-900f4e3e5b6a",
   "metadata": {},
   "outputs": [
    {
     "data": {
      "text/html": [
       "<table class=\"dataframe\">\n",
       "<caption>A psych: 1 × 13</caption>\n",
       "<thead>\n",
       "\t<tr><th></th><th scope=col>vars</th><th scope=col>n</th><th scope=col>mean</th><th scope=col>sd</th><th scope=col>median</th><th scope=col>trimmed</th><th scope=col>mad</th><th scope=col>min</th><th scope=col>max</th><th scope=col>range</th><th scope=col>skew</th><th scope=col>kurtosis</th><th scope=col>se</th></tr>\n",
       "\t<tr><th></th><th scope=col>&lt;dbl&gt;</th><th scope=col>&lt;dbl&gt;</th><th scope=col>&lt;dbl&gt;</th><th scope=col>&lt;dbl&gt;</th><th scope=col>&lt;dbl&gt;</th><th scope=col>&lt;dbl&gt;</th><th scope=col>&lt;dbl&gt;</th><th scope=col>&lt;dbl&gt;</th><th scope=col>&lt;dbl&gt;</th><th scope=col>&lt;dbl&gt;</th><th scope=col>&lt;dbl&gt;</th><th scope=col>&lt;dbl&gt;</th><th scope=col>&lt;dbl&gt;</th></tr>\n",
       "</thead>\n",
       "<tbody>\n",
       "\t<tr><th scope=row>X1</th><td>1</td><td>15462</td><td>63.29226</td><td>7.512955</td><td>64</td><td>63.39466</td><td>8.8956</td><td>45</td><td>81</td><td>36</td><td>-0.1192244</td><td>-0.8410521</td><td>0.06041961</td></tr>\n",
       "</tbody>\n",
       "</table>\n"
      ],
      "text/latex": [
       "A psych: 1 × 13\n",
       "\\begin{tabular}{r|lllllllllllll}\n",
       "  & vars & n & mean & sd & median & trimmed & mad & min & max & range & skew & kurtosis & se\\\\\n",
       "  & <dbl> & <dbl> & <dbl> & <dbl> & <dbl> & <dbl> & <dbl> & <dbl> & <dbl> & <dbl> & <dbl> & <dbl> & <dbl>\\\\\n",
       "\\hline\n",
       "\tX1 & 1 & 15462 & 63.29226 & 7.512955 & 64 & 63.39466 & 8.8956 & 45 & 81 & 36 & -0.1192244 & -0.8410521 & 0.06041961\\\\\n",
       "\\end{tabular}\n"
      ],
      "text/markdown": [
       "\n",
       "A psych: 1 × 13\n",
       "\n",
       "| <!--/--> | vars &lt;dbl&gt; | n &lt;dbl&gt; | mean &lt;dbl&gt; | sd &lt;dbl&gt; | median &lt;dbl&gt; | trimmed &lt;dbl&gt; | mad &lt;dbl&gt; | min &lt;dbl&gt; | max &lt;dbl&gt; | range &lt;dbl&gt; | skew &lt;dbl&gt; | kurtosis &lt;dbl&gt; | se &lt;dbl&gt; |\n",
       "|---|---|---|---|---|---|---|---|---|---|---|---|---|---|\n",
       "| X1 | 1 | 15462 | 63.29226 | 7.512955 | 64 | 63.39466 | 8.8956 | 45 | 81 | 36 | -0.1192244 | -0.8410521 | 0.06041961 |\n",
       "\n"
      ],
      "text/plain": [
       "   vars n     mean     sd       median trimmed  mad    min max range skew      \n",
       "X1 1    15462 63.29226 7.512955 64     63.39466 8.8956 45  81  36    -0.1192244\n",
       "   kurtosis   se        \n",
       "X1 -0.8410521 0.06041961"
      ]
     },
     "metadata": {},
     "output_type": "display_data"
    },
    {
     "data": {
      "text/html": [
       "<table class=\"dataframe\">\n",
       "<caption>A psych: 1 × 13</caption>\n",
       "<thead>\n",
       "\t<tr><th></th><th scope=col>vars</th><th scope=col>n</th><th scope=col>mean</th><th scope=col>sd</th><th scope=col>median</th><th scope=col>trimmed</th><th scope=col>mad</th><th scope=col>min</th><th scope=col>max</th><th scope=col>range</th><th scope=col>skew</th><th scope=col>kurtosis</th><th scope=col>se</th></tr>\n",
       "\t<tr><th></th><th scope=col>&lt;dbl&gt;</th><th scope=col>&lt;dbl&gt;</th><th scope=col>&lt;dbl&gt;</th><th scope=col>&lt;dbl&gt;</th><th scope=col>&lt;dbl&gt;</th><th scope=col>&lt;dbl&gt;</th><th scope=col>&lt;dbl&gt;</th><th scope=col>&lt;dbl&gt;</th><th scope=col>&lt;dbl&gt;</th><th scope=col>&lt;dbl&gt;</th><th scope=col>&lt;dbl&gt;</th><th scope=col>&lt;dbl&gt;</th><th scope=col>&lt;dbl&gt;</th></tr>\n",
       "</thead>\n",
       "<tbody>\n",
       "\t<tr><th scope=row>X1</th><td>1</td><td>14848</td><td>25.93049</td><td>3.89436</td><td>25.484</td><td>25.6693</td><td>3.683001</td><td>14.0766</td><td>40.4273</td><td>26.3507</td><td>0.6721219</td><td>0.5274924</td><td>0.03195966</td></tr>\n",
       "</tbody>\n",
       "</table>\n"
      ],
      "text/latex": [
       "A psych: 1 × 13\n",
       "\\begin{tabular}{r|lllllllllllll}\n",
       "  & vars & n & mean & sd & median & trimmed & mad & min & max & range & skew & kurtosis & se\\\\\n",
       "  & <dbl> & <dbl> & <dbl> & <dbl> & <dbl> & <dbl> & <dbl> & <dbl> & <dbl> & <dbl> & <dbl> & <dbl> & <dbl>\\\\\n",
       "\\hline\n",
       "\tX1 & 1 & 14848 & 25.93049 & 3.89436 & 25.484 & 25.6693 & 3.683001 & 14.0766 & 40.4273 & 26.3507 & 0.6721219 & 0.5274924 & 0.03195966\\\\\n",
       "\\end{tabular}\n"
      ],
      "text/markdown": [
       "\n",
       "A psych: 1 × 13\n",
       "\n",
       "| <!--/--> | vars &lt;dbl&gt; | n &lt;dbl&gt; | mean &lt;dbl&gt; | sd &lt;dbl&gt; | median &lt;dbl&gt; | trimmed &lt;dbl&gt; | mad &lt;dbl&gt; | min &lt;dbl&gt; | max &lt;dbl&gt; | range &lt;dbl&gt; | skew &lt;dbl&gt; | kurtosis &lt;dbl&gt; | se &lt;dbl&gt; |\n",
       "|---|---|---|---|---|---|---|---|---|---|---|---|---|---|\n",
       "| X1 | 1 | 14848 | 25.93049 | 3.89436 | 25.484 | 25.6693 | 3.683001 | 14.0766 | 40.4273 | 26.3507 | 0.6721219 | 0.5274924 | 0.03195966 |\n",
       "\n"
      ],
      "text/plain": [
       "   vars n     mean     sd      median trimmed mad      min     max     range  \n",
       "X1 1    14848 25.93049 3.89436 25.484 25.6693 3.683001 14.0766 40.4273 26.3507\n",
       "   skew      kurtosis  se        \n",
       "X1 0.6721219 0.5274924 0.03195966"
      ]
     },
     "metadata": {},
     "output_type": "display_data"
    },
    {
     "data": {
      "text/plain": [
       "\n",
       "Female   Male \n",
       "  8370   7092 "
      ]
     },
     "metadata": {},
     "output_type": "display_data"
    }
   ],
   "source": [
    "psych::describe(Sample_GMdiff$age_when_attended_assessment_centre_21003.2.0)\n",
    "psych::describe(Sample_GMdiff$body_mass_index_bmi_21001.2.0)\n",
    "table(Sample_GMdiff$sex_31.0.0)"
   ]
  },
  {
   "cell_type": "code",
   "execution_count": 34,
   "id": "e9cec95d-0260-4769-a290-1731d1fadc22",
   "metadata": {},
   "outputs": [
    {
     "data": {
      "text/html": [
       "<table class=\"dataframe\">\n",
       "<caption>A psych: 1 × 13</caption>\n",
       "<thead>\n",
       "\t<tr><th></th><th scope=col>vars</th><th scope=col>n</th><th scope=col>mean</th><th scope=col>sd</th><th scope=col>median</th><th scope=col>trimmed</th><th scope=col>mad</th><th scope=col>min</th><th scope=col>max</th><th scope=col>range</th><th scope=col>skew</th><th scope=col>kurtosis</th><th scope=col>se</th></tr>\n",
       "\t<tr><th></th><th scope=col>&lt;dbl&gt;</th><th scope=col>&lt;dbl&gt;</th><th scope=col>&lt;dbl&gt;</th><th scope=col>&lt;dbl&gt;</th><th scope=col>&lt;dbl&gt;</th><th scope=col>&lt;dbl&gt;</th><th scope=col>&lt;dbl&gt;</th><th scope=col>&lt;dbl&gt;</th><th scope=col>&lt;dbl&gt;</th><th scope=col>&lt;dbl&gt;</th><th scope=col>&lt;dbl&gt;</th><th scope=col>&lt;dbl&gt;</th><th scope=col>&lt;dbl&gt;</th></tr>\n",
       "</thead>\n",
       "<tbody>\n",
       "\t<tr><th scope=row>X1</th><td>1</td><td>15707</td><td>63.43369</td><td>7.501855</td><td>64</td><td>63.54237</td><td>8.8956</td><td>45</td><td>81</td><td>36</td><td>-0.1277524</td><td>-0.8412334</td><td>0.05985798</td></tr>\n",
       "</tbody>\n",
       "</table>\n"
      ],
      "text/latex": [
       "A psych: 1 × 13\n",
       "\\begin{tabular}{r|lllllllllllll}\n",
       "  & vars & n & mean & sd & median & trimmed & mad & min & max & range & skew & kurtosis & se\\\\\n",
       "  & <dbl> & <dbl> & <dbl> & <dbl> & <dbl> & <dbl> & <dbl> & <dbl> & <dbl> & <dbl> & <dbl> & <dbl> & <dbl>\\\\\n",
       "\\hline\n",
       "\tX1 & 1 & 15707 & 63.43369 & 7.501855 & 64 & 63.54237 & 8.8956 & 45 & 81 & 36 & -0.1277524 & -0.8412334 & 0.05985798\\\\\n",
       "\\end{tabular}\n"
      ],
      "text/markdown": [
       "\n",
       "A psych: 1 × 13\n",
       "\n",
       "| <!--/--> | vars &lt;dbl&gt; | n &lt;dbl&gt; | mean &lt;dbl&gt; | sd &lt;dbl&gt; | median &lt;dbl&gt; | trimmed &lt;dbl&gt; | mad &lt;dbl&gt; | min &lt;dbl&gt; | max &lt;dbl&gt; | range &lt;dbl&gt; | skew &lt;dbl&gt; | kurtosis &lt;dbl&gt; | se &lt;dbl&gt; |\n",
       "|---|---|---|---|---|---|---|---|---|---|---|---|---|---|\n",
       "| X1 | 1 | 15707 | 63.43369 | 7.501855 | 64 | 63.54237 | 8.8956 | 45 | 81 | 36 | -0.1277524 | -0.8412334 | 0.05985798 |\n",
       "\n"
      ],
      "text/plain": [
       "   vars n     mean     sd       median trimmed  mad    min max range skew      \n",
       "X1 1    15707 63.43369 7.501855 64     63.54237 8.8956 45  81  36    -0.1277524\n",
       "   kurtosis   se        \n",
       "X1 -0.8412334 0.05985798"
      ]
     },
     "metadata": {},
     "output_type": "display_data"
    },
    {
     "data": {
      "text/html": [
       "<table class=\"dataframe\">\n",
       "<caption>A psych: 1 × 13</caption>\n",
       "<thead>\n",
       "\t<tr><th></th><th scope=col>vars</th><th scope=col>n</th><th scope=col>mean</th><th scope=col>sd</th><th scope=col>median</th><th scope=col>trimmed</th><th scope=col>mad</th><th scope=col>min</th><th scope=col>max</th><th scope=col>range</th><th scope=col>skew</th><th scope=col>kurtosis</th><th scope=col>se</th></tr>\n",
       "\t<tr><th></th><th scope=col>&lt;dbl&gt;</th><th scope=col>&lt;dbl&gt;</th><th scope=col>&lt;dbl&gt;</th><th scope=col>&lt;dbl&gt;</th><th scope=col>&lt;dbl&gt;</th><th scope=col>&lt;dbl&gt;</th><th scope=col>&lt;dbl&gt;</th><th scope=col>&lt;dbl&gt;</th><th scope=col>&lt;dbl&gt;</th><th scope=col>&lt;dbl&gt;</th><th scope=col>&lt;dbl&gt;</th><th scope=col>&lt;dbl&gt;</th><th scope=col>&lt;dbl&gt;</th></tr>\n",
       "</thead>\n",
       "<tbody>\n",
       "\t<tr><th scope=row>X1</th><td>1</td><td>15075</td><td>25.93566</td><td>3.90211</td><td>25.4876</td><td>25.67111</td><td>3.693008</td><td>14.0766</td><td>40.4273</td><td>26.3507</td><td>0.6724843</td><td>0.5064738</td><td>0.03178124</td></tr>\n",
       "</tbody>\n",
       "</table>\n"
      ],
      "text/latex": [
       "A psych: 1 × 13\n",
       "\\begin{tabular}{r|lllllllllllll}\n",
       "  & vars & n & mean & sd & median & trimmed & mad & min & max & range & skew & kurtosis & se\\\\\n",
       "  & <dbl> & <dbl> & <dbl> & <dbl> & <dbl> & <dbl> & <dbl> & <dbl> & <dbl> & <dbl> & <dbl> & <dbl> & <dbl>\\\\\n",
       "\\hline\n",
       "\tX1 & 1 & 15075 & 25.93566 & 3.90211 & 25.4876 & 25.67111 & 3.693008 & 14.0766 & 40.4273 & 26.3507 & 0.6724843 & 0.5064738 & 0.03178124\\\\\n",
       "\\end{tabular}\n"
      ],
      "text/markdown": [
       "\n",
       "A psych: 1 × 13\n",
       "\n",
       "| <!--/--> | vars &lt;dbl&gt; | n &lt;dbl&gt; | mean &lt;dbl&gt; | sd &lt;dbl&gt; | median &lt;dbl&gt; | trimmed &lt;dbl&gt; | mad &lt;dbl&gt; | min &lt;dbl&gt; | max &lt;dbl&gt; | range &lt;dbl&gt; | skew &lt;dbl&gt; | kurtosis &lt;dbl&gt; | se &lt;dbl&gt; |\n",
       "|---|---|---|---|---|---|---|---|---|---|---|---|---|---|\n",
       "| X1 | 1 | 15075 | 25.93566 | 3.90211 | 25.4876 | 25.67111 | 3.693008 | 14.0766 | 40.4273 | 26.3507 | 0.6724843 | 0.5064738 | 0.03178124 |\n",
       "\n"
      ],
      "text/plain": [
       "   vars n     mean     sd      median  trimmed  mad      min     max    \n",
       "X1 1    15075 25.93566 3.90211 25.4876 25.67111 3.693008 14.0766 40.4273\n",
       "   range   skew      kurtosis  se        \n",
       "X1 26.3507 0.6724843 0.5064738 0.03178124"
      ]
     },
     "metadata": {},
     "output_type": "display_data"
    },
    {
     "data": {
      "text/plain": [
       "\n",
       "Female   Male \n",
       "  8465   7242 "
      ]
     },
     "metadata": {},
     "output_type": "display_data"
    }
   ],
   "source": [
    "psych::describe(Sample_GMcell$age_when_attended_assessment_centre_21003.2.0)\n",
    "psych::describe(Sample_GMcell$body_mass_index_bmi_21001.2.0)\n",
    "table(Sample_GMcell$sex_31.0.0)"
   ]
  },
  {
   "cell_type": "code",
   "execution_count": 35,
   "id": "c8b96c2d-8f5f-4eb7-98a0-70bb3ecd142b",
   "metadata": {},
   "outputs": [
    {
     "data": {
      "text/html": [
       "<table class=\"dataframe\">\n",
       "<caption>A psych: 1 × 13</caption>\n",
       "<thead>\n",
       "\t<tr><th></th><th scope=col>vars</th><th scope=col>n</th><th scope=col>mean</th><th scope=col>sd</th><th scope=col>median</th><th scope=col>trimmed</th><th scope=col>mad</th><th scope=col>min</th><th scope=col>max</th><th scope=col>range</th><th scope=col>skew</th><th scope=col>kurtosis</th><th scope=col>se</th></tr>\n",
       "\t<tr><th></th><th scope=col>&lt;dbl&gt;</th><th scope=col>&lt;dbl&gt;</th><th scope=col>&lt;dbl&gt;</th><th scope=col>&lt;dbl&gt;</th><th scope=col>&lt;dbl&gt;</th><th scope=col>&lt;dbl&gt;</th><th scope=col>&lt;dbl&gt;</th><th scope=col>&lt;dbl&gt;</th><th scope=col>&lt;dbl&gt;</th><th scope=col>&lt;dbl&gt;</th><th scope=col>&lt;dbl&gt;</th><th scope=col>&lt;dbl&gt;</th><th scope=col>&lt;dbl&gt;</th></tr>\n",
       "</thead>\n",
       "<tbody>\n",
       "\t<tr><th scope=row>X1</th><td>1</td><td>24272</td><td>63.96836</td><td>7.654636</td><td>64</td><td>64.03373</td><td>8.8956</td><td>44</td><td>83</td><td>39</td><td>-0.07514193</td><td>-0.78831</td><td>0.04913283</td></tr>\n",
       "</tbody>\n",
       "</table>\n"
      ],
      "text/latex": [
       "A psych: 1 × 13\n",
       "\\begin{tabular}{r|lllllllllllll}\n",
       "  & vars & n & mean & sd & median & trimmed & mad & min & max & range & skew & kurtosis & se\\\\\n",
       "  & <dbl> & <dbl> & <dbl> & <dbl> & <dbl> & <dbl> & <dbl> & <dbl> & <dbl> & <dbl> & <dbl> & <dbl> & <dbl>\\\\\n",
       "\\hline\n",
       "\tX1 & 1 & 24272 & 63.96836 & 7.654636 & 64 & 64.03373 & 8.8956 & 44 & 83 & 39 & -0.07514193 & -0.78831 & 0.04913283\\\\\n",
       "\\end{tabular}\n"
      ],
      "text/markdown": [
       "\n",
       "A psych: 1 × 13\n",
       "\n",
       "| <!--/--> | vars &lt;dbl&gt; | n &lt;dbl&gt; | mean &lt;dbl&gt; | sd &lt;dbl&gt; | median &lt;dbl&gt; | trimmed &lt;dbl&gt; | mad &lt;dbl&gt; | min &lt;dbl&gt; | max &lt;dbl&gt; | range &lt;dbl&gt; | skew &lt;dbl&gt; | kurtosis &lt;dbl&gt; | se &lt;dbl&gt; |\n",
       "|---|---|---|---|---|---|---|---|---|---|---|---|---|---|\n",
       "| X1 | 1 | 24272 | 63.96836 | 7.654636 | 64 | 64.03373 | 8.8956 | 44 | 83 | 39 | -0.07514193 | -0.78831 | 0.04913283 |\n",
       "\n"
      ],
      "text/plain": [
       "   vars n     mean     sd       median trimmed  mad    min max range\n",
       "X1 1    24272 63.96836 7.654636 64     64.03373 8.8956 44  83  39   \n",
       "   skew        kurtosis se        \n",
       "X1 -0.07514193 -0.78831 0.04913283"
      ]
     },
     "metadata": {},
     "output_type": "display_data"
    },
    {
     "data": {
      "text/html": [
       "<table class=\"dataframe\">\n",
       "<caption>A psych: 1 × 13</caption>\n",
       "<thead>\n",
       "\t<tr><th></th><th scope=col>vars</th><th scope=col>n</th><th scope=col>mean</th><th scope=col>sd</th><th scope=col>median</th><th scope=col>trimmed</th><th scope=col>mad</th><th scope=col>min</th><th scope=col>max</th><th scope=col>range</th><th scope=col>skew</th><th scope=col>kurtosis</th><th scope=col>se</th></tr>\n",
       "\t<tr><th></th><th scope=col>&lt;dbl&gt;</th><th scope=col>&lt;dbl&gt;</th><th scope=col>&lt;dbl&gt;</th><th scope=col>&lt;dbl&gt;</th><th scope=col>&lt;dbl&gt;</th><th scope=col>&lt;dbl&gt;</th><th scope=col>&lt;dbl&gt;</th><th scope=col>&lt;dbl&gt;</th><th scope=col>&lt;dbl&gt;</th><th scope=col>&lt;dbl&gt;</th><th scope=col>&lt;dbl&gt;</th><th scope=col>&lt;dbl&gt;</th><th scope=col>&lt;dbl&gt;</th></tr>\n",
       "</thead>\n",
       "<tbody>\n",
       "\t<tr><th scope=row>X1</th><td>1</td><td>23400</td><td>26.01681</td><td>3.982727</td><td>25.5536</td><td>25.74506</td><td>3.755722</td><td>14.0766</td><td>40.4273</td><td>26.3507</td><td>0.6743444</td><td>0.5107029</td><td>0.0260359</td></tr>\n",
       "</tbody>\n",
       "</table>\n"
      ],
      "text/latex": [
       "A psych: 1 × 13\n",
       "\\begin{tabular}{r|lllllllllllll}\n",
       "  & vars & n & mean & sd & median & trimmed & mad & min & max & range & skew & kurtosis & se\\\\\n",
       "  & <dbl> & <dbl> & <dbl> & <dbl> & <dbl> & <dbl> & <dbl> & <dbl> & <dbl> & <dbl> & <dbl> & <dbl> & <dbl>\\\\\n",
       "\\hline\n",
       "\tX1 & 1 & 23400 & 26.01681 & 3.982727 & 25.5536 & 25.74506 & 3.755722 & 14.0766 & 40.4273 & 26.3507 & 0.6743444 & 0.5107029 & 0.0260359\\\\\n",
       "\\end{tabular}\n"
      ],
      "text/markdown": [
       "\n",
       "A psych: 1 × 13\n",
       "\n",
       "| <!--/--> | vars &lt;dbl&gt; | n &lt;dbl&gt; | mean &lt;dbl&gt; | sd &lt;dbl&gt; | median &lt;dbl&gt; | trimmed &lt;dbl&gt; | mad &lt;dbl&gt; | min &lt;dbl&gt; | max &lt;dbl&gt; | range &lt;dbl&gt; | skew &lt;dbl&gt; | kurtosis &lt;dbl&gt; | se &lt;dbl&gt; |\n",
       "|---|---|---|---|---|---|---|---|---|---|---|---|---|---|\n",
       "| X1 | 1 | 23400 | 26.01681 | 3.982727 | 25.5536 | 25.74506 | 3.755722 | 14.0766 | 40.4273 | 26.3507 | 0.6743444 | 0.5107029 | 0.0260359 |\n",
       "\n"
      ],
      "text/plain": [
       "   vars n     mean     sd       median  trimmed  mad      min     max    \n",
       "X1 1    23400 26.01681 3.982727 25.5536 25.74506 3.755722 14.0766 40.4273\n",
       "   range   skew      kurtosis  se       \n",
       "X1 26.3507 0.6743444 0.5107029 0.0260359"
      ]
     },
     "metadata": {},
     "output_type": "display_data"
    },
    {
     "data": {
      "text/plain": [
       "\n",
       "Female   Male \n",
       " 12258  12014 "
      ]
     },
     "metadata": {},
     "output_type": "display_data"
    }
   ],
   "source": [
    "psych::describe(Sample_cog1$age_when_attended_assessment_centre_21003.2.0)\n",
    "psych::describe(Sample_cog1$body_mass_index_bmi_21001.2.0)\n",
    "table(Sample_cog1$sex_31.0.0)"
   ]
  },
  {
   "cell_type": "code",
   "execution_count": 36,
   "id": "649bc866-d514-4238-929e-805177d44763",
   "metadata": {},
   "outputs": [
    {
     "data": {
      "text/html": [
       "<table class=\"dataframe\">\n",
       "<caption>A psych: 1 × 13</caption>\n",
       "<thead>\n",
       "\t<tr><th></th><th scope=col>vars</th><th scope=col>n</th><th scope=col>mean</th><th scope=col>sd</th><th scope=col>median</th><th scope=col>trimmed</th><th scope=col>mad</th><th scope=col>min</th><th scope=col>max</th><th scope=col>range</th><th scope=col>skew</th><th scope=col>kurtosis</th><th scope=col>se</th></tr>\n",
       "\t<tr><th></th><th scope=col>&lt;dbl&gt;</th><th scope=col>&lt;dbl&gt;</th><th scope=col>&lt;dbl&gt;</th><th scope=col>&lt;dbl&gt;</th><th scope=col>&lt;dbl&gt;</th><th scope=col>&lt;dbl&gt;</th><th scope=col>&lt;dbl&gt;</th><th scope=col>&lt;dbl&gt;</th><th scope=col>&lt;dbl&gt;</th><th scope=col>&lt;dbl&gt;</th><th scope=col>&lt;dbl&gt;</th><th scope=col>&lt;dbl&gt;</th><th scope=col>&lt;dbl&gt;</th></tr>\n",
       "</thead>\n",
       "<tbody>\n",
       "\t<tr><th scope=row>X1</th><td>1</td><td>21156</td><td>64.86883</td><td>7.620287</td><td>65</td><td>64.94228</td><td>8.8956</td><td>44</td><td>83</td><td>39</td><td>-0.09250838</td><td>-0.8646307</td><td>0.05239074</td></tr>\n",
       "</tbody>\n",
       "</table>\n"
      ],
      "text/latex": [
       "A psych: 1 × 13\n",
       "\\begin{tabular}{r|lllllllllllll}\n",
       "  & vars & n & mean & sd & median & trimmed & mad & min & max & range & skew & kurtosis & se\\\\\n",
       "  & <dbl> & <dbl> & <dbl> & <dbl> & <dbl> & <dbl> & <dbl> & <dbl> & <dbl> & <dbl> & <dbl> & <dbl> & <dbl>\\\\\n",
       "\\hline\n",
       "\tX1 & 1 & 21156 & 64.86883 & 7.620287 & 65 & 64.94228 & 8.8956 & 44 & 83 & 39 & -0.09250838 & -0.8646307 & 0.05239074\\\\\n",
       "\\end{tabular}\n"
      ],
      "text/markdown": [
       "\n",
       "A psych: 1 × 13\n",
       "\n",
       "| <!--/--> | vars &lt;dbl&gt; | n &lt;dbl&gt; | mean &lt;dbl&gt; | sd &lt;dbl&gt; | median &lt;dbl&gt; | trimmed &lt;dbl&gt; | mad &lt;dbl&gt; | min &lt;dbl&gt; | max &lt;dbl&gt; | range &lt;dbl&gt; | skew &lt;dbl&gt; | kurtosis &lt;dbl&gt; | se &lt;dbl&gt; |\n",
       "|---|---|---|---|---|---|---|---|---|---|---|---|---|---|\n",
       "| X1 | 1 | 21156 | 64.86883 | 7.620287 | 65 | 64.94228 | 8.8956 | 44 | 83 | 39 | -0.09250838 | -0.8646307 | 0.05239074 |\n",
       "\n"
      ],
      "text/plain": [
       "   vars n     mean     sd       median trimmed  mad    min max range\n",
       "X1 1    21156 64.86883 7.620287 65     64.94228 8.8956 44  83  39   \n",
       "   skew        kurtosis   se        \n",
       "X1 -0.09250838 -0.8646307 0.05239074"
      ]
     },
     "metadata": {},
     "output_type": "display_data"
    },
    {
     "data": {
      "text/html": [
       "<table class=\"dataframe\">\n",
       "<caption>A psych: 1 × 13</caption>\n",
       "<thead>\n",
       "\t<tr><th></th><th scope=col>vars</th><th scope=col>n</th><th scope=col>mean</th><th scope=col>sd</th><th scope=col>median</th><th scope=col>trimmed</th><th scope=col>mad</th><th scope=col>min</th><th scope=col>max</th><th scope=col>range</th><th scope=col>skew</th><th scope=col>kurtosis</th><th scope=col>se</th></tr>\n",
       "\t<tr><th></th><th scope=col>&lt;dbl&gt;</th><th scope=col>&lt;dbl&gt;</th><th scope=col>&lt;dbl&gt;</th><th scope=col>&lt;dbl&gt;</th><th scope=col>&lt;dbl&gt;</th><th scope=col>&lt;dbl&gt;</th><th scope=col>&lt;dbl&gt;</th><th scope=col>&lt;dbl&gt;</th><th scope=col>&lt;dbl&gt;</th><th scope=col>&lt;dbl&gt;</th><th scope=col>&lt;dbl&gt;</th><th scope=col>&lt;dbl&gt;</th><th scope=col>&lt;dbl&gt;</th></tr>\n",
       "</thead>\n",
       "<tbody>\n",
       "\t<tr><th scope=row>X1</th><td>1</td><td>20226</td><td>25.97449</td><td>3.977072</td><td>25.5297</td><td>25.70906</td><td>3.774996</td><td>13.388</td><td>40.4193</td><td>27.0313</td><td>0.6603193</td><td>0.4943075</td><td>0.02796459</td></tr>\n",
       "</tbody>\n",
       "</table>\n"
      ],
      "text/latex": [
       "A psych: 1 × 13\n",
       "\\begin{tabular}{r|lllllllllllll}\n",
       "  & vars & n & mean & sd & median & trimmed & mad & min & max & range & skew & kurtosis & se\\\\\n",
       "  & <dbl> & <dbl> & <dbl> & <dbl> & <dbl> & <dbl> & <dbl> & <dbl> & <dbl> & <dbl> & <dbl> & <dbl> & <dbl>\\\\\n",
       "\\hline\n",
       "\tX1 & 1 & 20226 & 25.97449 & 3.977072 & 25.5297 & 25.70906 & 3.774996 & 13.388 & 40.4193 & 27.0313 & 0.6603193 & 0.4943075 & 0.02796459\\\\\n",
       "\\end{tabular}\n"
      ],
      "text/markdown": [
       "\n",
       "A psych: 1 × 13\n",
       "\n",
       "| <!--/--> | vars &lt;dbl&gt; | n &lt;dbl&gt; | mean &lt;dbl&gt; | sd &lt;dbl&gt; | median &lt;dbl&gt; | trimmed &lt;dbl&gt; | mad &lt;dbl&gt; | min &lt;dbl&gt; | max &lt;dbl&gt; | range &lt;dbl&gt; | skew &lt;dbl&gt; | kurtosis &lt;dbl&gt; | se &lt;dbl&gt; |\n",
       "|---|---|---|---|---|---|---|---|---|---|---|---|---|---|\n",
       "| X1 | 1 | 20226 | 25.97449 | 3.977072 | 25.5297 | 25.70906 | 3.774996 | 13.388 | 40.4193 | 27.0313 | 0.6603193 | 0.4943075 | 0.02796459 |\n",
       "\n"
      ],
      "text/plain": [
       "   vars n     mean     sd       median  trimmed  mad      min    max    \n",
       "X1 1    20226 25.97449 3.977072 25.5297 25.70906 3.774996 13.388 40.4193\n",
       "   range   skew      kurtosis  se        \n",
       "X1 27.0313 0.6603193 0.4943075 0.02796459"
      ]
     },
     "metadata": {},
     "output_type": "display_data"
    },
    {
     "data": {
      "text/plain": [
       "\n",
       "Female   Male \n",
       " 10881  10275 "
      ]
     },
     "metadata": {},
     "output_type": "display_data"
    }
   ],
   "source": [
    "psych::describe(Sample_cog2$age_when_attended_assessment_centre_21003.2.0)\n",
    "psych::describe(Sample_cog2$body_mass_index_bmi_21001.2.0)\n",
    "table(Sample_cog2$sex_31.0.0)"
   ]
  },
  {
   "cell_type": "code",
   "execution_count": 37,
   "id": "de0cea5a-bae3-4f92-8430-ec65c9a732d0",
   "metadata": {},
   "outputs": [
    {
     "data": {
      "text/html": [
       "<table class=\"dataframe\">\n",
       "<caption>A psych: 1 × 13</caption>\n",
       "<thead>\n",
       "\t<tr><th></th><th scope=col>vars</th><th scope=col>n</th><th scope=col>mean</th><th scope=col>sd</th><th scope=col>median</th><th scope=col>trimmed</th><th scope=col>mad</th><th scope=col>min</th><th scope=col>max</th><th scope=col>range</th><th scope=col>skew</th><th scope=col>kurtosis</th><th scope=col>se</th></tr>\n",
       "\t<tr><th></th><th scope=col>&lt;dbl&gt;</th><th scope=col>&lt;dbl&gt;</th><th scope=col>&lt;dbl&gt;</th><th scope=col>&lt;dbl&gt;</th><th scope=col>&lt;dbl&gt;</th><th scope=col>&lt;dbl&gt;</th><th scope=col>&lt;dbl&gt;</th><th scope=col>&lt;dbl&gt;</th><th scope=col>&lt;dbl&gt;</th><th scope=col>&lt;dbl&gt;</th><th scope=col>&lt;dbl&gt;</th><th scope=col>&lt;dbl&gt;</th><th scope=col>&lt;dbl&gt;</th></tr>\n",
       "</thead>\n",
       "<tbody>\n",
       "\t<tr><th scope=row>X1</th><td>1</td><td>28537</td><td>64.48954</td><td>7.705163</td><td>65</td><td>64.60168</td><td>8.8956</td><td>44</td><td>84</td><td>40</td><td>-0.1265331</td><td>-0.7829608</td><td>0.04561185</td></tr>\n",
       "</tbody>\n",
       "</table>\n"
      ],
      "text/latex": [
       "A psych: 1 × 13\n",
       "\\begin{tabular}{r|lllllllllllll}\n",
       "  & vars & n & mean & sd & median & trimmed & mad & min & max & range & skew & kurtosis & se\\\\\n",
       "  & <dbl> & <dbl> & <dbl> & <dbl> & <dbl> & <dbl> & <dbl> & <dbl> & <dbl> & <dbl> & <dbl> & <dbl> & <dbl>\\\\\n",
       "\\hline\n",
       "\tX1 & 1 & 28537 & 64.48954 & 7.705163 & 65 & 64.60168 & 8.8956 & 44 & 84 & 40 & -0.1265331 & -0.7829608 & 0.04561185\\\\\n",
       "\\end{tabular}\n"
      ],
      "text/markdown": [
       "\n",
       "A psych: 1 × 13\n",
       "\n",
       "| <!--/--> | vars &lt;dbl&gt; | n &lt;dbl&gt; | mean &lt;dbl&gt; | sd &lt;dbl&gt; | median &lt;dbl&gt; | trimmed &lt;dbl&gt; | mad &lt;dbl&gt; | min &lt;dbl&gt; | max &lt;dbl&gt; | range &lt;dbl&gt; | skew &lt;dbl&gt; | kurtosis &lt;dbl&gt; | se &lt;dbl&gt; |\n",
       "|---|---|---|---|---|---|---|---|---|---|---|---|---|---|\n",
       "| X1 | 1 | 28537 | 64.48954 | 7.705163 | 65 | 64.60168 | 8.8956 | 44 | 84 | 40 | -0.1265331 | -0.7829608 | 0.04561185 |\n",
       "\n"
      ],
      "text/plain": [
       "   vars n     mean     sd       median trimmed  mad    min max range skew      \n",
       "X1 1    28537 64.48954 7.705163 65     64.60168 8.8956 44  84  40    -0.1265331\n",
       "   kurtosis   se        \n",
       "X1 -0.7829608 0.04561185"
      ]
     },
     "metadata": {},
     "output_type": "display_data"
    },
    {
     "data": {
      "text/html": [
       "<table class=\"dataframe\">\n",
       "<caption>A psych: 1 × 13</caption>\n",
       "<thead>\n",
       "\t<tr><th></th><th scope=col>vars</th><th scope=col>n</th><th scope=col>mean</th><th scope=col>sd</th><th scope=col>median</th><th scope=col>trimmed</th><th scope=col>mad</th><th scope=col>min</th><th scope=col>max</th><th scope=col>range</th><th scope=col>skew</th><th scope=col>kurtosis</th><th scope=col>se</th></tr>\n",
       "\t<tr><th></th><th scope=col>&lt;dbl&gt;</th><th scope=col>&lt;dbl&gt;</th><th scope=col>&lt;dbl&gt;</th><th scope=col>&lt;dbl&gt;</th><th scope=col>&lt;dbl&gt;</th><th scope=col>&lt;dbl&gt;</th><th scope=col>&lt;dbl&gt;</th><th scope=col>&lt;dbl&gt;</th><th scope=col>&lt;dbl&gt;</th><th scope=col>&lt;dbl&gt;</th><th scope=col>&lt;dbl&gt;</th><th scope=col>&lt;dbl&gt;</th><th scope=col>&lt;dbl&gt;</th></tr>\n",
       "</thead>\n",
       "<tbody>\n",
       "\t<tr><th scope=row>X1</th><td>1</td><td>27512</td><td>25.90035</td><td>3.904203</td><td>25.4737</td><td>25.65473</td><td>3.714358</td><td>14.0766</td><td>40.4193</td><td>26.3427</td><td>0.6319364</td><td>0.4690068</td><td>0.02353809</td></tr>\n",
       "</tbody>\n",
       "</table>\n"
      ],
      "text/latex": [
       "A psych: 1 × 13\n",
       "\\begin{tabular}{r|lllllllllllll}\n",
       "  & vars & n & mean & sd & median & trimmed & mad & min & max & range & skew & kurtosis & se\\\\\n",
       "  & <dbl> & <dbl> & <dbl> & <dbl> & <dbl> & <dbl> & <dbl> & <dbl> & <dbl> & <dbl> & <dbl> & <dbl> & <dbl>\\\\\n",
       "\\hline\n",
       "\tX1 & 1 & 27512 & 25.90035 & 3.904203 & 25.4737 & 25.65473 & 3.714358 & 14.0766 & 40.4193 & 26.3427 & 0.6319364 & 0.4690068 & 0.02353809\\\\\n",
       "\\end{tabular}\n"
      ],
      "text/markdown": [
       "\n",
       "A psych: 1 × 13\n",
       "\n",
       "| <!--/--> | vars &lt;dbl&gt; | n &lt;dbl&gt; | mean &lt;dbl&gt; | sd &lt;dbl&gt; | median &lt;dbl&gt; | trimmed &lt;dbl&gt; | mad &lt;dbl&gt; | min &lt;dbl&gt; | max &lt;dbl&gt; | range &lt;dbl&gt; | skew &lt;dbl&gt; | kurtosis &lt;dbl&gt; | se &lt;dbl&gt; |\n",
       "|---|---|---|---|---|---|---|---|---|---|---|---|---|---|\n",
       "| X1 | 1 | 27512 | 25.90035 | 3.904203 | 25.4737 | 25.65473 | 3.714358 | 14.0766 | 40.4193 | 26.3427 | 0.6319364 | 0.4690068 | 0.02353809 |\n",
       "\n"
      ],
      "text/plain": [
       "   vars n     mean     sd       median  trimmed  mad      min     max    \n",
       "X1 1    27512 25.90035 3.904203 25.4737 25.65473 3.714358 14.0766 40.4193\n",
       "   range   skew      kurtosis  se        \n",
       "X1 26.3427 0.6319364 0.4690068 0.02353809"
      ]
     },
     "metadata": {},
     "output_type": "display_data"
    },
    {
     "data": {
      "text/plain": [
       "\n",
       "Female   Male \n",
       " 14614  13923 "
      ]
     },
     "metadata": {},
     "output_type": "display_data"
    }
   ],
   "source": [
    "psych::describe(Sample_blood$age_when_attended_assessment_centre_21003.2.0)\n",
    "psych::describe(Sample_blood$body_mass_index_bmi_21001.2.0)\n",
    "table(Sample_blood$sex_31.0.0)"
   ]
  },
  {
   "cell_type": "markdown",
   "id": "6fd4d993-2351-48b8-a810-4fbddcc819ba",
   "metadata": {
    "jp-MarkdownHeadingCollapsed": true
   },
   "source": [
    "# Metabolic analyses"
   ]
  },
  {
   "cell_type": "code",
   "execution_count": 21,
   "id": "10801c66-b1bd-43b0-9823-433409945524",
   "metadata": {},
   "outputs": [],
   "source": [
    "corrs=c('c.reactive_protein_30710.0.0','triglycerides_30870.0.0','glycated_haemoglobin_hba1c_30750.0.0', \n",
    "         'hdl_cholesterol_30760.0.0', 'ldl_direct_30780.0.0', 'glucose_30740.0.0',\n",
    "         'systolic_blood_pressure_automated_reading_4080.0.0', 'diastolic_blood_pressure_automated_reading_4079.0.0',\n",
    "         'sodium','total_sugar','saturated_fa','visceral_adipose_tissue_volume_vat_22407.2.0', 'WHR', 'body_mass_index_bmi_21001.2.0',\n",
    "         'fiber')"
   ]
  },
  {
   "cell_type": "code",
   "execution_count": 22,
   "id": "c7893fa5-ebfa-46e3-8bcc-055e31158ca0",
   "metadata": {},
   "outputs": [],
   "source": [
    "results=matrix(nrow=length(corrs), ncol=6)\n",
    "\n",
    "for (i in 1:length(corrs)){\n",
    "\n",
    "    cor_res=cor.test(data$upf_perc, data[[corrs[i]]])\n",
    "\n",
    "    results[i,1]=corrs[i]\n",
    "    results[i,2]=cor_res$estimate\n",
    "    results[i,3]=cor_res$p.value\n",
    "    results[i,4]=cor_res$conf.int[1]\n",
    "    results[i,5]=cor_res$conf.int[2]\n",
    "    results[i,6]=cor_res$parameter+2\n",
    "    \n",
    "}\n",
    "\n",
    "results[,3]=p.adjust(results[,3], method='BH')\n",
    "results=as.data.frame(results)\n",
    "colnames(results)=c('Label','Correlation_Coefficient','P-value','CI_low','CI_up', 'Sample size')\n",
    "results[,2:5]=sapply(results[,2:5], function(x) (as.numeric(x))) "
   ]
  },
  {
   "cell_type": "code",
   "execution_count": 24,
   "id": "b32dd6f3-ef2b-4128-96c4-9b5351f4f6b2",
   "metadata": {},
   "outputs": [
    {
     "data": {
      "text/plain": [
       "\n",
       "\tPearson's product-moment correlation\n",
       "\n",
       "data:  data$glucose_30740.0.0 and data$fiber\n",
       "t = -1.2977, df = 27027, p-value = 0.1944\n",
       "alternative hypothesis: true correlation is not equal to 0\n",
       "95 percent confidence interval:\n",
       " -0.019813340  0.004028489\n",
       "sample estimates:\n",
       "         cor \n",
       "-0.007893547 \n"
      ]
     },
     "metadata": {},
     "output_type": "display_data"
    }
   ],
   "source": [
    "cor.test(data$glucose_30740.0.0, data$fiber)"
   ]
  },
  {
   "cell_type": "code",
   "execution_count": 35,
   "id": "85ab3b8e-f909-450e-9227-bcf2bd1675fa",
   "metadata": {},
   "outputs": [
    {
     "data": {
      "text/html": [
       "<strong>png:</strong> 2"
      ],
      "text/latex": [
       "\\textbf{png:} 2"
      ],
      "text/markdown": [
       "**png:** 2"
      ],
      "text/plain": [
       "png \n",
       "  2 "
      ]
     },
     "metadata": {},
     "output_type": "display_data"
    }
   ],
   "source": [
    "results$FDR <- ifelse(results$'P-value' < 0.05, \"p < 0.05\", \"p >= 0.05\")\n",
    "results$Label=c('CRP', 'TG', 'HbA1c', 'HDL', 'LDL', 'Glucose', 'Systolic blood pressure', 'Diastolic blood pressure', \n",
    "                'Sodium', 'Total sugar', 'Saturated fatty acids', 'Visceral adipose tissue','WHR','BMI')\n",
    "\n",
    "png('/dagher/dagher11/filip/UPF/figures/Base_correlations.png', width=1500, height=1000, res=300)\n",
    "results %>%\n",
    "  arrange(desc(Correlation_Coefficient)) %>%    \n",
    "  mutate(Label=factor(Label, levels=Label)) %>%   \n",
    "  ggplot(aes(x=Label, y=Correlation_Coefficient, ymin=CI_low, ymax=CI_up, colour=FDR)) +\n",
    "        geom_pointrange() + \n",
    "        geom_hline(yintercept=0, lty=2) +  # add a dotted line at x=0 after flip\n",
    "        coord_flip() +  # flip coordinates (puts labels on y axis)\n",
    "        xlab(\"Label\") + ylab(\"Correlation coefficient/SE\") +\n",
    "        theme_bw() +# use a white background\n",
    "        scale_colour_manual(values=c(\"p < 0.05\" = \"#ed563d\", \"p >= 0.05\" = \"#000000\"))  # specify colours\n",
    "dev.off()"
   ]
  },
  {
   "cell_type": "code",
   "execution_count": 36,
   "id": "e893d2d0-687f-46c2-8a8e-2c681df5dd8c",
   "metadata": {},
   "outputs": [],
   "source": [
    "results=results %>% mutate_if(is.numeric, round_and_format, digits = 4, threshold = 0.0001)\n",
    "tab_corr=flextable(results[,c(1:6)])\n",
    "tab_corr=autofit(tab_corr, add_w = 0.1,add_h = 0.1,part = c(\"body\", \"header\"),unit = \"in\")  %>% fit_to_width(max_width=8) %>% \n",
    "set_caption(tab_corr, caption = 'Table S1 Associations between ultraprocessed food intake, metabolic variables, and nutrients intake')"
   ]
  },
  {
   "cell_type": "markdown",
   "id": "e4480f7c-60e6-4e76-8b38-9b2f3621129a",
   "metadata": {},
   "source": [
    "# Brain data"
   ]
  },
  {
   "cell_type": "markdown",
   "id": "0d0fd1bf-92ed-43c0-9e7a-ee943da6b360",
   "metadata": {},
   "source": [
    "## Cortical thickness and surface area"
   ]
  },
  {
   "cell_type": "code",
   "execution_count": 79,
   "id": "b66aa6a0-950e-4714-96e5-b9c1aac8c44f",
   "metadata": {},
   "outputs": [],
   "source": [
    "results=matrix(ncol=7,nrow=length(c(grep('area_of',colnames(data)),\n",
    "                                   grep('mean_thickness_of',colnames(data))))) \n",
    "\n",
    "for (i in 1:length(c(grep('area_of',colnames(data)),\n",
    "                    grep('mean_thickness_of',colnames(data))))) \n",
    "{ \n",
    "    \n",
    "    m1=summary(lm(data[c(grep('area_of',colnames(data)),\n",
    "                           grep('mean_thickness_of',colnames(data)))][[i]] ~ \n",
    "          data$upf_perc +\n",
    "          data$saturated_fa +\n",
    "          data$total_sugar + \n",
    "          data$sodium +\n",
    "          data$body_mass_index_bmi_21001.2.0 +\n",
    "          data$kJ_sum +\n",
    "          poly(data$age_when_attended_assessment_centre_21003.2.0, 2, raw=TRUE) *\n",
    "          data$sex_31.0.0 + \n",
    "          poly(difftime(as.Date(data$date_of_attending_assessment_centre_53.2.0), \n",
    "                   min(as.Date(data$date_of_attending_assessment_centre_53.2.0)), units='days'), 2, raw=TRUE) +\n",
    "          data$uk_biobank_assessment_centre_54.2.0 +\n",
    "          data$qualifications_6138.2.0  +\n",
    "          data$smoking_status_20116.2.0 +\n",
    "          data$alcohol + \n",
    "          data$average_total_household_income_before_tax_738.2.0 +\n",
    "          data$number_of_daysweek_of_vigorous_physical_activity_10._minutes_904.2.0 +\n",
    "          data$volume_of_estimatedtotalintracranial_whole_brain_26521.2.0 +\n",
    "          data$number_of_daysweek_of_moderate_physical_activity_10._minutes_884.2.0 \n",
    "                ))\n",
    "    \n",
    "    results[i,1]=colnames(data)[c(grep('area_of',colnames(data)),\n",
    "                                   grep('mean_thickness_of',colnames(data)))][i] \n",
    "    results[i,2]=m1$coefficients[2,4] # p-value \n",
    "    results[i,3]=m1$coefficients[2,3] # t-value \n",
    "    results[i,4]=m1$coefficients[2,1] # est for \n",
    "    results[i,5]=m1$coefficients[2,2] # se for \n",
    "    results[i,6]=ifelse(grepl(\"left\",results[i,1]),\"left\",\"right\") #save hemisphere\n",
    "    results[i,7]=m1$df[2]+m1$df[1] #\n",
    "\n",
    "}\n",
    "\n",
    "colnames(results)=c('Parcel','p-value', 't-value', 'est', 'se', 'hemisphere','n')"
   ]
  },
  {
   "cell_type": "code",
   "execution_count": 80,
   "id": "6bb9fee8-d8cb-4fd2-818f-ce8868451caf",
   "metadata": {},
   "outputs": [],
   "source": [
    "results[1:62,2]=p.adjust(results[1:62,2], method='BH')\n",
    "results[63:124,2]=p.adjust(results[63:124,2], method='BH')\n",
    "results=as.data.frame(results)\n",
    "results$measure=c(rep('Area', 62),rep('Thickness',62))\n",
    "colnames(results)=c('region','p','t','est','se','hemi','Sample size','phenotype')\n",
    "results$t=as.numeric(results$t)\n",
    "results$p=as.numeric(results$p)\n",
    "results$se=as.numeric(results$se)\n",
    "results$est=as.numeric(results$est)\n",
    "results$region=rep(plot_struct_title,4)"
   ]
  },
  {
   "cell_type": "code",
   "execution_count": 81,
   "id": "937ee76d-3a26-4706-b497-3d0d79b7b40a",
   "metadata": {},
   "outputs": [],
   "source": [
    "plot_brain = results[results$p<0.05,] %>%\n",
    "              group_by(phenotype) %>%\n",
    "              ggplot() + geom_brain(atlas = dkt, \n",
    "                         #position = position_brain(hemi ~ side),\n",
    "                         aes(fill = t, color=I(\"darkgrey\"))) +              \n",
    "                         facet_wrap(.~phenotype, nrow=2) +\n",
    "                         #ggtitle(label) + \n",
    "                         theme_minimal() +\n",
    "                         theme(axis.text.y = element_blank(),\n",
    "                               axis.text.x = element_blank(),\n",
    "                               strip.background =element_rect(fill=\"white\", colour='white'),\n",
    "                               strip.text = element_text(colour = 'black', family=\"Arial\"),\n",
    "                               plot.title = element_text(hjust = 0.5, family=\"Arial\"),\n",
    "                               legend.position=\"bottom\",\n",
    "                               panel.grid.major = element_blank(), \n",
    "                               panel.grid.minor = element_blank()) + scale_fill_gradient2(midpoint=0, low=\"#00203FFF\", mid=\"white\",\n",
    "                                 high=\"#ADEFD1FF\", space =\"Lab\", na.value='white')"
   ]
  },
  {
   "cell_type": "code",
   "execution_count": 82,
   "id": "3cbe8ce6-dcf6-4962-b968-e378ee0d3e84",
   "metadata": {},
   "outputs": [],
   "source": [
    "results=results %>% mutate_if(is.numeric, round_and_format, digits = 4, threshold = 0.0001)\n",
    "tab_cortex=flextable(results[,c(1,6,2:5,8,7)])\n",
    "tab_cortex=autofit(tab_cortex, add_w = 0.1,add_h = 0.1,part = c(\"body\", \"header\"),unit = \"in\")  %>% fit_to_width(max_width=8) %>% \n",
    "set_caption(tab_cortex, caption = 'Table S2 Associations between cortical thickness and area and ultraprocessed food intake')"
   ]
  },
  {
   "cell_type": "code",
   "execution_count": 83,
   "id": "2715810d-c4b6-48cc-98fb-ca99166d7d88",
   "metadata": {},
   "outputs": [],
   "source": [
    "results$FDR <- ifelse(results$p < 0.05, \"p < 0.05\", \"p >= 0.05\")\n",
    "results$hemi_offset <- ifelse(results$hemi == \"left\", 0.1, -0.1)\n",
    "\n",
    "results <- results %>%\n",
    "   mutate(legend_color = interaction(FDR, hemi))\n",
    "\n",
    "results$legend_color=factor(results$legend_color, levels=c('p >= 0.05.left', 'p >= 0.05.right','p < 0.05.left', 'p < 0.05.right' ))\n",
    "\n",
    "forest_CTSA=results %>%\n",
    "  mutate(region = factor(region, levels = plot_struct_title, ordered=T)) %>%\n",
    "ggplot(aes(x=region, y=est, ymin=est-se, ymax=est+se, colour=legend_color)) +\n",
    "        geom_pointrange(position = position_nudge(x = results$hemi_offset)) + \n",
    "        geom_hline(yintercept=0, lty=2) +  \n",
    "        coord_flip() +\n",
    "        xlab(\"\") + ylab(\"Beta/SE\") +\n",
    "        theme_bw() + \n",
    "        facet_grid(~phenotype, scales=\"free\") + \n",
    "                scale_colour_manual(values=c(\"p >= 0.05.right\" = \"#F5C7B8FF\", \"p >= 0.05.left\" = \"#9FB1BCFF\", \n",
    "                                     \"p < 0.05.right\" = \"#e05022\", \"p < 0.05.left\" = \"#2E5266FF\"),\n",
    "                           labels = c(\"p>0.05 (Left)\", \n",
    "                                  \"p>0.05 (Right/BL)\",\n",
    "                                  \"p<0.05 (Left)\",\n",
    "                                  \"p<0.05 (Right/BL)\"), drop=FALSE) +\n",
    "        guides(colour = guide_legend(title = \"\")) +\n",
    "        theme(legend.position=\"left\", strip.background =element_rect(fill=\"white\"))"
   ]
  },
  {
   "cell_type": "markdown",
   "id": "cac0d195-8236-4f53-ac85-6397c5283b3a",
   "metadata": {},
   "source": [
    "## Subcortical volumes"
   ]
  },
  {
   "cell_type": "code",
   "execution_count": 11,
   "id": "0ee7376b-cbbe-4fb0-99b1-5658ed532cbf",
   "metadata": {},
   "outputs": [],
   "source": [
    "results=matrix(ncol=7,nrow=length(grep('volume_of',colnames(data))[c(1:7, 103:107, 8:9)])) \n",
    "\n",
    "        for (i in 1:length(c(grep('volume_of',colnames(data))[c(1:7, 103:107, 8:9)]))) \n",
    "        { \n",
    "            \n",
    "            m=lm(data[grep('volume_of',colnames(data))[c(1:7, 103:107, 8:9)]][[i]]/\n",
    "                                   data$volume_of_estimatedtotalintracranial_whole_brain_26521.2.0 ~ \n",
    "                      data$upf_perc +\n",
    "                      data$saturated_fa +\n",
    "                      data$total_sugar + \n",
    "                      data$sodium +\n",
    "                      data$body_mass_index_bmi_21001.2.0 +\n",
    "                      data$kJ_sum +\n",
    "                      poly(data$age_when_attended_assessment_centre_21003.2.0, 2, raw=TRUE) *\n",
    "                      data$sex_31.0.0 + \n",
    "                      poly(difftime(as.Date(data$date_of_attending_assessment_centre_53.2.0), \n",
    "                               min(as.Date(data$date_of_attending_assessment_centre_53.2.0)), units='days'), 2, raw=TRUE) +\n",
    "                      data$uk_biobank_assessment_centre_54.2.0 +\n",
    "                      data$qualifications_6138.2.0  +\n",
    "                      data$smoking_status_20116.2.0 +\n",
    "                      data$alcohol + \n",
    "                      data$average_total_household_income_before_tax_738.2.0 +\n",
    "                      data$number_of_daysweek_of_vigorous_physical_activity_10._minutes_904.2.0 +\n",
    "                      data$number_of_daysweek_of_moderate_physical_activity_10._minutes_884.2.0\n",
    "                        )\n",
    "\n",
    "m1=summary(m)\n",
    "\n",
    "                        results[i,1]=colnames(data)[grep('volume_of',colnames(data))[c(1:7, 103:107, 8:9)]][i] \n",
    "                        results[i,2]=m1$coefficients[2,4] # p-value \n",
    "                        results[i,3]=m1$coefficients[2,3] # F-value \n",
    "                        results[i,4]=m1$coefficients[2,1] # est\n",
    "                        results[i,5]=m1$coefficients[2,2] # se\n",
    "                        results[i,6]=ifelse(grepl(\"left\",results[i,1]),\"left\",\"right\") #save hemisphere\n",
    "                        results[i,7]=m1$df[2]+m1$df[1]\n",
    "\n",
    "            }"
   ]
  },
  {
   "cell_type": "code",
   "execution_count": 12,
   "id": "013b89ae-fcc0-40b0-8b3d-d84c62296816",
   "metadata": {},
   "outputs": [],
   "source": [
    "results[,2]=p.adjust(results[,2], method='BH')\n",
    "results=as.data.frame(results)\n",
    "colnames(results)=c('label','p','t','est','se','hemisphere','Sample size')\n",
    "results$t=as.numeric(results$t)\n",
    "results$p=as.numeric(results$p)\n",
    "results$est=as.numeric(results$est)\n",
    "results$se=as.numeric(results$se)\n",
    "results$label=c('Caudate','Caudate',\n",
    "                    'Putamen','Putamen','Pallidum','Pallidum',\n",
    "                    'Thalamus Proper','Thalamus Proper',\n",
    "                    'Hippocampus','Hippocampus','Accumbens area','Accumbens area',\n",
    "                    'Amygdala','Amygdala')"
   ]
  },
  {
   "cell_type": "code",
   "execution_count": 13,
   "id": "0d82de70-43bd-4ebe-91e5-c5311cf4de69",
   "metadata": {},
   "outputs": [],
   "source": [
    "   sub_plot = results[results$p<0.05,] %>% \n",
    "                  ggplot() + geom_brain(atlas = aseg, \n",
    "                             #position = position_brain(hemi ~ side),\n",
    "                             aes(fill = t, color=I(\"black\")), side = \"coronal\") +              \n",
    "                             #ggtitle(paste(label, '', sep='')) + \n",
    "                             theme_minimal() +\n",
    "                             theme(axis.text.y = element_blank(),\n",
    "                                   axis.text.x = element_blank(),\n",
    "                                   strip.background =element_rect(fill=\"white\", colour='white'),\n",
    "                                   strip.text = element_text(colour = 'black', family=\"Arial\"),\n",
    "                                   plot.title = element_text(hjust = 0.5, family=\"Arial\"),\n",
    "                                   legend.position=\"bottom\",\n",
    "                                   panel.grid.major = element_blank(), \n",
    "                                   panel.grid.minor = element_blank()) + \n",
    "                             scale_fill_gradient2(midpoint=0, low=\"#00203FFF\", mid=\"white\",\n",
    "                                 high=\"#68e2aa\", space =\"Lab\", na.value='white')"
   ]
  },
  {
   "cell_type": "code",
   "execution_count": 14,
   "id": "9c745af6-2101-47bd-a222-4fd1aa4caec8",
   "metadata": {},
   "outputs": [],
   "source": [
    "results$FDR <- ifelse(results$p < 0.05, \"p < 0.05\", \"p >= 0.05\")\n",
    "results_subvol=results\n",
    "results_subvol$hemi_offset <- ifelse(results_subvol$hemisphere == \"left\", 0.1, -0.1)\n",
    "\n",
    "forest_subvol=results_subvol %>%\n",
    "  mutate(label = factor(label, levels = c('Caudate',\n",
    "                    'Putamen','Pallidum',\n",
    "                    'Thalamus Proper',\n",
    "                    'Hippocampus','Accumbens area',\n",
    "                    'Amygdala'), ordered=T)) %>%\n",
    "ggplot(aes(x=label, y=est, ymin=est-se, ymax=est+se, colour=interaction(FDR,hemisphere))) +\n",
    "        geom_pointrange(position = position_nudge(x = results_subvol$hemi_offset)) + \n",
    "        geom_hline(yintercept=0, lty=2) +  \n",
    "        coord_flip() +\n",
    "        xlab(\"\") + ylab(\"Beta/SE\") +\n",
    "        theme_bw() + \n",
    "        scale_colour_manual(values=c(\"p >= 0.05.right\" = \"#F5C7B8FF\", \"p >= 0.05.left\" = \"#9FB1BCFF\", \n",
    "                                     \"p < 0.05.right\" = \"#e05022\", \"p < 0.05.left\" = \"#2E5266FF\"),\n",
    "                           labels = c(\"p>0.05 (Left)\", \n",
    "                                  \"p>0.05 (Right)\",\n",
    "                                  \"p<0.05 (Left)\",\n",
    "                                  \"p<0.05 (Right)\")) +\n",
    "        guides(colour = guide_legend(title = \"\")) +\n",
    "        theme(legend.position=\"none\", strip.background =element_rect(fill=\"white\")) "
   ]
  },
  {
   "cell_type": "code",
   "execution_count": 15,
   "id": "396abcac-cdb0-48cc-8f48-69cdebfeb83a",
   "metadata": {},
   "outputs": [],
   "source": [
    "results=results %>% mutate_if(is.numeric, round_and_format, digits = 4, threshold = 0.0001)\n",
    "tab_subcortex=flextable(results[,c(1,6,2:5,7)])\n",
    "tab_subcortex=autofit(tab_subcortex, add_w = 0.1,add_h = 0.1,part = c(\"body\", \"header\"),unit = \"in\")  %>% fit_to_width(max_width=8) %>% \n",
    "set_caption(caption = 'Table S3 Associations between subcortical volumes and ultraprocessed food intake')"
   ]
  },
  {
   "cell_type": "markdown",
   "id": "5a05919e-4baf-4867-b5b1-f2c8b2b9ef59",
   "metadata": {},
   "source": [
    "## White matter measures"
   ]
  },
  {
   "cell_type": "code",
   "execution_count": 16,
   "id": "114980ce-da03-49df-bf95-f1495bbe50af",
   "metadata": {},
   "outputs": [],
   "source": [
    "results=matrix(ncol=7,nrow=length(c(grep('mean_fa',colnames(data)),\n",
    "                                   grep('mean_md',colnames(data))))) \n",
    "\n",
    "for (i in 1:length(c(grep('mean_fa',colnames(data)),\n",
    "                    grep('mean_md',colnames(data))))) \n",
    "{ \n",
    "    \n",
    "    m1=summary(lm(data[c(grep('mean_fa',colnames(data)),\n",
    "                           grep('mean_md',colnames(data)))][[i]] ~ \n",
    "          data$upf_perc +\n",
    "          data$saturated_fa +\n",
    "          data$total_sugar + \n",
    "          data$sodium +\n",
    "          data$body_mass_index_bmi_21001.2.0 +\n",
    "          data$kJ_sum +\n",
    "          poly(data$age_when_attended_assessment_centre_21003.2.0, 2, raw=TRUE) *\n",
    "          data$sex_31.0.0 + \n",
    "          poly(difftime(as.Date(data$date_of_attending_assessment_centre_53.2.0), \n",
    "                   min(as.Date(data$date_of_attending_assessment_centre_53.2.0)), units='days'), 2, raw=TRUE) +\n",
    "          data$uk_biobank_assessment_centre_54.2.0 +\n",
    "          data$qualifications_6138.2.0  +\n",
    "          data$smoking_status_20116.2.0 +\n",
    "          data$alcohol + \n",
    "          data$average_total_household_income_before_tax_738.2.0 +\n",
    "          data$number_of_daysweek_of_vigorous_physical_activity_10._minutes_904.2.0 +\n",
    "          data$number_of_daysweek_of_moderate_physical_activity_10._minutes_884.2.0 \n",
    "))\n",
    "    \n",
    "    results[i,1]=colnames(data)[c(grep('mean_fa',colnames(data)),\n",
    "                                   grep('mean_md',colnames(data)))][i] \n",
    "    results[i,2]=m1$coefficients[2,4] # p-value \n",
    "    results[i,3]=m1$coefficients[2,3] # t-value \n",
    "    results[i,4]=m1$coefficients[2,1] # est for \n",
    "    results[i,5]=m1$coefficients[2,2] # sd for \n",
    "    results[i,6]=ifelse(grepl(\"left\", results[i, 1]), \n",
    "                        \"left\", \n",
    "                        ifelse(grepl(\"right\", results[i, 1]), \n",
    "                               \"right\", \n",
    "                               \"\"))\n",
    "    results[i,7]=m1$df[2]+m1$df[1] #\n",
    "\n",
    "}\n",
    "\n",
    "colnames(results)=c('Parcel','p-value', 't-value', 'est', 'se', 'hemisphere','n')"
   ]
  },
  {
   "cell_type": "code",
   "execution_count": 17,
   "id": "fc9b66eb-2c4a-4f8b-bc9c-54250303f6a9",
   "metadata": {},
   "outputs": [],
   "source": [
    "wm_names_plot=gsub(' Left','',WM_names)\n",
    "wm_names_plot=gsub(' Right','',wm_names_plot)\n",
    "results[1:48,2]=p.adjust(results[1:48,2], method='BH')\n",
    "results[49:96,2]=p.adjust(results[49:96,2], method='BH')\n",
    "results=as.data.frame(results)\n",
    "results$measure=c(rep('FA', 48),rep('MD',48))\n",
    "colnames(results)=c('region','p','t','est','se','hemi','Sample size','phenotype')\n",
    "results$t=as.numeric(results$t)\n",
    "results$p=as.numeric(results$p)\n",
    "results$se=as.numeric(results$se)\n",
    "results$est=as.numeric(results$est)\n",
    "results$region=rep(wm_names_plot,2)"
   ]
  },
  {
   "cell_type": "code",
   "execution_count": 18,
   "id": "81e0bb02-31a3-42f8-8c00-24a13ae97e27",
   "metadata": {},
   "outputs": [],
   "source": [
    "results$FDR <- ifelse(results$p < 0.05, \"p < 0.05\", \"p >= 0.05\")\n",
    "results_wm=results\n",
    "results_wm$hemi_offset <- ifelse(results_wm$hemi == \"left\", 0.1, -0.1)\n",
    "results_wm <- results_wm %>%\n",
    "  mutate(hemi = ifelse(hemi == \"\", \"right\", hemi))\n",
    "\n",
    "forest_WM=results_wm %>%\n",
    "  mutate(region = factor(region, levels = unique(wm_names_plot), ordered=T)) %>%\n",
    "ggplot(aes(x=region, y=est, ymin=est-se, ymax=est+se, colour=interaction(FDR,hemi))) +\n",
    "        geom_pointrange(position = position_nudge(x = results_wm$hemi_offset)) + \n",
    "        geom_hline(yintercept=0, lty=2) +  \n",
    "        coord_flip() +\n",
    "        xlab(\"\") + ylab(\"Beta/SE\") +\n",
    "        theme_bw() + \n",
    "        facet_grid(~phenotype, scales='free')+\n",
    "        scale_colour_manual(values=c(\"p >= 0.05.right\" = \"#F5C7B8FF\", \"p >= 0.05.left\" = \"#9FB1BCFF\", \n",
    "                                     \"p < 0.05.right\" = \"#e05022\", \"p < 0.05.left\" = \"#2E5266FF\"),\n",
    "                           labels = c(\"p>0.05 (Left)\", \n",
    "                                  \"p>0.05 (Right)\",\n",
    "                                  \"p<0.05 (Left)\",\n",
    "                                  \"p<0.05 (Right)\")) +\n",
    "        guides(colour = guide_legend(title = \"\")) +\n",
    "        theme(legend.position=\"none\", strip.background =element_rect(fill=\"white\"))"
   ]
  },
  {
   "cell_type": "code",
   "execution_count": 19,
   "id": "aadbecfe-0a66-46a0-a1a2-176381c83e7a",
   "metadata": {},
   "outputs": [],
   "source": [
    "results=results %>% mutate_if(is.numeric, round_and_format, digits = 4, threshold = 0.0001)\n",
    "tab_wm=flextable(results[,c(1,6,2:5,8,7)])\n",
    "tab_wm=autofit(tab_wm, add_w = 0.1,add_h = 0.1,part = c(\"body\", \"header\"),unit = \"in\")  %>% fit_to_width(max_width=8) %>% \n",
    "set_caption(caption = 'Table S4 Associations between white matter diffusivity measures and ultraprocessed food intake')"
   ]
  },
  {
   "cell_type": "markdown",
   "id": "a048855b-0e80-4eb1-928e-ad4cd199e33e",
   "metadata": {},
   "source": [
    "## Subcortical DTI\n"
   ]
  },
  {
   "cell_type": "code",
   "execution_count": 56,
   "id": "48f3fda7-dfe6-45d8-9f89-9d4f720ccc36",
   "metadata": {},
   "outputs": [],
   "source": [
    "structures = c('left_caudate',\n",
    "               'right_caudate',\n",
    "               'left_putamen',\n",
    "               'right_putamen',\n",
    "               'left_globus_pallidus_externa',\n",
    "               'right_globus_pallidus_externa',\n",
    "               'left_thalamus',\n",
    "               'right_thalamus',\n",
    "               'left_hippocampus',\n",
    "               'right_hippocampus',\n",
    "               'left_nucleus_accumbens',\n",
    "               'right_nucleus_accumbens',\n",
    "               'left_amygdala',\n",
    "               'right_amygdala',\n",
    "               'full_hypo')\n",
    "\n",
    "suffixes <- c(\"\\\\.FA\", \"\\\\.MD\")#, \"\\\\.RD\", \"\\\\.AD\")\n",
    "\n",
    "structures <- paste0(rep(structures, 2), rep(suffixes, each = length(structures)))"
   ]
  },
  {
   "cell_type": "code",
   "execution_count": 57,
   "id": "37150e1d-7ff3-48b1-97dd-b23150001af6",
   "metadata": {},
   "outputs": [],
   "source": [
    "results=matrix(ncol=7,nrow=length(structures))\n",
    "\n",
    "for (i in 1:(length(structures))) \n",
    "{ \n",
    "    \n",
    "    m1=summary(lm(data[[c(grep(structures[i],colnames(data)))]] ~ \n",
    "          data$upf_perc +\n",
    "          data$saturated_fa +\n",
    "          data$total_sugar + \n",
    "          data$sodium +\n",
    "          data$body_mass_index_bmi_21001.2.0 +\n",
    "          data$kJ_sum +\n",
    "          poly(data$age_when_attended_assessment_centre_21003.2.0, 2, raw=TRUE) +\n",
    "          data$sex_31.0.0 + \n",
    "          poly(difftime(as.Date(data$date_of_attending_assessment_centre_53.2.0), \n",
    "                   min(as.Date(data$date_of_attending_assessment_centre_53.2.0)), units='days'), 2, raw=TRUE) +\n",
    "          data$uk_biobank_assessment_centre_54.2.0 + \n",
    "          data$qualifications_6138.2.0  +\n",
    "          data$smoking_status_20116.2.0 +\n",
    "          data$alcohol + \n",
    "          data$average_total_household_income_before_tax_738.2.0 +\n",
    "          data$number_of_daysweek_of_vigorous_physical_activity_10._minutes_904.2.0 +\n",
    "          data$number_of_daysweek_of_moderate_physical_activity_10._minutes_884.2.0\n",
    "                 ))\n",
    "    \n",
    "    results[i,1]=structures[i]\n",
    "    results[i,2]=m1$coefficients[2,4] # p-value \n",
    "    results[i,3]=m1$coefficients[2,3] # t-value \n",
    "    results[i,4]=m1$coefficients[2,1] # est for \n",
    "    results[i,5]=m1$coefficients[2,2] # se for \n",
    "    results[i,6]=ifelse(grepl(\"left\", results[i, 1]), \n",
    "                        \"left\", \n",
    "                        ifelse(grepl(\"right\", results[i, 1]), \n",
    "                               \"right\", \n",
    "                               \"\"))\n",
    "    results[i,7]=m1$df[2]+m1$df[1] #\n",
    "\n",
    "}\n",
    "\n",
    "colnames(results)=c('Parcel','p-value', 't-value', 'estimate', 'se', 'hemisphere','n')"
   ]
  },
  {
   "cell_type": "code",
   "execution_count": 58,
   "id": "bcbe8224-964e-4bda-9e67-9862ce80f461",
   "metadata": {},
   "outputs": [],
   "source": [
    "results[1:15,2]=p.adjust(results[1:15,2], method='BH')\n",
    "results[16:30,2]=p.adjust(results[16:30,2], method='BH')\n",
    "#results[31:45,2]=p.adjust(results[31:45,2], method='BH')\n",
    "#results[46:60,2]=p.adjust(results[46:60,2], method='BH')\n",
    "results=as.data.frame(results)\n",
    "results$measure=c(rep('FA', 15),rep('MD',15))#,rep('RD',15),rep('AD',15))\n",
    "colnames(results)=c('label','p','t','est','se','hemi','Sample size','phenotype')\n",
    "results$t=as.numeric(results$t)\n",
    "results$p=as.numeric(results$p)\n",
    "results$se=as.numeric(results$se)\n",
    "results$est=as.numeric(results$est)\n",
    "results$label=rep(c('Caudate','Caudate',\n",
    "                    'Putamen','Putamen','Pallidum','Pallidum',\n",
    "                    'Thalamus Proper','Thalamus Proper',\n",
    "                    'Hippocampus','Hippocampus','Accumbens area','Accumbens area',\n",
    "                    'Amygdala','Amygdala','Hypothalamus'),2)\n",
    "#results$region=NULL"
   ]
  },
  {
   "cell_type": "code",
   "execution_count": 59,
   "id": "9efc4740-523d-487d-ba7e-51b70fe70cf4",
   "metadata": {},
   "outputs": [],
   "source": [
    "sub_plot = results %>% group_by(phenotype) %>%\n",
    "                  ggplot() + geom_brain(atlas = aseg, \n",
    "                             #position = position_brain(hemi ~ side),\n",
    "                             aes(fill = t, color=I(\"black\")), side = \"coronal\") +              \n",
    "                             #ggtitle(paste(label, '', sep='')) +  +              \n",
    "                             facet_wrap(.~phenotype, nrow=2) +\n",
    "                             theme_minimal() +\n",
    "                             theme(axis.text.y = element_blank(),\n",
    "                                   axis.text.x = element_blank(),\n",
    "                                   strip.background =element_rect(fill=\"white\", colour='white'),\n",
    "                                   strip.text = element_text(colour = 'black', family=\"Arial\"),\n",
    "                                   plot.title = element_text(hjust = 0.5, family=\"Arial\"),\n",
    "                                   legend.position=\"bottom\",\n",
    "                                   panel.grid.major = element_blank(), \n",
    "                                   panel.grid.minor = element_blank()) + \n",
    "                             scale_fill_gradient2(midpoint=0, low=\"#00203FFF\", mid=\"white\",\n",
    "                                 high=\"#68e2aa\", space =\"Lab\", na.value='white')"
   ]
  },
  {
   "cell_type": "code",
   "execution_count": 69,
   "id": "e58ab221-16fe-413b-b985-f48a919ed365",
   "metadata": {},
   "outputs": [],
   "source": [
    "results$FDR <- ifelse(results$p < 0.05, \"p < 0.05\", \"p >= 0.05\")\n",
    "results$hemi_offset <- ifelse(results$hemi == \"left\", 0.1, -0.1)\n",
    "results_subDTI=results\n",
    "results_subDTI <- results_subDTI %>%\n",
    "  mutate(hemi = ifelse(hemi == \"\", \"right\", hemi))\n",
    "results_subDTI <- results_subDTI %>%\n",
    "   mutate(legend_color = interaction(FDR, hemi))\n",
    "\n",
    "results_subDTI$legend_color=factor(results_subDTI$legend_color, levels=c('p >= 0.05.left', 'p >= 0.05.right','p < 0.05.left', 'p < 0.05.right' ))\n",
    "\n",
    "forest_subDTI=results_subDTI %>%\n",
    "  mutate(label = factor(label, levels = c('Caudate',\n",
    "                    'Putamen','Pallidum',\n",
    "                    'Thalamus Proper',\n",
    "                    'Hippocampus','Accumbens area',\n",
    "                    'Amygdala', 'Hypothalamus'), ordered=T)) %>%   \n",
    "ggplot(aes(x=label, y=est, ymin=est-se, ymax=est+se, colour=legend_color)) +\n",
    "        geom_pointrange(position = position_nudge(x = results$hemi_offset)) + \n",
    "        geom_hline(yintercept=0, lty=2) +  \n",
    "        coord_flip() +\n",
    "        xlab(\"\") + ylab(\"Beta/SE\") +\n",
    "        theme_bw() + \n",
    "        facet_grid(~phenotype, scales='free') +\n",
    "        scale_colour_manual(values=c(\"p >= 0.05.right\" = \"#F5C7B8FF\", \"p >= 0.05.left\" = \"#9FB1BCFF\", \n",
    "                                     \"p < 0.05.right\" = \"#e05022\", \"p < 0.05.left\" = \"#2E5266FF\"),\n",
    "                           labels = c(\"p>0.05 (Left)\", \n",
    "                                  \"p>0.05 (Right/BL)\",\n",
    "                                  \"p<0.05 (Left)\",\n",
    "                                  \"p<0.05 (Right/BL)\"), drop=FALSE) +\n",
    "        guides(colour = guide_legend(title = \"\")) +\n",
    "        theme(legend.position=\"left\", strip.background =element_rect(fill=\"white\"),\n",
    "              plot.margin = margin(t = 5, r = 20, b = 5, l = 5, unit = \"pt\")  )"
   ]
  },
  {
   "cell_type": "code",
   "execution_count": 25,
   "id": "819be9c0-8a72-438c-88a7-eb2fd03ff248",
   "metadata": {},
   "outputs": [],
   "source": [
    "results=results %>% mutate_if(is.numeric, round_and_format, digits = 4, threshold = 0.0001)\n",
    "tab_dti=flextable(results[,c(1,6,2:5,8,7)])\n",
    "tab_dti=autofit(tab_dti, add_w = 0.1,add_h = 0.1,part = c(\"body\", \"header\"),unit = \"in\")  %>% fit_to_width(max_width=8) %>% \n",
    "set_caption(caption = 'Table S5 Associations between subcortical grey matter diffusivity measures and ultraprocessed food intake')"
   ]
  },
  {
   "cell_type": "markdown",
   "id": "7e72dd85-a26d-4b27-90da-853a4a0d0e12",
   "metadata": {},
   "source": [
    "## NODDI measures"
   ]
  },
  {
   "cell_type": "code",
   "execution_count": 70,
   "id": "df254277-8562-4f75-992f-9f33fe4b52e3",
   "metadata": {},
   "outputs": [],
   "source": [
    "structures = c('MNI_PD25_subcortical_LH_caudate.nii.gz',\n",
    "               'MNI_PD25_subcortical_RH_caudate.nii.gz',\n",
    "               'MNI_PD25_subcortical_LH_putamen.nii.gz',\n",
    "               'MNI_PD25_subcortical_RH_putamen.nii.gz',\n",
    "               'globus_pallidus_LH',\n",
    "               'globus_pallidus_RH',\n",
    "               'MNI_PD25_subcortical_LH_thalamus.nii.gz',\n",
    "               'MNI_PD25_subcortical_RH_thalamus.nii.gz',\n",
    "               'MNI_PD25_subcortical_LH_hippocampus.nii.gz',\n",
    "               'MNI_PD25_subcortical_RH_hippocampus.nii.gz',\n",
    "               'MNI_PD25_subcortical_LH_nucleus_accumbens.nii.gz',\n",
    "               'MNI_PD25_subcortical_RH_nucleus_accumbens.nii.gz',\n",
    "               'MNI_PD25_subcortical_LH_amygdala.nii.gz',\n",
    "               'MNI_PD25_subcortical_RH_amygdala.nii.gz',\n",
    "               'full_hypo')\n",
    "\n",
    "suffixes <- c(\"\\\\.ICVF\", \"\\\\.ISOVF\")\n",
    "\n",
    "structures <- paste0(rep(structures, 2), rep(suffixes, each = length(structures)))"
   ]
  },
  {
   "cell_type": "code",
   "execution_count": 71,
   "id": "69045eba-9120-4bac-8eed-b346f30dbebe",
   "metadata": {},
   "outputs": [],
   "source": [
    "results=matrix(ncol=7,nrow=length(structures))\n",
    "\n",
    "for (i in 1:(length(structures))) \n",
    "{ \n",
    "    \n",
    "    m1=summary(lm(data[[c(grep(structures[i],colnames(data)))]] ~ \n",
    "          data$upf_perc +\n",
    "          data$saturated_fa +\n",
    "          data$total_sugar + \n",
    "          data$sodium +\n",
    "          data$body_mass_index_bmi_21001.2.0 +\n",
    "          data$kJ_sum +\n",
    "          poly(data$age_when_attended_assessment_centre_21003.2.0, 2, raw=TRUE) *\n",
    "          data$sex_31.0.0 + \n",
    "          poly(difftime(as.Date(data$date_of_attending_assessment_centre_53.2.0), \n",
    "                   min(as.Date(data$date_of_attending_assessment_centre_53.2.0)), units='days'), 2, raw=TRUE) +\n",
    "          data$uk_biobank_assessment_centre_54.2.0 + \n",
    "          data$qualifications_6138.2.0  +\n",
    "          data$smoking_status_20116.2.0 +\n",
    "          data$alcohol + \n",
    "          data$average_total_household_income_before_tax_738.2.0 +\n",
    "          data$number_of_daysweek_of_vigorous_physical_activity_10._minutes_904.2.0 +\n",
    "          data$number_of_daysweek_of_moderate_physical_activity_10._minutes_884.2.0 \n",
    "                 ))\n",
    "    \n",
    "    results[i,1]=structures[i]\n",
    "    results[i,2]=m1$coefficients[2,4] # p-value \n",
    "    results[i,3]=m1$coefficients[2,3] # t-value \n",
    "    results[i,4]=m1$coefficients[2,1] # est for \n",
    "    results[i,5]=m1$coefficients[2,2] # se for \n",
    "    results[i,6]=ifelse(grepl(\"LH\", results[i, 1]), \n",
    "                        \"left\", \n",
    "                        ifelse(grepl(\"RH\", results[i, 1]), \n",
    "                               \"right\", \n",
    "                               \"\"))\n",
    "    results[i,7]=m1$df[2]+m1$df[1] #\n",
    "\n",
    "}\n",
    "\n",
    "colnames(results)=c('Parcel','p-value', 't-value', 'estimate', 'se', 'hemisphere','n')"
   ]
  },
  {
   "cell_type": "code",
   "execution_count": 72,
   "id": "b607df86-0d91-4fbf-a8f5-6e26f0ada1ff",
   "metadata": {},
   "outputs": [],
   "source": [
    "results[1:15,2]=p.adjust(results[1:15,2], method='BH')\n",
    "results[16:30,2]=p.adjust(results[16:30,2], method='BH')\n",
    "#results[31:45,2]=p.adjust(results[31:45,2], method='BH')\n",
    "#results[52:68,2]=p.adjust(results[52:68,2], method='BH')\n",
    "results=as.data.frame(results)\n",
    "results$measure=c(rep('ICVF', 15),rep('ISOVF',15))\n",
    "colnames(results)=c('label','p','t','est','se','hemi','Sample size','phenotype')\n",
    "results$t=as.numeric(results$t)\n",
    "results$p=as.numeric(results$p)\n",
    "results$se=as.numeric(results$se)\n",
    "results$est=as.numeric(results$est)\n",
    "results$label=rep(c('Caudate','Caudate',\n",
    "                    'Putamen','Putamen','Pallidum','Pallidum',\n",
    "                    'Thalamus Proper','Thalamus Proper',\n",
    "                    'Hippocampus','Hippocampus','Accumbens area','Accumbens area',\n",
    "                    'Amygdala','Amygdala','Hypothalamus'),2)"
   ]
  },
  {
   "cell_type": "code",
   "execution_count": 73,
   "id": "ba03bcdb-a57c-4355-afc7-dc318447f5ba",
   "metadata": {},
   "outputs": [],
   "source": [
    "results=results %>% mutate_if(is.numeric, round_and_format, digits = 4, threshold = 0.0001)\n",
    "tab_noddi=flextable(results[,c(1,6,2:5,8,7)])\n",
    "tab_noddi=autofit(tab_noddi, add_w = 0.1,add_h = 0.1,part = c(\"body\", \"header\"),unit = \"in\")  %>% fit_to_width(max_width=8) %>% \n",
    "set_caption(caption = 'Table S6 Associations between subcortical NODDI measures and ultraprocessed food intake')"
   ]
  },
  {
   "cell_type": "code",
   "execution_count": 74,
   "id": "b7f6fdca-f1d1-4a02-a095-1ea8b1895140",
   "metadata": {},
   "outputs": [],
   "source": [
    "results$FDR <- ifelse(results$p < 0.05, \"p < 0.05\", \"p >= 0.05\")\n",
    "results$hemi_offset <- ifelse(results$hemi == \"left\", 0.1, -0.1)\n",
    "results_subNODDI=results"
   ]
  },
  {
   "cell_type": "code",
   "execution_count": 75,
   "id": "1eb96c7f-62f5-4107-9d52-f3b281b06e41",
   "metadata": {},
   "outputs": [],
   "source": [
    "results$FDR <- ifelse(results$p < 0.05, \"p < 0.05\", \"p >= 0.05\")\n",
    "results$hemi_offset <- ifelse(results$hemi == \"left\", 0.1, -0.1)\n",
    "results_subNODDI=results\n",
    "results_subNODDI <- results_subNODDI %>%\n",
    "  mutate(hemi = ifelse(hemi == \"\", \"right\", hemi))\n",
    "\n",
    "forest_subNODDI=results_subNODDI %>%\n",
    "  mutate(label = factor(label, levels = c('Caudate',\n",
    "                    'Putamen','Pallidum',\n",
    "                    'Thalamus Proper',\n",
    "                    'Hippocampus','Accumbens area',\n",
    "                    'Amygdala', 'Hypothalamus'), ordered=T)) %>%   \n",
    "ggplot(aes(x=label, y=est, ymin=est-se, ymax=est+se, colour=interaction(FDR,hemi))) +\n",
    "        geom_pointrange(position = position_nudge(x = results$hemi_offset)) + \n",
    "        geom_hline(yintercept=0, lty=2) +  \n",
    "        coord_flip() +\n",
    "        xlab(\"\") + ylab(\"Beta/SE\") +\n",
    "        theme_bw() + \n",
    "        facet_grid(~phenotype, scales='free') +\n",
    "        scale_colour_manual(values=c(\"p >= 0.05.right\" = \"#F5C7B8FF\", \"p >= 0.05.left\" = \"#9FB1BCFF\", \n",
    "                                     \"p < 0.05.right\" = \"#e05022\", \"p < 0.05.left\" = \"#2E5266FF\"),\n",
    "                           labels = c(\"p>0.05 (Left)\", \n",
    "                                  \"p>0.05 (Right)\",\n",
    "                                  \"p<0.05 (Left)\",\n",
    "                                  \"p<0.05 (Right)\")) +\n",
    "        guides(colour = guide_legend(title = \"\")) +\n",
    "        theme(legend.position=\"none\", strip.background =element_rect(fill=\"white\"),\n",
    "              plot.margin = margin(t = 5, r = 20, b = 5, l = 5, unit = \"pt\")  )\n",
    "        #theme(legend.position=\"none\",strip.background =element_rect(fill=\"white\"), panel.spacing.x = unit(8, \"mm\"))"
   ]
  },
  {
   "cell_type": "markdown",
   "id": "af67616d-a50e-4003-a3f4-edebdbf9e200",
   "metadata": {
    "jp-MarkdownHeadingCollapsed": true
   },
   "source": [
    "# Cognition"
   ]
  },
  {
   "cell_type": "code",
   "execution_count": 37,
   "id": "de0d30d6-d20b-42fd-9b0a-9f3e9552cf00",
   "metadata": {},
   "outputs": [],
   "source": [
    "data$RT=rowMeans(data[grep('snap.button', colnames(data))], na.rm=T) #reaction time\n",
    "data$Pairs=rowMeans(data[grep('number_of_incorrect_matches_in_round', colnames(data))], na.rm=T) #visuospatial memory\n",
    "data$Prospective_memory<-(as.numeric(factor(car::recode(data$prospective_memory_result_20018.2.0, \n",
    "                                         \"'Correct recall on first attempt'='1'; \n",
    "                                        'Correct recall on second attempt'='2';\n",
    "                                        'Instruction not recalled, either skipped or incorrect'='3'\"), ordered=TRUE)))\n",
    "\n",
    "cog=c('RT','Pairs','Prospective_memory','fluid_intelligence_score_20016.2.0',\n",
    "      'maximum_digits_remembered_correctly_4282.2.0', 'number_of_puzzles_correct_21004.2.0') # 21004 - executive function"
   ]
  },
  {
   "cell_type": "code",
   "execution_count": 38,
   "id": "422b14ee-086a-4a90-a4f9-e04747086307",
   "metadata": {},
   "outputs": [],
   "source": [
    "results_cog=matrix(ncol=6,nrow=length(cog)) \n",
    "        \n",
    "model=list()\n",
    "model1=list()\n",
    "\n",
    "        for (i in 1:length(cog)){ # cog is defined as list of cognitive variables at the beginning of the script\n",
    "\n",
    "           model[[i]]=(lm(scale(data[[grep(cog[i], colnames(data))]]) ~ \n",
    "                      data$upf_perc +\n",
    "                      data$saturated_fa +\n",
    "                      data$total_sugar + \n",
    "                      data$sodium +\n",
    "                      data$body_mass_index_bmi_21001.2.0 +\n",
    "                      data$kJ_sum +\n",
    "                      poly(data$age_when_attended_assessment_centre_21003.2.0, 2, raw=TRUE) *\n",
    "                      data$sex_31.0.0 + \n",
    "                      poly(difftime(as.Date(data$date_of_attending_assessment_centre_53.2.0), \n",
    "                               min(as.Date(data$date_of_attending_assessment_centre_53.2.0)), units='days'), 2, raw=TRUE) +\n",
    "                      data$uk_biobank_assessment_centre_54.2.0 + \n",
    "                      #data$qualifications_6138.2.0  +\n",
    "                      data$smoking_status_20116.2.0 +\n",
    "                      data$alcohol + \n",
    "                      #data$average_total_household_income_before_tax_738.2.0 +\n",
    "                      data$number_of_daysweek_of_vigorous_physical_activity_10._minutes_904.2.0 +\n",
    "                      data$number_of_daysweek_of_moderate_physical_activity_10._minutes_884.2.0\n",
    "                                      ))\n",
    "\n",
    "            model1[[i]]=summary(model[[i]])\n",
    "\n",
    "            results_cog[i,1]=cog[i]\n",
    "            results_cog[i,2]=model1[[i]]$coefficients[2,4] # p-value for UPF\n",
    "            results_cog[i,3]=model1[[i]]$coefficients[2,3] # t-value for UPF\n",
    "            results_cog[i,4]=model1[[i]]$coefficients[2,1] # estimate for \n",
    "            results_cog[i,5]=model1[[i]]$coefficients[2,2] # sd for \n",
    "            results_cog[i,6]=model1[[i]]$df[2]+model1[[i]]$df[1] # \n",
    "        }\n",
    "\n",
    "        results_cog[,2]=p.adjust(results_cog[,2], method='BH')\n",
    "        results_cog=as.data.frame(results_cog)\n",
    "        colnames(results_cog)=c('Test','p','t', 'est','se', 'Sample size')\n",
    "        results_cog$t=as.numeric(results_cog$t)\n",
    "        results_cog$p=as.numeric(results_cog$p)\n",
    "        results_cog$est=as.numeric(results_cog$est)\n",
    "        results_cog$se=as.numeric(results_cog$se)\n",
    "\n",
    "results_cog$label=c('Reaction time','Visuospatial memory','Prospective memory','Fluid intelligence',\n",
    "      'Working memory', 'Executive function')"
   ]
  },
  {
   "cell_type": "code",
   "execution_count": 39,
   "id": "37857834-02fb-4255-9a0a-b06f50a43ca8",
   "metadata": {},
   "outputs": [],
   "source": [
    "results_cog=results_cog %>% mutate_if(is.numeric, round_and_format, digits = 4, threshold = 0.0001)\n",
    "tab_cog=flextable(results_cog[,c(7,2:6)])\n",
    "tab_cog=autofit(tab_cog, add_w = 0.1,add_h = 0.1,part = c(\"body\", \"header\"),unit = \"in\")  %>% fit_to_width(max_width=8) %>% \n",
    "set_caption(caption = 'Table S7 Associations between cognition and ultraprocessed food intake')"
   ]
  },
  {
   "cell_type": "code",
   "execution_count": 40,
   "id": "6bb286bf-865d-4c8e-914e-00b46004bcbd",
   "metadata": {},
   "outputs": [
    {
     "data": {
      "text/html": [
       "<strong>png:</strong> 2"
      ],
      "text/latex": [
       "\\textbf{png:} 2"
      ],
      "text/markdown": [
       "**png:** 2"
      ],
      "text/plain": [
       "png \n",
       "  2 "
      ]
     },
     "metadata": {},
     "output_type": "display_data"
    }
   ],
   "source": [
    "results_cog$FDR <- ifelse(results_cog$p < 0.05, \"p < 0.05\", \"p >= 0.05\")\n",
    "\n",
    "png('/dagher/dagher11/filip/UPF/figures/Cognition.png', width=1500, height=1000, res=300)\n",
    "results_cog %>%\n",
    "  arrange(desc(est)) %>%    \n",
    "  mutate(label=factor(label, levels=label)) %>%   \n",
    "ggplot(aes(x=label, y=est, ymin=est-se, ymax=est+se, colour=FDR)) +\n",
    "        geom_pointrange() + \n",
    "        geom_hline(yintercept=0, lty=2) +  # add a dotted line at x=0 after flip\n",
    "        coord_flip() +  # flip coordinates (puts labels on y axis)\n",
    "        xlab(\"Cognitive ability\") + ylab(\"Beta/SE\") +\n",
    "        theme_bw() +# use a white background\n",
    "        scale_colour_manual(values=c(\"p < 0.05\" = \"#ed563d\", \"p >= 0.05\" = \"#000000\"))  # specify colours\n",
    "dev.off()"
   ]
  },
  {
   "cell_type": "markdown",
   "id": "b65a4900-9f16-4ec7-a129-df8c14af94e8",
   "metadata": {
    "jp-MarkdownHeadingCollapsed": true
   },
   "source": [
    "# Follow-up analyses"
   ]
  },
  {
   "cell_type": "markdown",
   "id": "36cb66c8-927a-4f66-8da1-6b9041c7bc81",
   "metadata": {
    "jp-MarkdownHeadingCollapsed": true
   },
   "source": [
    "## Mediation prerequisites"
   ]
  },
  {
   "cell_type": "code",
   "execution_count": 122,
   "id": "74a746f3-cfb5-431f-b4c3-ec62b7cd83f8",
   "metadata": {},
   "outputs": [],
   "source": [
    "corrs=c('c.reactive_protein_30710.0.0','triglycerides_30870.0.0', \n",
    "         'hdl_cholesterol_30760.0.0','glucose_30740.0.0')\n",
    "\n",
    "brain=c('right_nucleus_accumbens_MD','MNI_PD25_subcortical_RH_nucleus_accumbens.nii.gz.ICVF','full_hypo_MD',\n",
    "        'mean_fa_in_fornix_cres.stria_terminalis_on_fa_skeleton_left_25095.2.0')\n",
    "\n",
    "results=matrix(ncol=7,nrow=length(corrs)*length(brain))\n",
    "index=0\n",
    "for (i in 1:(length(brain))){\n",
    "    for (j in 1:length(corrs)){\n",
    " \n",
    "    \n",
    "    m1=summary(lm(data[[c(grep(corrs[j],colnames(data)))]] ~ \n",
    "          data[[c(grep(brain[i],colnames(data)))]] +\n",
    "          data$saturated_fa +\n",
    "          data$total_sugar + \n",
    "          data$sodium +\n",
    "          data$body_mass_index_bmi_21001.2.0 +\n",
    "          data$kJ_sum +\n",
    "          poly(data$age_when_attended_assessment_centre_21003.2.0, 2, raw=TRUE) *\n",
    "          data$sex_31.0.0 + \n",
    "          poly(difftime(as.Date(data$date_of_attending_assessment_centre_53.2.0), \n",
    "                   min(as.Date(data$date_of_attending_assessment_centre_53.2.0)), units='days'), 2, raw=TRUE) +\n",
    "          data$uk_biobank_assessment_centre_54.2.0 + \n",
    "          data$qualifications_6138.2.0  +\n",
    "          data$smoking_status_20116.2.0 +\n",
    "          data$alcohol + \n",
    "          data$average_total_household_income_before_tax_738.2.0 +\n",
    "          data$number_of_daysweek_of_vigorous_physical_activity_10._minutes_904.2.0 +\n",
    "          data$number_of_daysweek_of_moderate_physical_activity_10._minutes_884.2.0 \n",
    "                 ))\n",
    "        \n",
    "    results[j+(4*index),1]=brain[i]\n",
    "    results[j+(4*index),2]=m1$coefficients[2,4] # p-value \n",
    "    results[j+(4*index),3]=m1$coefficients[2,3] # t-value \n",
    "    results[j+(4*index),4]=m1$coefficients[2,1] # est for \n",
    "    results[j+(4*index),5]=m1$coefficients[2,2] # se for \n",
    "    results[j+(4*index),6]=m1$df[2]+m1$df[1] #}  \n",
    "    results[j+(4*index),7]=corrs[j]\n",
    "        \n",
    "  }\n",
    "    \n",
    "    index=index+1  \n",
    "    \n",
    "}\n",
    "\n",
    "colnames(results)=c('Parcel','p-value', 't-value', 'estimate', 'se', 'n', 'variable')"
   ]
  },
  {
   "cell_type": "code",
   "execution_count": 123,
   "id": "97e70f16-741b-4445-9bb9-c3adfcc3ba6b",
   "metadata": {},
   "outputs": [],
   "source": [
    "results[1:4,2]=p.adjust(results[1:4,2])\n",
    "results[5:8,2]=p.adjust(results[5:8,2])\n",
    "results[9:12,2]=p.adjust(results[9:12,2])\n",
    "results[13:16,2]=p.adjust(results[13:16,2])\n",
    "results=as.data.frame(results)\n",
    "colnames(results)=c('label','p','t','est','se','n','variable')\n",
    "results$label=c(rep('Right Nucleus Accumbens MD',4),rep('Right Nucleus Accumbens ICVF',4),rep('Hypothalamus MD',4),\n",
    "                rep('Fornix Cres Stria Terminalis FA',4))\n",
    "results$variable=rep(c('CRP','TG','HDL','Glucose'),4)\n",
    "results$t=as.numeric(results$t)\n",
    "results$p=as.numeric(results$p)\n",
    "results$se=as.numeric(results$se)\n",
    "results$est=as.numeric(results$est)\n",
    "results_premed=results"
   ]
  },
  {
   "cell_type": "code",
   "execution_count": 125,
   "id": "af9d8eda-148f-4e8c-96e3-668871a6b09a",
   "metadata": {},
   "outputs": [],
   "source": [
    "results_premed=results_premed %>% mutate_if(is.numeric, round_and_format, digits = 4, threshold = 0.0001)\n",
    "tab_premed=flextable(results_premed[,c(1, 7, 2:6)])\n",
    "tab_premed=autofit(tab_premed, add_w = 0.1,add_h = 0.1,part = c(\"body\", \"header\"),unit = \"in\")  %>% fit_to_width(max_width=8) %>% \n",
    "set_caption(caption = 'Table S8 Associations between brain phenotypes and chosen metabolic variables as a prerequisite to mediation analyses')"
   ]
  },
  {
   "cell_type": "markdown",
   "id": "58200369-e7ee-4913-96f9-1cab133a721a",
   "metadata": {},
   "source": [
    "## Mediation"
   ]
  },
  {
   "cell_type": "markdown",
   "id": "ae7b0c82-cdb4-487f-90f6-ad73fd895487",
   "metadata": {},
   "source": [
    "### Metabolic mediation\n"
   ]
  },
  {
   "cell_type": "code",
   "execution_count": 9,
   "id": "5fcd1221-308b-406c-bfbe-3ca86db25b3b",
   "metadata": {},
   "outputs": [],
   "source": [
    "extract_mediation_summary <- function (x) { \n",
    "\n",
    "  clp <- 100 * x$conf.level\n",
    "  isLinear.y <- ((class(x$model.y)[1] %in% c(\"lm\", \"rq\")) || \n",
    "                   (inherits(x$model.y, \"glm\") && x$model.y$family$family == \n",
    "                      \"gaussian\" && x$model.y$family$link == \"identity\") || \n",
    "                   (inherits(x$model.y, \"survreg\") && x$model.y$dist == \n",
    "                      \"gaussian\"))\n",
    "\n",
    "  printone <- !x$INT && isLinear.y\n",
    "\n",
    "  if (printone) {\n",
    "\n",
    "    smat <- c(x$d1, x$d1.ci, x$d1.p)\n",
    "    smat <- rbind(smat, c(x$z0, x$z0.ci, x$z0.p))\n",
    "    smat <- rbind(smat, c(x$tau.coef, x$tau.ci, x$tau.p))\n",
    "    smat <- rbind(smat, c(x$n0, x$n0.ci, x$n0.p))\n",
    "\n",
    "    rownames(smat) <- c(\"ACME\", \"ADE\", \"Total Effect\", \"Prop. Mediated\")\n",
    "\n",
    "  } else {\n",
    "    smat <- c(x$d0, x$d0.ci, x$d0.p)\n",
    "    smat <- rbind(smat, c(x$d1, x$d1.ci, x$d1.p))\n",
    "    smat <- rbind(smat, c(x$z0, x$z0.ci, x$z0.p))\n",
    "    smat <- rbind(smat, c(x$z1, x$z1.ci, x$z1.p))\n",
    "    smat <- rbind(smat, c(x$tau.coef, x$tau.ci, x$tau.p))\n",
    "    smat <- rbind(smat, c(x$n0, x$n0.ci, x$n0.p))\n",
    "    smat <- rbind(smat, c(x$n1, x$n1.ci, x$n1.p))\n",
    "    smat <- rbind(smat, c(x$d.avg, x$d.avg.ci, x$d.avg.p))\n",
    "    smat <- rbind(smat, c(x$z.avg, x$z.avg.ci, x$z.avg.p))\n",
    "    smat <- rbind(smat, c(x$n.avg, x$n.avg.ci, x$n.avg.p))\n",
    "\n",
    "    rownames(smat) <- c(\"ACME (control)\", \"ACME (treated)\", \n",
    "                        \"ADE (control)\", \"ADE (treated)\", \"Total Effect\", \n",
    "                        \"Prop. Mediated (control)\", \"Prop. Mediated (treated)\", \n",
    "                        \"ACME (average)\", \"ADE (average)\", \"Prop. Mediated (average)\")\n",
    "\n",
    "  }\n",
    "\n",
    "  colnames(smat) <- c(\"Estimate\", paste(clp, \"% CI Lower\", sep = \"\"), \n",
    "                      paste(clp, \"% CI Upper\", sep = \"\"), \"p-value\")\n",
    "  smat\n",
    "\n",
    "}"
   ]
  },
  {
   "cell_type": "code",
   "execution_count": 45,
   "id": "865f851b-af52-47e7-b223-b1d7e7736689",
   "metadata": {},
   "outputs": [],
   "source": [
    "\n",
    "mediators=c('c.reactive_protein_30710.0.0')\n",
    "\n",
    "results_med=matrix(nrow=length(mediators), ncol=19)\n",
    "\n",
    "for (i in 1:length(mediators)) {\n",
    "    \n",
    "    columns_to_check <- c(\"age_when_attended_assessment_centre_21003.2.0\", 'body_mass_index_bmi_21001.2.0',\n",
    "                         'sex_31.0.0', 'date_of_attending_assessment_centre_53.2.0','uk_biobank_assessment_centre_54.2.0',\n",
    "                         'upf_perc', 'right_nucleus_accumbens.MD', 'kJ_sum',                      \n",
    "                         'qualifications_6138.2.0','alcohol','smoking_status_20116.2.0',\n",
    "                         'number_of_daysweek_of_vigorous_physical_activity_10._minutes_904.2.0',\n",
    "                         'average_total_household_income_before_tax_738.2.0', mediators[i])\n",
    "    \n",
    "    # Remove rows with NA values in the specified columns\n",
    "    data_med <- data[complete.cases(data[, columns_to_check]), ]\n",
    "\n",
    "    mediator_var=data_med[[mediators[i]]]\n",
    "    \n",
    "    med.fit <- lm(mediator_var ~ \n",
    "                  upf_perc + \n",
    "                  saturated_fa +\n",
    "                  total_sugar + \n",
    "                  sodium +\n",
    "                  body_mass_index_bmi_21001.2.0 +\n",
    "                  kJ_sum +\n",
    "                  poly(age_when_attended_assessment_centre_21003.2.0, 2, raw=TRUE) *\n",
    "                  sex_31.0.0 + \n",
    "                  poly(difftime(as.Date(date_of_attending_assessment_centre_53.2.0), \n",
    "                           min(as.Date(date_of_attending_assessment_centre_53.2.0)), units='days'), 2, raw=TRUE) +\n",
    "                  uk_biobank_assessment_centre_54.2.0 +\n",
    "                  qualifications_6138.2.0  +\n",
    "                  smoking_status_20116.2.0 +\n",
    "                  alcohol + \n",
    "                  average_total_household_income_before_tax_738.2.0 +\n",
    "                  number_of_daysweek_of_vigorous_physical_activity_10._minutes_904.2.0 +\n",
    "                  number_of_daysweek_of_moderate_physical_activity_10._minutes_884.2.0,\n",
    "                   data = data_med)\n",
    "    \n",
    "    out.fit <- lm(right_nucleus_accumbens.MD ~ \n",
    "                  mediator_var + \n",
    "                  upf_perc +\n",
    "                  saturated_fa +\n",
    "                  total_sugar + \n",
    "                  sodium +\n",
    "                  body_mass_index_bmi_21001.2.0 +\n",
    "                  kJ_sum +\n",
    "                  poly(age_when_attended_assessment_centre_21003.2.0, 2, raw=TRUE) *\n",
    "                  sex_31.0.0 + \n",
    "                  poly(difftime(as.Date(date_of_attending_assessment_centre_53.2.0), \n",
    "                           min(as.Date(date_of_attending_assessment_centre_53.2.0)), units='days'), 2, raw=TRUE) +\n",
    "                  uk_biobank_assessment_centre_54.2.0 + \n",
    "                  qualifications_6138.2.0  +\n",
    "                  smoking_status_20116.2.0 +\n",
    "                  alcohol + \n",
    "                  average_total_household_income_before_tax_738.2.0 +\n",
    "                  number_of_daysweek_of_vigorous_physical_activity_10._minutes_904.2.0 +\n",
    "                      number_of_daysweek_of_moderate_physical_activity_10._minutes_884.2.0 \n",
    "                      , data = data_med)\n",
    "    \n",
    "    \n",
    "    med.out <- mediate(med.fit, out.fit, treat = \"upf_perc\", mediator = 'mediator_var', robustSE = TRUE, sims = 100)\n",
    "\n",
    "    med.sum=extract_mediation_summary(med.out)\n",
    "\n",
    "    results_med[i,1]=mediators[i]\n",
    "    results_med[i,2]=med.sum[1,1]\n",
    "    results_med[i,3]=med.sum[1,2]\n",
    "    results_med[i,4]=med.sum[1,3]\n",
    "    results_med[i,5]=med.sum[1,4]\n",
    "    results_med[i,6]=med.sum[2,1]\n",
    "    results_med[i,7]=med.sum[2,2]\n",
    "    results_med[i,8]=med.sum[2,3]\n",
    "    results_med[i,9]=med.sum[2,4]\n",
    "    results_med[i,10]=med.sum[3,1]\n",
    "    results_med[i,11]=med.sum[3,2]\n",
    "    results_med[i,12]=med.sum[3,3]\n",
    "    results_med[i,13]=med.sum[3,4]\n",
    "    results_med[i,14]=med.sum[4,1]\n",
    "    results_med[i,15]=med.sum[4,2]\n",
    "    results_med[i,16]=med.sum[4,3]\n",
    "    results_med[i,17]=med.sum[4,4]\n",
    "    results_med[i,18]=nrow(data_med)\n",
    "    results_med[i,19]='Right Nucleus Accumbens MD'\n",
    "\n",
    "\n",
    "    colnames(results_med)=c('Mediator','ACME est', 'ACME CI low', 'ACME CI upp','ACME p-value',\n",
    "                           'ADE est', 'ADE CI low', 'ADE CI upp','ADE p-value',\n",
    "                           'Total est', 'Total CI low', 'Total CI upp','Total p-value',\n",
    "                           'Proportion est', 'Proportion CI low', 'Proportion CI upp','Proportion p-value','Sample size','Brain region')\n",
    "\n",
    "}\n",
    "\n",
    "results_med=as.data.frame(results_med)\n",
    "results_med[,2:17]=sapply(results_med[,2:17], function(x) (as.numeric(x))) \n",
    "\n",
    "results_med1=results_med                          "
   ]
  },
  {
   "cell_type": "code",
   "execution_count": 67,
   "id": "8fda3c9f-fb24-4e0a-9ba5-57f8c5eb9aba",
   "metadata": {},
   "outputs": [],
   "source": [
    "\n",
    "mediators=c('glucose_30740.0.0')\n",
    "\n",
    "results_med=matrix(nrow=length(mediators), ncol=19)\n",
    "\n",
    "for (i in 1:length(mediators)) {\n",
    "    \n",
    "    columns_to_check <- c(\"age_when_attended_assessment_centre_21003.2.0\", 'body_mass_index_bmi_21001.2.0',\n",
    "                         'sex_31.0.0', 'date_of_attending_assessment_centre_53.2.0','uk_biobank_assessment_centre_54.2.0',\n",
    "                         'upf_perc', 'right_nucleus_accumbens.MD', 'kJ_sum',                      \n",
    "                         'qualifications_6138.2.0','alcohol','smoking_status_20116.2.0',\n",
    "                         'number_of_daysweek_of_vigorous_physical_activity_10._minutes_904.2.0',\n",
    "                         'average_total_household_income_before_tax_738.2.0', mediators[i])\n",
    "    \n",
    "    # Remove rows with NA values in the specified columns\n",
    "    data_med <- data[complete.cases(data[, columns_to_check]), ]\n",
    "\n",
    "    mediator_var=data_med[[mediators[i]]]\n",
    "    \n",
    "    med.fit <- lm(mediator_var ~ \n",
    "                  upf_perc + \n",
    "                  saturated_fa +\n",
    "                  total_sugar + \n",
    "                  sodium +\n",
    "                  body_mass_index_bmi_21001.2.0 +\n",
    "                  kJ_sum +\n",
    "                  poly(age_when_attended_assessment_centre_21003.2.0, 2, raw=TRUE) *\n",
    "                  sex_31.0.0 + \n",
    "                  poly(difftime(as.Date(date_of_attending_assessment_centre_53.2.0), \n",
    "                           min(as.Date(date_of_attending_assessment_centre_53.2.0)), units='days'), 2, raw=TRUE) +\n",
    "                  uk_biobank_assessment_centre_54.2.0 +\n",
    "                  qualifications_6138.2.0  +\n",
    "                  smoking_status_20116.2.0 +\n",
    "                  alcohol + \n",
    "                  average_total_household_income_before_tax_738.2.0 +\n",
    "                  number_of_daysweek_of_vigorous_physical_activity_10._minutes_904.2.0 +\n",
    "                  number_of_daysweek_of_moderate_physical_activity_10._minutes_884.2.0,\n",
    "                   data = data_med)\n",
    "    \n",
    "    out.fit <- lm(right_nucleus_accumbens.MD ~ \n",
    "                  mediator_var + \n",
    "                  upf_perc +\n",
    "                  saturated_fa +\n",
    "                  total_sugar + \n",
    "                  sodium +\n",
    "                  body_mass_index_bmi_21001.2.0 +\n",
    "                  kJ_sum +\n",
    "                  poly(age_when_attended_assessment_centre_21003.2.0, 2, raw=TRUE) *\n",
    "                  sex_31.0.0 + \n",
    "                  poly(difftime(as.Date(date_of_attending_assessment_centre_53.2.0), \n",
    "                           min(as.Date(date_of_attending_assessment_centre_53.2.0)), units='days'), 2, raw=TRUE) +\n",
    "                  uk_biobank_assessment_centre_54.2.0 + \n",
    "                  qualifications_6138.2.0  +\n",
    "                  smoking_status_20116.2.0 +\n",
    "                  alcohol + \n",
    "                  average_total_household_income_before_tax_738.2.0 +\n",
    "                  number_of_daysweek_of_vigorous_physical_activity_10._minutes_904.2.0 +\n",
    "                      number_of_daysweek_of_moderate_physical_activity_10._minutes_884.2.0 \n",
    "                      , data = data_med)\n",
    "    \n",
    "    \n",
    "    med.out <- mediate(med.fit, out.fit, treat = \"upf_perc\", mediator = 'mediator_var', robustSE = TRUE, sims = 100)\n",
    "\n",
    "    med.sum=extract_mediation_summary(med.out)\n",
    "\n",
    "    results_med[i,1]=mediators[i]\n",
    "    results_med[i,2]=med.sum[1,1]\n",
    "    results_med[i,3]=med.sum[1,2]\n",
    "    results_med[i,4]=med.sum[1,3]\n",
    "    results_med[i,5]=med.sum[1,4]\n",
    "    results_med[i,6]=med.sum[2,1]\n",
    "    results_med[i,7]=med.sum[2,2]\n",
    "    results_med[i,8]=med.sum[2,3]\n",
    "    results_med[i,9]=med.sum[2,4]\n",
    "    results_med[i,10]=med.sum[3,1]\n",
    "    results_med[i,11]=med.sum[3,2]\n",
    "    results_med[i,12]=med.sum[3,3]\n",
    "    results_med[i,13]=med.sum[3,4]\n",
    "    results_med[i,14]=med.sum[4,1]\n",
    "    results_med[i,15]=med.sum[4,2]\n",
    "    results_med[i,16]=med.sum[4,3]\n",
    "    results_med[i,17]=med.sum[4,4]\n",
    "    results_med[i,18]=nrow(data_med)\n",
    "    results_med[i,19]='Right Nucleus Accumbens MD'\n",
    "\n",
    "\n",
    "    colnames(results_med)=c('Mediator','ACME est', 'ACME CI low', 'ACME CI upp','ACME p-value',\n",
    "                           'ADE est', 'ADE CI low', 'ADE CI upp','ADE p-value',\n",
    "                           'Total est', 'Total CI low', 'Total CI upp','Total p-value',\n",
    "                           'Proportion est', 'Proportion CI low', 'Proportion CI upp','Proportion p-value','Sample size','Brain region')\n",
    "\n",
    "}\n",
    "\n",
    "results_med=as.data.frame(results_med)\n",
    "results_med[,2:17]=sapply(results_med[,2:17], function(x) (as.numeric(x))) \n",
    "\n",
    "results_med2=results_med                          "
   ]
  },
  {
   "cell_type": "code",
   "execution_count": 68,
   "id": "44b47096-9ddf-46d6-9c64-53bb781cd3e0",
   "metadata": {},
   "outputs": [],
   "source": [
    "\n",
    "mediators=c('hdl_cholesterol_30760.0.0')\n",
    "\n",
    "results_med=matrix(nrow=length(mediators), ncol=19)\n",
    "\n",
    "for (i in 1:length(mediators)) {\n",
    "    \n",
    "    columns_to_check <- c(\"age_when_attended_assessment_centre_21003.2.0\", 'body_mass_index_bmi_21001.2.0',\n",
    "                         'sex_31.0.0', 'date_of_attending_assessment_centre_53.2.0','uk_biobank_assessment_centre_54.2.0',\n",
    "                         'upf_perc', 'full_hypo_MD', 'kJ_sum',                      \n",
    "                         'qualifications_6138.2.0','alcohol','smoking_status_20116.2.0',\n",
    "                         'number_of_daysweek_of_vigorous_physical_activity_10._minutes_904.2.0',\n",
    "                         'average_total_household_income_before_tax_738.2.0', mediators[i])\n",
    "    \n",
    "    # Remove rows with NA values in the specified columns\n",
    "    data_med <- data[complete.cases(data[, columns_to_check]), ]\n",
    "\n",
    "    mediator_var=data_med[[mediators[i]]]\n",
    "    \n",
    "    med.fit <- lm(mediator_var ~ \n",
    "                  upf_perc + \n",
    "                  saturated_fa +\n",
    "                  total_sugar + \n",
    "                  sodium +\n",
    "                  body_mass_index_bmi_21001.2.0 +\n",
    "                  kJ_sum +\n",
    "                  poly(age_when_attended_assessment_centre_21003.2.0, 2, raw=TRUE) *\n",
    "                  sex_31.0.0 + \n",
    "                  poly(difftime(as.Date(date_of_attending_assessment_centre_53.2.0), \n",
    "                           min(as.Date(date_of_attending_assessment_centre_53.2.0)), units='days'), 2, raw=TRUE) +\n",
    "                  uk_biobank_assessment_centre_54.2.0 +\n",
    "                  qualifications_6138.2.0  +\n",
    "                  smoking_status_20116.2.0 +\n",
    "                  alcohol + \n",
    "                  average_total_household_income_before_tax_738.2.0 +\n",
    "                  number_of_daysweek_of_vigorous_physical_activity_10._minutes_904.2.0 +\n",
    "                  number_of_daysweek_of_moderate_physical_activity_10._minutes_884.2.0,\n",
    "                   data = data_med)\n",
    "    \n",
    "    out.fit <- lm(full_hypo_MD ~ \n",
    "                  mediator_var + \n",
    "                  upf_perc +\n",
    "                  saturated_fa +\n",
    "                  total_sugar + \n",
    "                  sodium +\n",
    "                  body_mass_index_bmi_21001.2.0 +\n",
    "                  kJ_sum +\n",
    "                  poly(age_when_attended_assessment_centre_21003.2.0, 2, raw=TRUE) *\n",
    "                  sex_31.0.0 + \n",
    "                  poly(difftime(as.Date(date_of_attending_assessment_centre_53.2.0), \n",
    "                           min(as.Date(date_of_attending_assessment_centre_53.2.0)), units='days'), 2, raw=TRUE) +\n",
    "                  uk_biobank_assessment_centre_54.2.0 + \n",
    "                  qualifications_6138.2.0  +\n",
    "                  smoking_status_20116.2.0 +\n",
    "                  alcohol + \n",
    "                  average_total_household_income_before_tax_738.2.0 +\n",
    "                  number_of_daysweek_of_vigorous_physical_activity_10._minutes_904.2.0 +\n",
    "                      number_of_daysweek_of_moderate_physical_activity_10._minutes_884.2.0 \n",
    "                      , data = data_med)\n",
    "    \n",
    "    \n",
    "    med.out <- mediate(med.fit, out.fit, treat = \"upf_perc\", mediator = 'mediator_var', robustSE = TRUE, sims = 100)\n",
    "\n",
    "    med.sum=extract_mediation_summary(med.out)\n",
    "\n",
    "    results_med[i,1]=mediators[i]\n",
    "    results_med[i,2]=med.sum[1,1]\n",
    "    results_med[i,3]=med.sum[1,2]\n",
    "    results_med[i,4]=med.sum[1,3]\n",
    "    results_med[i,5]=med.sum[1,4]\n",
    "    results_med[i,6]=med.sum[2,1]\n",
    "    results_med[i,7]=med.sum[2,2]\n",
    "    results_med[i,8]=med.sum[2,3]\n",
    "    results_med[i,9]=med.sum[2,4]\n",
    "    results_med[i,10]=med.sum[3,1]\n",
    "    results_med[i,11]=med.sum[3,2]\n",
    "    results_med[i,12]=med.sum[3,3]\n",
    "    results_med[i,13]=med.sum[3,4]\n",
    "    results_med[i,14]=med.sum[4,1]\n",
    "    results_med[i,15]=med.sum[4,2]\n",
    "    results_med[i,16]=med.sum[4,3]\n",
    "    results_med[i,17]=med.sum[4,4]\n",
    "    results_med[i,18]=nrow(data_med)\n",
    "    results_med[i,19]='Hypothalamus MD'\n",
    "\n",
    "\n",
    "    colnames(results_med)=c('Mediator','ACME est', 'ACME CI low', 'ACME CI upp','ACME p-value',\n",
    "                           'ADE est', 'ADE CI low', 'ADE CI upp','ADE p-value',\n",
    "                           'Total est', 'Total CI low', 'Total CI upp','Total p-value',\n",
    "                           'Proportion est', 'Proportion CI low', 'Proportion CI upp','Proportion p-value','Sample size','Brain region')\n",
    "\n",
    "}\n",
    "\n",
    "results_med=as.data.frame(results_med)\n",
    "results_med[,2:17]=sapply(results_med[,2:17], function(x) (as.numeric(x))) \n",
    "\n",
    "results_med3=results_med                          "
   ]
  },
  {
   "cell_type": "code",
   "execution_count": 69,
   "id": "a6980298-32fe-4679-aff5-44f03d802d52",
   "metadata": {},
   "outputs": [],
   "source": [
    "\n",
    "mediators=c('triglycerides_30870.0.0')\n",
    "\n",
    "results_med=matrix(nrow=length(mediators), ncol=19)\n",
    "\n",
    "for (i in 1:length(mediators)) {\n",
    "    \n",
    "    columns_to_check <- c(\"age_when_attended_assessment_centre_21003.2.0\", 'body_mass_index_bmi_21001.2.0',\n",
    "                         'sex_31.0.0', 'date_of_attending_assessment_centre_53.2.0','uk_biobank_assessment_centre_54.2.0',\n",
    "                         'upf_perc', 'MNI_PD25_subcortical_RH_nucleus_accumbens.nii.gz.ICVF', 'kJ_sum',                      \n",
    "                         'qualifications_6138.2.0','alcohol','smoking_status_20116.2.0',\n",
    "                         'number_of_daysweek_of_vigorous_physical_activity_10._minutes_904.2.0',\n",
    "                         'average_total_household_income_before_tax_738.2.0', mediators[i])\n",
    "    \n",
    "    # Remove rows with NA values in the specified columns\n",
    "    data_med <- data[complete.cases(data[, columns_to_check]), ]\n",
    "\n",
    "    mediator_var=data_med[[mediators[i]]]\n",
    "    \n",
    "    med.fit <- lm(mediator_var ~ \n",
    "                  upf_perc + \n",
    "                  saturated_fa +\n",
    "                  total_sugar + \n",
    "                  sodium +\n",
    "                  body_mass_index_bmi_21001.2.0 +\n",
    "                  kJ_sum +\n",
    "                  poly(age_when_attended_assessment_centre_21003.2.0, 2, raw=TRUE) *\n",
    "                  sex_31.0.0 + \n",
    "                  poly(difftime(as.Date(date_of_attending_assessment_centre_53.2.0), \n",
    "                           min(as.Date(date_of_attending_assessment_centre_53.2.0)), units='days'), 2, raw=TRUE) +\n",
    "                  uk_biobank_assessment_centre_54.2.0 +\n",
    "                  qualifications_6138.2.0  +\n",
    "                  smoking_status_20116.2.0 +\n",
    "                  alcohol + \n",
    "                  average_total_household_income_before_tax_738.2.0 +\n",
    "                  number_of_daysweek_of_vigorous_physical_activity_10._minutes_904.2.0 +\n",
    "                  number_of_daysweek_of_moderate_physical_activity_10._minutes_884.2.0,\n",
    "                   data = data_med)\n",
    "    \n",
    "    out.fit <- lm(MNI_PD25_subcortical_RH_nucleus_accumbens.nii.gz.ICVF ~ \n",
    "                  mediator_var + \n",
    "                  upf_perc +\n",
    "                  saturated_fa +\n",
    "                  total_sugar + \n",
    "                  sodium +\n",
    "                  body_mass_index_bmi_21001.2.0 +\n",
    "                  kJ_sum +\n",
    "                  poly(age_when_attended_assessment_centre_21003.2.0, 2, raw=TRUE) *\n",
    "                  sex_31.0.0 + \n",
    "                  poly(difftime(as.Date(date_of_attending_assessment_centre_53.2.0), \n",
    "                           min(as.Date(date_of_attending_assessment_centre_53.2.0)), units='days'), 2, raw=TRUE) +\n",
    "                  uk_biobank_assessment_centre_54.2.0 + \n",
    "                  qualifications_6138.2.0  +\n",
    "                  smoking_status_20116.2.0 +\n",
    "                  alcohol + \n",
    "                  average_total_household_income_before_tax_738.2.0 +\n",
    "                  number_of_daysweek_of_vigorous_physical_activity_10._minutes_904.2.0 +\n",
    "                      number_of_daysweek_of_moderate_physical_activity_10._minutes_884.2.0 \n",
    "                      , data = data_med)\n",
    "    \n",
    "    \n",
    "    med.out <- mediate(med.fit, out.fit, treat = \"upf_perc\", mediator = 'mediator_var', robustSE = TRUE, sims = 100)\n",
    "\n",
    "    med.sum=extract_mediation_summary(med.out)\n",
    "\n",
    "    results_med[i,1]=mediators[i]\n",
    "    results_med[i,2]=med.sum[1,1]\n",
    "    results_med[i,3]=med.sum[1,2]\n",
    "    results_med[i,4]=med.sum[1,3]\n",
    "    results_med[i,5]=med.sum[1,4]\n",
    "    results_med[i,6]=med.sum[2,1]\n",
    "    results_med[i,7]=med.sum[2,2]\n",
    "    results_med[i,8]=med.sum[2,3]\n",
    "    results_med[i,9]=med.sum[2,4]\n",
    "    results_med[i,10]=med.sum[3,1]\n",
    "    results_med[i,11]=med.sum[3,2]\n",
    "    results_med[i,12]=med.sum[3,3]\n",
    "    results_med[i,13]=med.sum[3,4]\n",
    "    results_med[i,14]=med.sum[4,1]\n",
    "    results_med[i,15]=med.sum[4,2]\n",
    "    results_med[i,16]=med.sum[4,3]\n",
    "    results_med[i,17]=med.sum[4,4]\n",
    "    results_med[i,18]=nrow(data_med)\n",
    "    results_med[i,19]='Right Nucleus Accumbens ICVF'\n",
    "\n",
    "\n",
    "    colnames(results_med)=c('Mediator','ACME est', 'ACME CI low', 'ACME CI upp','ACME p-value',\n",
    "                           'ADE est', 'ADE CI low', 'ADE CI upp','ADE p-value',\n",
    "                           'Total est', 'Total CI low', 'Total CI upp','Total p-value',\n",
    "                           'Proportion est', 'Proportion CI low', 'Proportion CI upp','Proportion p-value','Sample size','Brain region')\n",
    "\n",
    "}\n",
    "\n",
    "results_med=as.data.frame(results_med)\n",
    "results_med[,2:17]=sapply(results_med[,2:17], function(x) (as.numeric(x))) \n",
    "\n",
    "results_med4=results_med                          "
   ]
  },
  {
   "cell_type": "code",
   "execution_count": 71,
   "id": "36056355-f818-4ba0-985e-58abfedb9c4b",
   "metadata": {},
   "outputs": [],
   "source": [
    "\n",
    "mediators=c('c.reactive_protein_30710.0.0')\n",
    "\n",
    "results_med=matrix(nrow=length(mediators), ncol=19)\n",
    "\n",
    "for (i in 1:length(mediators)) {\n",
    "    \n",
    "    columns_to_check <- c(\"age_when_attended_assessment_centre_21003.2.0\", 'body_mass_index_bmi_21001.2.0',\n",
    "                         'sex_31.0.0', 'date_of_attending_assessment_centre_53.2.0','uk_biobank_assessment_centre_54.2.0',\n",
    "                         'upf_perc', 'mean_fa_in_fornix_cres.stria_terminalis_on_fa_skeleton_left_25095.2.0', 'kJ_sum',                      \n",
    "                         'qualifications_6138.2.0','alcohol','smoking_status_20116.2.0',\n",
    "                         'number_of_daysweek_of_vigorous_physical_activity_10._minutes_904.2.0',\n",
    "                         'average_total_household_income_before_tax_738.2.0', mediators[i])\n",
    "    \n",
    "    # Remove rows with NA values in the specified columns\n",
    "    data_med <- data[complete.cases(data[, columns_to_check]), ]\n",
    "\n",
    "    mediator_var=data_med[[mediators[i]]]\n",
    "    \n",
    "    med.fit <- lm(mediator_var ~ \n",
    "                  upf_perc + \n",
    "                  saturated_fa +\n",
    "                  total_sugar + \n",
    "                  sodium +\n",
    "                  body_mass_index_bmi_21001.2.0 +\n",
    "                  kJ_sum +\n",
    "                  poly(age_when_attended_assessment_centre_21003.2.0, 2, raw=TRUE) *\n",
    "                  sex_31.0.0 + \n",
    "                  poly(difftime(as.Date(date_of_attending_assessment_centre_53.2.0), \n",
    "                           min(as.Date(date_of_attending_assessment_centre_53.2.0)), units='days'), 2, raw=TRUE) +\n",
    "                  uk_biobank_assessment_centre_54.2.0 +\n",
    "                  qualifications_6138.2.0  +\n",
    "                  smoking_status_20116.2.0 +\n",
    "                  alcohol + \n",
    "                  average_total_household_income_before_tax_738.2.0 +\n",
    "                  number_of_daysweek_of_vigorous_physical_activity_10._minutes_904.2.0 +\n",
    "                  number_of_daysweek_of_moderate_physical_activity_10._minutes_884.2.0,\n",
    "                   data = data_med)\n",
    "    \n",
    "    out.fit <- lm(mean_fa_in_fornix_cres.stria_terminalis_on_fa_skeleton_left_25095.2.0 ~ \n",
    "                  mediator_var + \n",
    "                  upf_perc +\n",
    "                  saturated_fa +\n",
    "                  total_sugar + \n",
    "                  sodium +\n",
    "                  body_mass_index_bmi_21001.2.0 +\n",
    "                  kJ_sum +\n",
    "                  poly(age_when_attended_assessment_centre_21003.2.0, 2, raw=TRUE) *\n",
    "                  sex_31.0.0 + \n",
    "                  poly(difftime(as.Date(date_of_attending_assessment_centre_53.2.0), \n",
    "                           min(as.Date(date_of_attending_assessment_centre_53.2.0)), units='days'), 2, raw=TRUE) +\n",
    "                  uk_biobank_assessment_centre_54.2.0 + \n",
    "                  qualifications_6138.2.0  +\n",
    "                  smoking_status_20116.2.0 +\n",
    "                  alcohol + \n",
    "                  average_total_household_income_before_tax_738.2.0 +\n",
    "                  number_of_daysweek_of_vigorous_physical_activity_10._minutes_904.2.0 +\n",
    "                      number_of_daysweek_of_moderate_physical_activity_10._minutes_884.2.0 \n",
    "                      , data = data_med)\n",
    "    \n",
    "    \n",
    "    med.out <- mediate(med.fit, out.fit, treat = \"upf_perc\", mediator = 'mediator_var', robustSE = TRUE, sims = 100)\n",
    "\n",
    "    med.sum=extract_mediation_summary(med.out)\n",
    "\n",
    "    results_med[i,1]=mediators[i]\n",
    "    results_med[i,2]=med.sum[1,1]\n",
    "    results_med[i,3]=med.sum[1,2]\n",
    "    results_med[i,4]=med.sum[1,3]\n",
    "    results_med[i,5]=med.sum[1,4]\n",
    "    results_med[i,6]=med.sum[2,1]\n",
    "    results_med[i,7]=med.sum[2,2]\n",
    "    results_med[i,8]=med.sum[2,3]\n",
    "    results_med[i,9]=med.sum[2,4]\n",
    "    results_med[i,10]=med.sum[3,1]\n",
    "    results_med[i,11]=med.sum[3,2]\n",
    "    results_med[i,12]=med.sum[3,3]\n",
    "    results_med[i,13]=med.sum[3,4]\n",
    "    results_med[i,14]=med.sum[4,1]\n",
    "    results_med[i,15]=med.sum[4,2]\n",
    "    results_med[i,16]=med.sum[4,3]\n",
    "    results_med[i,17]=med.sum[4,4]\n",
    "    results_med[i,18]=nrow(data_med)\n",
    "    results_med[i,19]='Fornix Cres Stria Terminalis FA'\n",
    "\n",
    "\n",
    "    colnames(results_med)=c('Mediator','ACME est', 'ACME CI low', 'ACME CI upp','ACME p-value',\n",
    "                           'ADE est', 'ADE CI low', 'ADE CI upp','ADE p-value',\n",
    "                           'Total est', 'Total CI low', 'Total CI upp','Total p-value',\n",
    "                           'Proportion est', 'Proportion CI low', 'Proportion CI upp','Proportion p-value','Sample size','Brain region')\n",
    "\n",
    "}\n",
    "\n",
    "results_med=as.data.frame(results_med)\n",
    "results_med[,2:17]=sapply(results_med[,2:17], function(x) (as.numeric(x))) \n",
    "\n",
    "results_med5=results_med                          "
   ]
  },
  {
   "cell_type": "markdown",
   "id": "15623d7e-5637-443f-99c3-d2b7a1263b7b",
   "metadata": {},
   "source": [
    "### BMI as a mediator between UPF and hpth/stria terminalis because hpth disappears after removing BMI"
   ]
  },
  {
   "cell_type": "code",
   "execution_count": 127,
   "id": "5dd5bd96-f85e-44bc-b32b-525111c34ed5",
   "metadata": {},
   "outputs": [],
   "source": [
    "mediators=c('body_mass_index_bmi_21001.2.0')\n",
    "\n",
    "results_med=matrix(nrow=length(mediators), ncol=19)\n",
    "\n",
    "for (i in 1:length(mediators)) {\n",
    "    \n",
    "    columns_to_check <- c(\"age_when_attended_assessment_centre_21003.2.0\", 'body_mass_index_bmi_21001.2.0',\n",
    "                         'sex_31.0.0', 'date_of_attending_assessment_centre_53.2.0','uk_biobank_assessment_centre_54.2.0',\n",
    "                         'upf_perc', 'full_hypo.MD', 'kJ_sum',\n",
    "                         'qualifications_6138.2.0','alcohol','smoking_status_20116.2.0',\n",
    "                         'number_of_daysweek_of_vigorous_physical_activity_10._minutes_904.2.0',\n",
    "                         'average_total_household_income_before_tax_738.2.0', mediators[i])\n",
    "    \n",
    "    # Remove rows with NA values in the specified columns\n",
    "    data_med <- data[complete.cases(data[, columns_to_check]), ]\n",
    "\n",
    "    mediator_var=data_med[[mediators[i]]]\n",
    "    \n",
    "    med.fit <- lm(mediator_var ~ \n",
    "                  upf_perc + \n",
    "                  saturated_fa +\n",
    "                  total_sugar + \n",
    "                  sodium +\n",
    "                  kJ_sum +\n",
    "                  poly(age_when_attended_assessment_centre_21003.2.0, 2, raw=TRUE) *\n",
    "                  sex_31.0.0 + \n",
    "                  poly(difftime(as.Date(date_of_attending_assessment_centre_53.2.0), \n",
    "                           min(as.Date(date_of_attending_assessment_centre_53.2.0)), units='days'), 2, raw=TRUE) +\n",
    "                  uk_biobank_assessment_centre_54.2.0 +\n",
    "                  qualifications_6138.2.0  +\n",
    "                  smoking_status_20116.2.0 +\n",
    "                  alcohol + \n",
    "                  average_total_household_income_before_tax_738.2.0 +\n",
    "                  number_of_daysweek_of_vigorous_physical_activity_10._minutes_904.2.0 +\n",
    "                      number_of_daysweek_of_moderate_physical_activity_10._minutes_884.2.0,\n",
    "                   data = data_med)\n",
    "    \n",
    "    out.fit <- lm(full_hypo.MD ~ \n",
    "                  mediator_var + \n",
    "                  upf_perc +\n",
    "                  saturated_fa +\n",
    "                  total_sugar + \n",
    "                  sodium +\n",
    "                  kJ_sum +\n",
    "                  poly(age_when_attended_assessment_centre_21003.2.0, 2, raw=TRUE) *\n",
    "                  sex_31.0.0 + \n",
    "                  poly(difftime(as.Date(date_of_attending_assessment_centre_53.2.0), \n",
    "                           min(as.Date(date_of_attending_assessment_centre_53.2.0)), units='days'), 2, raw=TRUE) +\n",
    "                  uk_biobank_assessment_centre_54.2.0 + \n",
    "                  qualifications_6138.2.0  +\n",
    "                  smoking_status_20116.2.0 +\n",
    "                  alcohol + \n",
    "                  average_total_household_income_before_tax_738.2.0 +\n",
    "                  number_of_daysweek_of_vigorous_physical_activity_10._minutes_904.2.0 +\n",
    "                      number_of_daysweek_of_moderate_physical_activity_10._minutes_884.2.0, data = data_med)\n",
    "    \n",
    "    \n",
    "    med.out <- mediate(med.fit, out.fit, treat = \"upf_perc\", mediator = 'mediator_var', robustSE = TRUE, sims = 100)\n",
    "med.sum=extract_mediation_summary(med.out)\n",
    "\n",
    "    results_med[i,1]=mediators[i]\n",
    "    results_med[i,2]=med.sum[1,1]\n",
    "    results_med[i,3]=med.sum[1,2]\n",
    "    results_med[i,4]=med.sum[1,3]\n",
    "    results_med[i,5]=med.sum[1,4]\n",
    "    results_med[i,6]=med.sum[2,1]\n",
    "    results_med[i,7]=med.sum[2,2]\n",
    "    results_med[i,8]=med.sum[2,3]\n",
    "    results_med[i,9]=med.sum[2,4]\n",
    "    results_med[i,10]=med.sum[3,1]\n",
    "    results_med[i,11]=med.sum[3,2]\n",
    "    results_med[i,12]=med.sum[3,3]\n",
    "    results_med[i,13]=med.sum[3,4]\n",
    "    results_med[i,14]=med.sum[4,1]\n",
    "    results_med[i,15]=med.sum[4,2]\n",
    "    results_med[i,16]=med.sum[4,3]\n",
    "    results_med[i,17]=med.sum[4,4]\n",
    "    results_med[i,18]=nrow(data_med)\n",
    "    results_med[i,19]='Hypothalamus MD'\n",
    "\n",
    "\n",
    "    colnames(results_med)=c('Mediator','ACME est', 'ACME CI low', 'ACME CI upp','ACME p-value',\n",
    "                           'ADE est', 'ADE CI low', 'ADE CI upp','ADE p-value',\n",
    "                           'Total est', 'Total CI low', 'Total CI upp','Total p-value',\n",
    "                           'Proportion est', 'Proportion CI low', 'Proportion CI upp','Proportion p-value','Sample size','Brain region')\n",
    "}\n",
    "\n",
    "results_med=as.data.frame(results_med)\n",
    "results_med[,2:17]=sapply(results_med[,2:17], function(x) (as.numeric(x))) \n",
    "\n",
    "results_med6=results_med          "
   ]
  },
  {
   "cell_type": "code",
   "execution_count": 128,
   "id": "f540155b-16f3-4779-84a7-3d6bfc887eae",
   "metadata": {},
   "outputs": [],
   "source": [
    "mediators=c('body_mass_index_bmi_21001.2.0')\n",
    "\n",
    "results_med=matrix(nrow=length(mediators), ncol=19)\n",
    "\n",
    "for (i in 1:length(mediators)) {\n",
    "    \n",
    "    columns_to_check <- c(\"age_when_attended_assessment_centre_21003.2.0\", 'body_mass_index_bmi_21001.2.0',\n",
    "                         'sex_31.0.0', 'date_of_attending_assessment_centre_53.2.0','uk_biobank_assessment_centre_54.2.0',\n",
    "                         'upf_perc', 'mean_fa_in_fornix_cres.stria_terminalis_on_fa_skeleton_left_25095.2.0', 'kJ_sum',\n",
    "                         'qualifications_6138.2.0','alcohol','smoking_status_20116.2.0',\n",
    "                         'number_of_daysweek_of_vigorous_physical_activity_10._minutes_904.2.0',\n",
    "                         'average_total_household_income_before_tax_738.2.0', mediators[i])\n",
    "    \n",
    "    # Remove rows with NA values in the specified columns\n",
    "    data_med <- data[complete.cases(data[, columns_to_check]), ]\n",
    "\n",
    "    mediator_var=data_med[[mediators[i]]]\n",
    "    \n",
    "    med.fit <- lm(mediator_var ~ \n",
    "                  upf_perc + \n",
    "                  saturated_fa +\n",
    "                  total_sugar + \n",
    "                  sodium +\n",
    "                  kJ_sum +\n",
    "                  poly(age_when_attended_assessment_centre_21003.2.0, 2, raw=TRUE) *\n",
    "                  sex_31.0.0 + \n",
    "                  poly(difftime(as.Date(date_of_attending_assessment_centre_53.2.0), \n",
    "                           min(as.Date(date_of_attending_assessment_centre_53.2.0)), units='days'), 2, raw=TRUE) +\n",
    "                  uk_biobank_assessment_centre_54.2.0 +\n",
    "                  qualifications_6138.2.0  +\n",
    "                  smoking_status_20116.2.0 +\n",
    "                  alcohol + \n",
    "                  average_total_household_income_before_tax_738.2.0 +\n",
    "                  number_of_daysweek_of_vigorous_physical_activity_10._minutes_904.2.0 +\n",
    "                      number_of_daysweek_of_moderate_physical_activity_10._minutes_884.2.0,\n",
    "                   data = data_med)\n",
    "    \n",
    "    out.fit <- lm(mean_fa_in_fornix_cres.stria_terminalis_on_fa_skeleton_left_25095.2.0 ~ \n",
    "                  mediator_var + \n",
    "                  upf_perc +\n",
    "                  saturated_fa +\n",
    "                  total_sugar + \n",
    "                  sodium +\n",
    "                  kJ_sum +\n",
    "                  poly(age_when_attended_assessment_centre_21003.2.0, 2, raw=TRUE) *\n",
    "                  sex_31.0.0 + \n",
    "                  poly(difftime(as.Date(date_of_attending_assessment_centre_53.2.0), \n",
    "                           min(as.Date(date_of_attending_assessment_centre_53.2.0)), units='days'), 2, raw=TRUE) +\n",
    "                  uk_biobank_assessment_centre_54.2.0 + \n",
    "                  qualifications_6138.2.0  +\n",
    "                  smoking_status_20116.2.0 +\n",
    "                  alcohol + \n",
    "                  average_total_household_income_before_tax_738.2.0 +\n",
    "                  number_of_daysweek_of_vigorous_physical_activity_10._minutes_904.2.0 +\n",
    "                      number_of_daysweek_of_moderate_physical_activity_10._minutes_884.2.0, data = data_med)\n",
    "    \n",
    "    \n",
    "    med.out <- mediate(med.fit, out.fit, treat = \"upf_perc\", mediator = 'mediator_var', robustSE = TRUE, sims = 100)\n",
    "med.sum=extract_mediation_summary(med.out)\n",
    "\n",
    "    results_med[i,1]=mediators[i]\n",
    "    results_med[i,2]=med.sum[1,1]\n",
    "    results_med[i,3]=med.sum[1,2]\n",
    "    results_med[i,4]=med.sum[1,3]\n",
    "    results_med[i,5]=med.sum[1,4]\n",
    "    results_med[i,6]=med.sum[2,1]\n",
    "    results_med[i,7]=med.sum[2,2]\n",
    "    results_med[i,8]=med.sum[2,3]\n",
    "    results_med[i,9]=med.sum[2,4]\n",
    "    results_med[i,10]=med.sum[3,1]\n",
    "    results_med[i,11]=med.sum[3,2]\n",
    "    results_med[i,12]=med.sum[3,3]\n",
    "    results_med[i,13]=med.sum[3,4]\n",
    "    results_med[i,14]=med.sum[4,1]\n",
    "    results_med[i,15]=med.sum[4,2]\n",
    "    results_med[i,16]=med.sum[4,3]\n",
    "    results_med[i,17]=med.sum[4,4]\n",
    "    results_med[i,18]=nrow(data_med)\n",
    "        results_med[i,19]='Fornix Cres Stria terminals FA'\n",
    "\n",
    "\n",
    "    colnames(results_med)=c('Mediator','ACME est', 'ACME CI low', 'ACME CI upp','ACME p-value',\n",
    "                           'ADE est', 'ADE CI low', 'ADE CI upp','ADE p-value',\n",
    "                           'Total est', 'Total CI low', 'Total CI upp','Total p-value',\n",
    "                           'Proportion est', 'Proportion CI low', 'Proportion CI upp','Proportion p-value','Sample size','Brain region')\n",
    "}\n",
    "\n",
    "results_med=as.data.frame(results_med)\n",
    "results_med[,2:17]=sapply(results_med[,2:17], function(x) (as.numeric(x))) \n",
    "\n",
    "results_med7=results_med          "
   ]
  },
  {
   "cell_type": "code",
   "execution_count": 129,
   "id": "dad46ad5-dd73-4e25-b95e-dde00afc7a35",
   "metadata": {},
   "outputs": [],
   "source": [
    "results_med=rbind(results_med1, results_med2, results_med3, results_med4, results_med5, results_med6, results_med7, results_med8)"
   ]
  },
  {
   "cell_type": "code",
   "execution_count": 130,
   "id": "79691381-a92d-4471-b159-45993f73c382",
   "metadata": {},
   "outputs": [],
   "source": [
    "results_med=results_med %>% mutate_if(is.numeric, round_and_format, digits = 4, threshold = 0.0001)\n",
    "tab_med=flextable(results_med[,c(19,1,2,5,6,9,10,13,14,17,18)])\n",
    "tab_med=autofit(tab_med, add_w = 0.1,add_h = 0.1,part = c(\"body\", \"header\"),unit = \"in\")  %>% fit_to_width(max_width=9) %>% \n",
    "set_caption(caption = 'Table S9 Mediation analyses results')"
   ]
  },
  {
   "cell_type": "code",
   "execution_count": 37,
   "id": "fb2b0476-7d7c-4c97-a769-6fff5581cd44",
   "metadata": {},
   "outputs": [],
   "source": [
    "taq=read.table('~/Downloads/UKBB_Taq_coded.csv', header=T, sep=',')"
   ]
  },
  {
   "cell_type": "code",
   "execution_count": 38,
   "id": "ee10c8f8-4ccb-43ac-950f-4e70ccffaba0",
   "metadata": {},
   "outputs": [],
   "source": [
    "data=merge(data, taq, by.x='eid', by.y='FID', all.x=T)"
   ]
  },
  {
   "cell_type": "code",
   "execution_count": 39,
   "id": "71bd2135-a6b3-4b82-9d6c-0600b22c1270",
   "metadata": {},
   "outputs": [
    {
     "data": {
      "text/html": [
       "<style>\n",
       ".list-inline {list-style: none; margin:0; padding: 0}\n",
       ".list-inline>li {display: inline-block}\n",
       ".list-inline>li:not(:last-child)::after {content: \"\\00b7\"; padding: 0 .5ex}\n",
       "</style>\n",
       "<ol class=list-inline><li>'A2A2'</li><li>'A1A2'</li><li>'A1A1'</li><li>NA</li></ol>\n"
      ],
      "text/latex": [
       "\\begin{enumerate*}\n",
       "\\item 'A2A2'\n",
       "\\item 'A1A2'\n",
       "\\item 'A1A1'\n",
       "\\item NA\n",
       "\\end{enumerate*}\n"
      ],
      "text/markdown": [
       "1. 'A2A2'\n",
       "2. 'A1A2'\n",
       "3. 'A1A1'\n",
       "4. NA\n",
       "\n",
       "\n"
      ],
      "text/plain": [
       "[1] \"A2A2\" \"A1A2\" \"A1A1\" NA    "
      ]
     },
     "metadata": {},
     "output_type": "display_data"
    }
   ],
   "source": [
    "unique(data$Taq1A)"
   ]
  },
  {
   "cell_type": "code",
   "execution_count": 40,
   "id": "5b2f1d66-e59c-4f9a-995c-e93989742266",
   "metadata": {},
   "outputs": [],
   "source": [
    "data$Taq1A_rec=dplyr::recode(data$Taq1A, 'A1A1'=2, 'A1A2'=1,'A2A2'=0)"
   ]
  },
  {
   "cell_type": "code",
   "execution_count": 44,
   "id": "e2c33ac2-c610-4816-96a2-0680d633c6d8",
   "metadata": {},
   "outputs": [
    {
     "data": {
      "text/html": [
       "<table class=\"dataframe\">\n",
       "<caption>A matrix: 35 × 4 of type dbl</caption>\n",
       "<thead>\n",
       "\t<tr><th></th><th scope=col>Estimate</th><th scope=col>Std. Error</th><th scope=col>t value</th><th scope=col>Pr(&gt;|t|)</th></tr>\n",
       "</thead>\n",
       "<tbody>\n",
       "\t<tr><th scope=row>(Intercept)</th><td> 1.764523e-03</td><td>8.613127e-05</td><td>20.48643503</td><td>5.264118e-92</td></tr>\n",
       "\t<tr><th scope=row>data$Taq1A_rec</th><td> 1.809141e-06</td><td>4.944642e-06</td><td> 0.36587911</td><td>7.144605e-01</td></tr>\n",
       "\t<tr><th scope=row>data$upf_perc</th><td>-1.633494e-05</td><td>7.253815e-06</td><td>-2.25190963</td><td>2.434250e-02</td></tr>\n",
       "\t<tr><th scope=row>data$saturated_fa</th><td>-9.877283e-08</td><td>9.211009e-08</td><td>-1.07233455</td><td>2.835872e-01</td></tr>\n",
       "\t<tr><th scope=row>data$total_sugar</th><td> 1.087507e-08</td><td>2.017634e-08</td><td> 0.53900112</td><td>5.898941e-01</td></tr>\n",
       "\t<tr><th scope=row>data$sodium</th><td> 7.628006e-10</td><td>1.333204e-09</td><td> 0.57215591</td><td>5.672250e-01</td></tr>\n",
       "\t<tr><th scope=row>data$body_mass_index_bmi_21001.2.0</th><td>-3.294210e-07</td><td>2.494878e-07</td><td>-1.32038921</td><td>1.867254e-01</td></tr>\n",
       "\t<tr><th scope=row>poly(data$age_when_attended_assessment_centre_21003.2.0, 2, raw = TRUE)1</th><td>-2.154673e-05</td><td>2.756036e-06</td><td>-7.81801437</td><td>5.724480e-15</td></tr>\n",
       "\t<tr><th scope=row>poly(data$age_when_attended_assessment_centre_21003.2.0, 2, raw = TRUE)2</th><td> 2.384249e-07</td><td>2.200261e-08</td><td>10.83620838</td><td>2.931056e-27</td></tr>\n",
       "\t<tr><th scope=row>data$sex_31.0.0Male</th><td>-2.494697e-04</td><td>1.232842e-04</td><td>-2.02353433</td><td>4.303592e-02</td></tr>\n",
       "\t<tr><th scope=row>poly(difftime(as.Date(data$date_of_attending_assessment_centre_53.2.0), min(as.Date(data$date_of_attending_assessment_centre_53.2.0)), units = \"days\"), 2, raw = TRUE)1</th><td>-3.110068e-08</td><td>8.027230e-09</td><td>-3.87439711</td><td>1.073470e-04</td></tr>\n",
       "\t<tr><th scope=row>poly(difftime(as.Date(data$date_of_attending_assessment_centre_53.2.0), min(as.Date(data$date_of_attending_assessment_centre_53.2.0)), units = \"days\"), 2, raw = TRUE)2</th><td> 2.456356e-11</td><td>3.670125e-12</td><td> 6.69283978</td><td>2.267052e-11</td></tr>\n",
       "\t<tr><th scope=row>data$uk_biobank_assessment_centre_54.2.0Newcastle (imaging)</th><td>-1.974213e-05</td><td>2.654873e-06</td><td>-7.43618793</td><td>1.092810e-13</td></tr>\n",
       "\t<tr><th scope=row>data$uk_biobank_assessment_centre_54.2.0Reading (imaging)</th><td>-2.846759e-05</td><td>3.356183e-06</td><td>-8.48213481</td><td>2.416940e-17</td></tr>\n",
       "\t<tr><th scope=row>data$qualifications_6138.2.0College or University degree</th><td> 7.523961e-06</td><td>2.948742e-06</td><td> 2.55158345</td><td>1.073337e-02</td></tr>\n",
       "\t<tr><th scope=row>data$qualifications_6138.2.0CSEs or equivalent</th><td>-1.065682e-06</td><td>5.911509e-06</td><td>-0.18027238</td><td>8.569412e-01</td></tr>\n",
       "\t<tr><th scope=row>data$qualifications_6138.2.0None of the above</th><td>-2.515582e-06</td><td>5.293884e-06</td><td>-0.47518650</td><td>6.346610e-01</td></tr>\n",
       "\t<tr><th scope=row>data$qualifications_6138.2.0NVQ or HND or HNC or equivalent</th><td> 6.730719e-07</td><td>4.880201e-06</td><td> 0.13791890</td><td>8.903064e-01</td></tr>\n",
       "\t<tr><th scope=row>data$qualifications_6138.2.0O levels/GCSEs or equivalent</th><td>-3.462263e-06</td><td>3.501165e-06</td><td>-0.98888882</td><td>3.227336e-01</td></tr>\n",
       "\t<tr><th scope=row>data$qualifications_6138.2.0Other professional qualifications eg: nursing, teaching</th><td> 1.008868e-06</td><td>5.120728e-06</td><td> 0.19701659</td><td>8.438172e-01</td></tr>\n",
       "\t<tr><th scope=row>data$qualifications_6138.2.0Prefer not to answer</th><td> 1.826004e-05</td><td>1.920178e-05</td><td> 0.95095585</td><td>3.416422e-01</td></tr>\n",
       "\t<tr><th scope=row>data$smoking_status_20116.2.0Never</th><td> 1.144423e-06</td><td>5.399273e-06</td><td> 0.21195882</td><td>8.321421e-01</td></tr>\n",
       "\t<tr><th scope=row>data$smoking_status_20116.2.0Prefer not to answer</th><td>-1.106578e-05</td><td>1.939841e-05</td><td>-0.57044796</td><td>5.683825e-01</td></tr>\n",
       "\t<tr><th scope=row>data$smoking_status_20116.2.0Previous</th><td> 3.880832e-06</td><td>5.520154e-06</td><td> 0.70302965</td><td>4.820483e-01</td></tr>\n",
       "\t<tr><th scope=row>data$alcoholYes</th><td> 7.949366e-06</td><td>1.923049e-06</td><td> 4.13372935</td><td>3.588790e-05</td></tr>\n",
       "\t<tr><th scope=row>data$average_total_household_income_before_tax_738.2.031,000 to 51,999</th><td>-2.879203e-06</td><td>2.643240e-06</td><td>-1.08927046</td><td>2.760523e-01</td></tr>\n",
       "\t<tr><th scope=row>data$average_total_household_income_before_tax_738.2.052,000 to 100,000</th><td>-2.713580e-06</td><td>2.918350e-06</td><td>-0.92983371</td><td>3.524723e-01</td></tr>\n",
       "\t<tr><th scope=row>data$average_total_household_income_before_tax_738.2.0Do not know</th><td>-8.120847e-06</td><td>6.052698e-06</td><td>-1.34169039</td><td>1.797169e-01</td></tr>\n",
       "\t<tr><th scope=row>data$average_total_household_income_before_tax_738.2.0Greater than 100,000</th><td>-4.144809e-06</td><td>4.174419e-06</td><td>-0.99290686</td><td>3.207715e-01</td></tr>\n",
       "\t<tr><th scope=row>data$average_total_household_income_before_tax_738.2.0Less than 18,000</th><td> 1.891965e-06</td><td>3.623534e-06</td><td> 0.52213255</td><td>6.015858e-01</td></tr>\n",
       "\t<tr><th scope=row>data$average_total_household_income_before_tax_738.2.0Prefer not to answer</th><td>-9.987982e-06</td><td>4.468574e-06</td><td>-2.23516094</td><td>2.542156e-02</td></tr>\n",
       "\t<tr><th scope=row>data$number_of_daysweek_of_vigorous_physical_activity_10._minutes_904.2.0</th><td>-5.660020e-07</td><td>5.182605e-07</td><td>-1.09211879</td><td>2.747986e-01</td></tr>\n",
       "\t<tr><th scope=row>data$Taq1A_rec:data$upf_perc</th><td> 1.766275e-07</td><td>9.991318e-06</td><td> 0.01767809</td><td>9.858959e-01</td></tr>\n",
       "\t<tr><th scope=row>poly(data$age_when_attended_assessment_centre_21003.2.0, 2, raw = TRUE)1:data$sex_31.0.0Male</th><td> 9.819018e-06</td><td>3.953930e-06</td><td> 2.48335683</td><td>1.302599e-02</td></tr>\n",
       "\t<tr><th scope=row>poly(data$age_when_attended_assessment_centre_21003.2.0, 2, raw = TRUE)2:data$sex_31.0.0Male</th><td>-8.094440e-08</td><td>3.139663e-08</td><td>-2.57812423</td><td>9.943349e-03</td></tr>\n",
       "</tbody>\n",
       "</table>\n"
      ],
      "text/latex": [
       "A matrix: 35 × 4 of type dbl\n",
       "\\begin{tabular}{r|llll}\n",
       "  & Estimate & Std. Error & t value & Pr(>\\textbar{}t\\textbar{})\\\\\n",
       "\\hline\n",
       "\t(Intercept) &  1.764523e-03 & 8.613127e-05 & 20.48643503 & 5.264118e-92\\\\\n",
       "\tdata\\$Taq1A\\_rec &  1.809141e-06 & 4.944642e-06 &  0.36587911 & 7.144605e-01\\\\\n",
       "\tdata\\$upf\\_perc & -1.633494e-05 & 7.253815e-06 & -2.25190963 & 2.434250e-02\\\\\n",
       "\tdata\\$saturated\\_fa & -9.877283e-08 & 9.211009e-08 & -1.07233455 & 2.835872e-01\\\\\n",
       "\tdata\\$total\\_sugar &  1.087507e-08 & 2.017634e-08 &  0.53900112 & 5.898941e-01\\\\\n",
       "\tdata\\$sodium &  7.628006e-10 & 1.333204e-09 &  0.57215591 & 5.672250e-01\\\\\n",
       "\tdata\\$body\\_mass\\_index\\_bmi\\_21001.2.0 & -3.294210e-07 & 2.494878e-07 & -1.32038921 & 1.867254e-01\\\\\n",
       "\tpoly(data\\$age\\_when\\_attended\\_assessment\\_centre\\_21003.2.0, 2, raw = TRUE)1 & -2.154673e-05 & 2.756036e-06 & -7.81801437 & 5.724480e-15\\\\\n",
       "\tpoly(data\\$age\\_when\\_attended\\_assessment\\_centre\\_21003.2.0, 2, raw = TRUE)2 &  2.384249e-07 & 2.200261e-08 & 10.83620838 & 2.931056e-27\\\\\n",
       "\tdata\\$sex\\_31.0.0Male & -2.494697e-04 & 1.232842e-04 & -2.02353433 & 4.303592e-02\\\\\n",
       "\tpoly(difftime(as.Date(data\\$date\\_of\\_attending\\_assessment\\_centre\\_53.2.0), min(as.Date(data\\$date\\_of\\_attending\\_assessment\\_centre\\_53.2.0)), units = \"days\"), 2, raw = TRUE)1 & -3.110068e-08 & 8.027230e-09 & -3.87439711 & 1.073470e-04\\\\\n",
       "\tpoly(difftime(as.Date(data\\$date\\_of\\_attending\\_assessment\\_centre\\_53.2.0), min(as.Date(data\\$date\\_of\\_attending\\_assessment\\_centre\\_53.2.0)), units = \"days\"), 2, raw = TRUE)2 &  2.456356e-11 & 3.670125e-12 &  6.69283978 & 2.267052e-11\\\\\n",
       "\tdata\\$uk\\_biobank\\_assessment\\_centre\\_54.2.0Newcastle (imaging) & -1.974213e-05 & 2.654873e-06 & -7.43618793 & 1.092810e-13\\\\\n",
       "\tdata\\$uk\\_biobank\\_assessment\\_centre\\_54.2.0Reading (imaging) & -2.846759e-05 & 3.356183e-06 & -8.48213481 & 2.416940e-17\\\\\n",
       "\tdata\\$qualifications\\_6138.2.0College or University degree &  7.523961e-06 & 2.948742e-06 &  2.55158345 & 1.073337e-02\\\\\n",
       "\tdata\\$qualifications\\_6138.2.0CSEs or equivalent & -1.065682e-06 & 5.911509e-06 & -0.18027238 & 8.569412e-01\\\\\n",
       "\tdata\\$qualifications\\_6138.2.0None of the above & -2.515582e-06 & 5.293884e-06 & -0.47518650 & 6.346610e-01\\\\\n",
       "\tdata\\$qualifications\\_6138.2.0NVQ or HND or HNC or equivalent &  6.730719e-07 & 4.880201e-06 &  0.13791890 & 8.903064e-01\\\\\n",
       "\tdata\\$qualifications\\_6138.2.0O levels/GCSEs or equivalent & -3.462263e-06 & 3.501165e-06 & -0.98888882 & 3.227336e-01\\\\\n",
       "\tdata\\$qualifications\\_6138.2.0Other professional qualifications eg: nursing, teaching &  1.008868e-06 & 5.120728e-06 &  0.19701659 & 8.438172e-01\\\\\n",
       "\tdata\\$qualifications\\_6138.2.0Prefer not to answer &  1.826004e-05 & 1.920178e-05 &  0.95095585 & 3.416422e-01\\\\\n",
       "\tdata\\$smoking\\_status\\_20116.2.0Never &  1.144423e-06 & 5.399273e-06 &  0.21195882 & 8.321421e-01\\\\\n",
       "\tdata\\$smoking\\_status\\_20116.2.0Prefer not to answer & -1.106578e-05 & 1.939841e-05 & -0.57044796 & 5.683825e-01\\\\\n",
       "\tdata\\$smoking\\_status\\_20116.2.0Previous &  3.880832e-06 & 5.520154e-06 &  0.70302965 & 4.820483e-01\\\\\n",
       "\tdata\\$alcoholYes &  7.949366e-06 & 1.923049e-06 &  4.13372935 & 3.588790e-05\\\\\n",
       "\tdata\\$average\\_total\\_household\\_income\\_before\\_tax\\_738.2.031,000 to 51,999 & -2.879203e-06 & 2.643240e-06 & -1.08927046 & 2.760523e-01\\\\\n",
       "\tdata\\$average\\_total\\_household\\_income\\_before\\_tax\\_738.2.052,000 to 100,000 & -2.713580e-06 & 2.918350e-06 & -0.92983371 & 3.524723e-01\\\\\n",
       "\tdata\\$average\\_total\\_household\\_income\\_before\\_tax\\_738.2.0Do not know & -8.120847e-06 & 6.052698e-06 & -1.34169039 & 1.797169e-01\\\\\n",
       "\tdata\\$average\\_total\\_household\\_income\\_before\\_tax\\_738.2.0Greater than 100,000 & -4.144809e-06 & 4.174419e-06 & -0.99290686 & 3.207715e-01\\\\\n",
       "\tdata\\$average\\_total\\_household\\_income\\_before\\_tax\\_738.2.0Less than 18,000 &  1.891965e-06 & 3.623534e-06 &  0.52213255 & 6.015858e-01\\\\\n",
       "\tdata\\$average\\_total\\_household\\_income\\_before\\_tax\\_738.2.0Prefer not to answer & -9.987982e-06 & 4.468574e-06 & -2.23516094 & 2.542156e-02\\\\\n",
       "\tdata\\$number\\_of\\_daysweek\\_of\\_vigorous\\_physical\\_activity\\_10.\\_minutes\\_904.2.0 & -5.660020e-07 & 5.182605e-07 & -1.09211879 & 2.747986e-01\\\\\n",
       "\tdata\\$Taq1A\\_rec:data\\$upf\\_perc &  1.766275e-07 & 9.991318e-06 &  0.01767809 & 9.858959e-01\\\\\n",
       "\tpoly(data\\$age\\_when\\_attended\\_assessment\\_centre\\_21003.2.0, 2, raw = TRUE)1:data\\$sex\\_31.0.0Male &  9.819018e-06 & 3.953930e-06 &  2.48335683 & 1.302599e-02\\\\\n",
       "\tpoly(data\\$age\\_when\\_attended\\_assessment\\_centre\\_21003.2.0, 2, raw = TRUE)2:data\\$sex\\_31.0.0Male & -8.094440e-08 & 3.139663e-08 & -2.57812423 & 9.943349e-03\\\\\n",
       "\\end{tabular}\n"
      ],
      "text/markdown": [
       "\n",
       "A matrix: 35 × 4 of type dbl\n",
       "\n",
       "| <!--/--> | Estimate | Std. Error | t value | Pr(&gt;|t|) |\n",
       "|---|---|---|---|---|\n",
       "| (Intercept) |  1.764523e-03 | 8.613127e-05 | 20.48643503 | 5.264118e-92 |\n",
       "| data$Taq1A_rec |  1.809141e-06 | 4.944642e-06 |  0.36587911 | 7.144605e-01 |\n",
       "| data$upf_perc | -1.633494e-05 | 7.253815e-06 | -2.25190963 | 2.434250e-02 |\n",
       "| data$saturated_fa | -9.877283e-08 | 9.211009e-08 | -1.07233455 | 2.835872e-01 |\n",
       "| data$total_sugar |  1.087507e-08 | 2.017634e-08 |  0.53900112 | 5.898941e-01 |\n",
       "| data$sodium |  7.628006e-10 | 1.333204e-09 |  0.57215591 | 5.672250e-01 |\n",
       "| data$body_mass_index_bmi_21001.2.0 | -3.294210e-07 | 2.494878e-07 | -1.32038921 | 1.867254e-01 |\n",
       "| poly(data$age_when_attended_assessment_centre_21003.2.0, 2, raw = TRUE)1 | -2.154673e-05 | 2.756036e-06 | -7.81801437 | 5.724480e-15 |\n",
       "| poly(data$age_when_attended_assessment_centre_21003.2.0, 2, raw = TRUE)2 |  2.384249e-07 | 2.200261e-08 | 10.83620838 | 2.931056e-27 |\n",
       "| data$sex_31.0.0Male | -2.494697e-04 | 1.232842e-04 | -2.02353433 | 4.303592e-02 |\n",
       "| poly(difftime(as.Date(data$date_of_attending_assessment_centre_53.2.0), min(as.Date(data$date_of_attending_assessment_centre_53.2.0)), units = \"days\"), 2, raw = TRUE)1 | -3.110068e-08 | 8.027230e-09 | -3.87439711 | 1.073470e-04 |\n",
       "| poly(difftime(as.Date(data$date_of_attending_assessment_centre_53.2.0), min(as.Date(data$date_of_attending_assessment_centre_53.2.0)), units = \"days\"), 2, raw = TRUE)2 |  2.456356e-11 | 3.670125e-12 |  6.69283978 | 2.267052e-11 |\n",
       "| data$uk_biobank_assessment_centre_54.2.0Newcastle (imaging) | -1.974213e-05 | 2.654873e-06 | -7.43618793 | 1.092810e-13 |\n",
       "| data$uk_biobank_assessment_centre_54.2.0Reading (imaging) | -2.846759e-05 | 3.356183e-06 | -8.48213481 | 2.416940e-17 |\n",
       "| data$qualifications_6138.2.0College or University degree |  7.523961e-06 | 2.948742e-06 |  2.55158345 | 1.073337e-02 |\n",
       "| data$qualifications_6138.2.0CSEs or equivalent | -1.065682e-06 | 5.911509e-06 | -0.18027238 | 8.569412e-01 |\n",
       "| data$qualifications_6138.2.0None of the above | -2.515582e-06 | 5.293884e-06 | -0.47518650 | 6.346610e-01 |\n",
       "| data$qualifications_6138.2.0NVQ or HND or HNC or equivalent |  6.730719e-07 | 4.880201e-06 |  0.13791890 | 8.903064e-01 |\n",
       "| data$qualifications_6138.2.0O levels/GCSEs or equivalent | -3.462263e-06 | 3.501165e-06 | -0.98888882 | 3.227336e-01 |\n",
       "| data$qualifications_6138.2.0Other professional qualifications eg: nursing, teaching |  1.008868e-06 | 5.120728e-06 |  0.19701659 | 8.438172e-01 |\n",
       "| data$qualifications_6138.2.0Prefer not to answer |  1.826004e-05 | 1.920178e-05 |  0.95095585 | 3.416422e-01 |\n",
       "| data$smoking_status_20116.2.0Never |  1.144423e-06 | 5.399273e-06 |  0.21195882 | 8.321421e-01 |\n",
       "| data$smoking_status_20116.2.0Prefer not to answer | -1.106578e-05 | 1.939841e-05 | -0.57044796 | 5.683825e-01 |\n",
       "| data$smoking_status_20116.2.0Previous |  3.880832e-06 | 5.520154e-06 |  0.70302965 | 4.820483e-01 |\n",
       "| data$alcoholYes |  7.949366e-06 | 1.923049e-06 |  4.13372935 | 3.588790e-05 |\n",
       "| data$average_total_household_income_before_tax_738.2.031,000 to 51,999 | -2.879203e-06 | 2.643240e-06 | -1.08927046 | 2.760523e-01 |\n",
       "| data$average_total_household_income_before_tax_738.2.052,000 to 100,000 | -2.713580e-06 | 2.918350e-06 | -0.92983371 | 3.524723e-01 |\n",
       "| data$average_total_household_income_before_tax_738.2.0Do not know | -8.120847e-06 | 6.052698e-06 | -1.34169039 | 1.797169e-01 |\n",
       "| data$average_total_household_income_before_tax_738.2.0Greater than 100,000 | -4.144809e-06 | 4.174419e-06 | -0.99290686 | 3.207715e-01 |\n",
       "| data$average_total_household_income_before_tax_738.2.0Less than 18,000 |  1.891965e-06 | 3.623534e-06 |  0.52213255 | 6.015858e-01 |\n",
       "| data$average_total_household_income_before_tax_738.2.0Prefer not to answer | -9.987982e-06 | 4.468574e-06 | -2.23516094 | 2.542156e-02 |\n",
       "| data$number_of_daysweek_of_vigorous_physical_activity_10._minutes_904.2.0 | -5.660020e-07 | 5.182605e-07 | -1.09211879 | 2.747986e-01 |\n",
       "| data$Taq1A_rec:data$upf_perc |  1.766275e-07 | 9.991318e-06 |  0.01767809 | 9.858959e-01 |\n",
       "| poly(data$age_when_attended_assessment_centre_21003.2.0, 2, raw = TRUE)1:data$sex_31.0.0Male |  9.819018e-06 | 3.953930e-06 |  2.48335683 | 1.302599e-02 |\n",
       "| poly(data$age_when_attended_assessment_centre_21003.2.0, 2, raw = TRUE)2:data$sex_31.0.0Male | -8.094440e-08 | 3.139663e-08 | -2.57812423 | 9.943349e-03 |\n",
       "\n"
      ],
      "text/plain": [
       "                                                                                                                                                                        Estimate     \n",
       "(Intercept)                                                                                                                                                              1.764523e-03\n",
       "data$Taq1A_rec                                                                                                                                                           1.809141e-06\n",
       "data$upf_perc                                                                                                                                                           -1.633494e-05\n",
       "data$saturated_fa                                                                                                                                                       -9.877283e-08\n",
       "data$total_sugar                                                                                                                                                         1.087507e-08\n",
       "data$sodium                                                                                                                                                              7.628006e-10\n",
       "data$body_mass_index_bmi_21001.2.0                                                                                                                                      -3.294210e-07\n",
       "poly(data$age_when_attended_assessment_centre_21003.2.0, 2, raw = TRUE)1                                                                                                -2.154673e-05\n",
       "poly(data$age_when_attended_assessment_centre_21003.2.0, 2, raw = TRUE)2                                                                                                 2.384249e-07\n",
       "data$sex_31.0.0Male                                                                                                                                                     -2.494697e-04\n",
       "poly(difftime(as.Date(data$date_of_attending_assessment_centre_53.2.0), min(as.Date(data$date_of_attending_assessment_centre_53.2.0)), units = \"days\"), 2, raw = TRUE)1 -3.110068e-08\n",
       "poly(difftime(as.Date(data$date_of_attending_assessment_centre_53.2.0), min(as.Date(data$date_of_attending_assessment_centre_53.2.0)), units = \"days\"), 2, raw = TRUE)2  2.456356e-11\n",
       "data$uk_biobank_assessment_centre_54.2.0Newcastle (imaging)                                                                                                             -1.974213e-05\n",
       "data$uk_biobank_assessment_centre_54.2.0Reading (imaging)                                                                                                               -2.846759e-05\n",
       "data$qualifications_6138.2.0College or University degree                                                                                                                 7.523961e-06\n",
       "data$qualifications_6138.2.0CSEs or equivalent                                                                                                                          -1.065682e-06\n",
       "data$qualifications_6138.2.0None of the above                                                                                                                           -2.515582e-06\n",
       "data$qualifications_6138.2.0NVQ or HND or HNC or equivalent                                                                                                              6.730719e-07\n",
       "data$qualifications_6138.2.0O levels/GCSEs or equivalent                                                                                                                -3.462263e-06\n",
       "data$qualifications_6138.2.0Other professional qualifications eg: nursing, teaching                                                                                      1.008868e-06\n",
       "data$qualifications_6138.2.0Prefer not to answer                                                                                                                         1.826004e-05\n",
       "data$smoking_status_20116.2.0Never                                                                                                                                       1.144423e-06\n",
       "data$smoking_status_20116.2.0Prefer not to answer                                                                                                                       -1.106578e-05\n",
       "data$smoking_status_20116.2.0Previous                                                                                                                                    3.880832e-06\n",
       "data$alcoholYes                                                                                                                                                          7.949366e-06\n",
       "data$average_total_household_income_before_tax_738.2.031,000 to 51,999                                                                                                  -2.879203e-06\n",
       "data$average_total_household_income_before_tax_738.2.052,000 to 100,000                                                                                                 -2.713580e-06\n",
       "data$average_total_household_income_before_tax_738.2.0Do not know                                                                                                       -8.120847e-06\n",
       "data$average_total_household_income_before_tax_738.2.0Greater than 100,000                                                                                              -4.144809e-06\n",
       "data$average_total_household_income_before_tax_738.2.0Less than 18,000                                                                                                   1.891965e-06\n",
       "data$average_total_household_income_before_tax_738.2.0Prefer not to answer                                                                                              -9.987982e-06\n",
       "data$number_of_daysweek_of_vigorous_physical_activity_10._minutes_904.2.0                                                                                               -5.660020e-07\n",
       "data$Taq1A_rec:data$upf_perc                                                                                                                                             1.766275e-07\n",
       "poly(data$age_when_attended_assessment_centre_21003.2.0, 2, raw = TRUE)1:data$sex_31.0.0Male                                                                             9.819018e-06\n",
       "poly(data$age_when_attended_assessment_centre_21003.2.0, 2, raw = TRUE)2:data$sex_31.0.0Male                                                                            -8.094440e-08\n",
       "                                                                                                                                                                        Std. Error  \n",
       "(Intercept)                                                                                                                                                             8.613127e-05\n",
       "data$Taq1A_rec                                                                                                                                                          4.944642e-06\n",
       "data$upf_perc                                                                                                                                                           7.253815e-06\n",
       "data$saturated_fa                                                                                                                                                       9.211009e-08\n",
       "data$total_sugar                                                                                                                                                        2.017634e-08\n",
       "data$sodium                                                                                                                                                             1.333204e-09\n",
       "data$body_mass_index_bmi_21001.2.0                                                                                                                                      2.494878e-07\n",
       "poly(data$age_when_attended_assessment_centre_21003.2.0, 2, raw = TRUE)1                                                                                                2.756036e-06\n",
       "poly(data$age_when_attended_assessment_centre_21003.2.0, 2, raw = TRUE)2                                                                                                2.200261e-08\n",
       "data$sex_31.0.0Male                                                                                                                                                     1.232842e-04\n",
       "poly(difftime(as.Date(data$date_of_attending_assessment_centre_53.2.0), min(as.Date(data$date_of_attending_assessment_centre_53.2.0)), units = \"days\"), 2, raw = TRUE)1 8.027230e-09\n",
       "poly(difftime(as.Date(data$date_of_attending_assessment_centre_53.2.0), min(as.Date(data$date_of_attending_assessment_centre_53.2.0)), units = \"days\"), 2, raw = TRUE)2 3.670125e-12\n",
       "data$uk_biobank_assessment_centre_54.2.0Newcastle (imaging)                                                                                                             2.654873e-06\n",
       "data$uk_biobank_assessment_centre_54.2.0Reading (imaging)                                                                                                               3.356183e-06\n",
       "data$qualifications_6138.2.0College or University degree                                                                                                                2.948742e-06\n",
       "data$qualifications_6138.2.0CSEs or equivalent                                                                                                                          5.911509e-06\n",
       "data$qualifications_6138.2.0None of the above                                                                                                                           5.293884e-06\n",
       "data$qualifications_6138.2.0NVQ or HND or HNC or equivalent                                                                                                             4.880201e-06\n",
       "data$qualifications_6138.2.0O levels/GCSEs or equivalent                                                                                                                3.501165e-06\n",
       "data$qualifications_6138.2.0Other professional qualifications eg: nursing, teaching                                                                                     5.120728e-06\n",
       "data$qualifications_6138.2.0Prefer not to answer                                                                                                                        1.920178e-05\n",
       "data$smoking_status_20116.2.0Never                                                                                                                                      5.399273e-06\n",
       "data$smoking_status_20116.2.0Prefer not to answer                                                                                                                       1.939841e-05\n",
       "data$smoking_status_20116.2.0Previous                                                                                                                                   5.520154e-06\n",
       "data$alcoholYes                                                                                                                                                         1.923049e-06\n",
       "data$average_total_household_income_before_tax_738.2.031,000 to 51,999                                                                                                  2.643240e-06\n",
       "data$average_total_household_income_before_tax_738.2.052,000 to 100,000                                                                                                 2.918350e-06\n",
       "data$average_total_household_income_before_tax_738.2.0Do not know                                                                                                       6.052698e-06\n",
       "data$average_total_household_income_before_tax_738.2.0Greater than 100,000                                                                                              4.174419e-06\n",
       "data$average_total_household_income_before_tax_738.2.0Less than 18,000                                                                                                  3.623534e-06\n",
       "data$average_total_household_income_before_tax_738.2.0Prefer not to answer                                                                                              4.468574e-06\n",
       "data$number_of_daysweek_of_vigorous_physical_activity_10._minutes_904.2.0                                                                                               5.182605e-07\n",
       "data$Taq1A_rec:data$upf_perc                                                                                                                                            9.991318e-06\n",
       "poly(data$age_when_attended_assessment_centre_21003.2.0, 2, raw = TRUE)1:data$sex_31.0.0Male                                                                            3.953930e-06\n",
       "poly(data$age_when_attended_assessment_centre_21003.2.0, 2, raw = TRUE)2:data$sex_31.0.0Male                                                                            3.139663e-08\n",
       "                                                                                                                                                                        t value    \n",
       "(Intercept)                                                                                                                                                             20.48643503\n",
       "data$Taq1A_rec                                                                                                                                                           0.36587911\n",
       "data$upf_perc                                                                                                                                                           -2.25190963\n",
       "data$saturated_fa                                                                                                                                                       -1.07233455\n",
       "data$total_sugar                                                                                                                                                         0.53900112\n",
       "data$sodium                                                                                                                                                              0.57215591\n",
       "data$body_mass_index_bmi_21001.2.0                                                                                                                                      -1.32038921\n",
       "poly(data$age_when_attended_assessment_centre_21003.2.0, 2, raw = TRUE)1                                                                                                -7.81801437\n",
       "poly(data$age_when_attended_assessment_centre_21003.2.0, 2, raw = TRUE)2                                                                                                10.83620838\n",
       "data$sex_31.0.0Male                                                                                                                                                     -2.02353433\n",
       "poly(difftime(as.Date(data$date_of_attending_assessment_centre_53.2.0), min(as.Date(data$date_of_attending_assessment_centre_53.2.0)), units = \"days\"), 2, raw = TRUE)1 -3.87439711\n",
       "poly(difftime(as.Date(data$date_of_attending_assessment_centre_53.2.0), min(as.Date(data$date_of_attending_assessment_centre_53.2.0)), units = \"days\"), 2, raw = TRUE)2  6.69283978\n",
       "data$uk_biobank_assessment_centre_54.2.0Newcastle (imaging)                                                                                                             -7.43618793\n",
       "data$uk_biobank_assessment_centre_54.2.0Reading (imaging)                                                                                                               -8.48213481\n",
       "data$qualifications_6138.2.0College or University degree                                                                                                                 2.55158345\n",
       "data$qualifications_6138.2.0CSEs or equivalent                                                                                                                          -0.18027238\n",
       "data$qualifications_6138.2.0None of the above                                                                                                                           -0.47518650\n",
       "data$qualifications_6138.2.0NVQ or HND or HNC or equivalent                                                                                                              0.13791890\n",
       "data$qualifications_6138.2.0O levels/GCSEs or equivalent                                                                                                                -0.98888882\n",
       "data$qualifications_6138.2.0Other professional qualifications eg: nursing, teaching                                                                                      0.19701659\n",
       "data$qualifications_6138.2.0Prefer not to answer                                                                                                                         0.95095585\n",
       "data$smoking_status_20116.2.0Never                                                                                                                                       0.21195882\n",
       "data$smoking_status_20116.2.0Prefer not to answer                                                                                                                       -0.57044796\n",
       "data$smoking_status_20116.2.0Previous                                                                                                                                    0.70302965\n",
       "data$alcoholYes                                                                                                                                                          4.13372935\n",
       "data$average_total_household_income_before_tax_738.2.031,000 to 51,999                                                                                                  -1.08927046\n",
       "data$average_total_household_income_before_tax_738.2.052,000 to 100,000                                                                                                 -0.92983371\n",
       "data$average_total_household_income_before_tax_738.2.0Do not know                                                                                                       -1.34169039\n",
       "data$average_total_household_income_before_tax_738.2.0Greater than 100,000                                                                                              -0.99290686\n",
       "data$average_total_household_income_before_tax_738.2.0Less than 18,000                                                                                                   0.52213255\n",
       "data$average_total_household_income_before_tax_738.2.0Prefer not to answer                                                                                              -2.23516094\n",
       "data$number_of_daysweek_of_vigorous_physical_activity_10._minutes_904.2.0                                                                                               -1.09211879\n",
       "data$Taq1A_rec:data$upf_perc                                                                                                                                             0.01767809\n",
       "poly(data$age_when_attended_assessment_centre_21003.2.0, 2, raw = TRUE)1:data$sex_31.0.0Male                                                                             2.48335683\n",
       "poly(data$age_when_attended_assessment_centre_21003.2.0, 2, raw = TRUE)2:data$sex_31.0.0Male                                                                            -2.57812423\n",
       "                                                                                                                                                                        Pr(>|t|)    \n",
       "(Intercept)                                                                                                                                                             5.264118e-92\n",
       "data$Taq1A_rec                                                                                                                                                          7.144605e-01\n",
       "data$upf_perc                                                                                                                                                           2.434250e-02\n",
       "data$saturated_fa                                                                                                                                                       2.835872e-01\n",
       "data$total_sugar                                                                                                                                                        5.898941e-01\n",
       "data$sodium                                                                                                                                                             5.672250e-01\n",
       "data$body_mass_index_bmi_21001.2.0                                                                                                                                      1.867254e-01\n",
       "poly(data$age_when_attended_assessment_centre_21003.2.0, 2, raw = TRUE)1                                                                                                5.724480e-15\n",
       "poly(data$age_when_attended_assessment_centre_21003.2.0, 2, raw = TRUE)2                                                                                                2.931056e-27\n",
       "data$sex_31.0.0Male                                                                                                                                                     4.303592e-02\n",
       "poly(difftime(as.Date(data$date_of_attending_assessment_centre_53.2.0), min(as.Date(data$date_of_attending_assessment_centre_53.2.0)), units = \"days\"), 2, raw = TRUE)1 1.073470e-04\n",
       "poly(difftime(as.Date(data$date_of_attending_assessment_centre_53.2.0), min(as.Date(data$date_of_attending_assessment_centre_53.2.0)), units = \"days\"), 2, raw = TRUE)2 2.267052e-11\n",
       "data$uk_biobank_assessment_centre_54.2.0Newcastle (imaging)                                                                                                             1.092810e-13\n",
       "data$uk_biobank_assessment_centre_54.2.0Reading (imaging)                                                                                                               2.416940e-17\n",
       "data$qualifications_6138.2.0College or University degree                                                                                                                1.073337e-02\n",
       "data$qualifications_6138.2.0CSEs or equivalent                                                                                                                          8.569412e-01\n",
       "data$qualifications_6138.2.0None of the above                                                                                                                           6.346610e-01\n",
       "data$qualifications_6138.2.0NVQ or HND or HNC or equivalent                                                                                                             8.903064e-01\n",
       "data$qualifications_6138.2.0O levels/GCSEs or equivalent                                                                                                                3.227336e-01\n",
       "data$qualifications_6138.2.0Other professional qualifications eg: nursing, teaching                                                                                     8.438172e-01\n",
       "data$qualifications_6138.2.0Prefer not to answer                                                                                                                        3.416422e-01\n",
       "data$smoking_status_20116.2.0Never                                                                                                                                      8.321421e-01\n",
       "data$smoking_status_20116.2.0Prefer not to answer                                                                                                                       5.683825e-01\n",
       "data$smoking_status_20116.2.0Previous                                                                                                                                   4.820483e-01\n",
       "data$alcoholYes                                                                                                                                                         3.588790e-05\n",
       "data$average_total_household_income_before_tax_738.2.031,000 to 51,999                                                                                                  2.760523e-01\n",
       "data$average_total_household_income_before_tax_738.2.052,000 to 100,000                                                                                                 3.524723e-01\n",
       "data$average_total_household_income_before_tax_738.2.0Do not know                                                                                                       1.797169e-01\n",
       "data$average_total_household_income_before_tax_738.2.0Greater than 100,000                                                                                              3.207715e-01\n",
       "data$average_total_household_income_before_tax_738.2.0Less than 18,000                                                                                                  6.015858e-01\n",
       "data$average_total_household_income_before_tax_738.2.0Prefer not to answer                                                                                              2.542156e-02\n",
       "data$number_of_daysweek_of_vigorous_physical_activity_10._minutes_904.2.0                                                                                               2.747986e-01\n",
       "data$Taq1A_rec:data$upf_perc                                                                                                                                            9.858959e-01\n",
       "poly(data$age_when_attended_assessment_centre_21003.2.0, 2, raw = TRUE)1:data$sex_31.0.0Male                                                                            1.302599e-02\n",
       "poly(data$age_when_attended_assessment_centre_21003.2.0, 2, raw = TRUE)2:data$sex_31.0.0Male                                                                            9.943349e-03"
      ]
     },
     "metadata": {},
     "output_type": "display_data"
    }
   ],
   "source": [
    "(summary(lm(data$full_hypo_MD~ \n",
    "          data$Taq1A_rec *\n",
    "          data$upf_perc +\n",
    "          data$saturated_fa +\n",
    "          data$total_sugar + \n",
    "          data$sodium +\n",
    "          data$body_mass_index_bmi_21001.2.0 +\n",
    "          poly(data$age_when_attended_assessment_centre_21003.2.0, 2, raw=TRUE) *\n",
    "          data$sex_31.0.0 + \n",
    "          poly(difftime(as.Date(data$date_of_attending_assessment_centre_53.2.0), \n",
    "                   min(as.Date(data$date_of_attending_assessment_centre_53.2.0)), units='days'), 2, raw=TRUE) +\n",
    "          data$uk_biobank_assessment_centre_54.2.0 + \n",
    "          data$qualifications_6138.2.0  +\n",
    "          data$smoking_status_20116.2.0 +\n",
    "          data$alcohol + \n",
    "          data$average_total_household_income_before_tax_738.2.0 +\n",
    "          data$number_of_daysweek_of_vigorous_physical_activity_10._minutes_904.2.0)))$coefficients"
   ]
  },
  {
   "cell_type": "code",
   "execution_count": 43,
   "id": "f4b8700b-936d-4911-a4d1-f2fe6ca68a35",
   "metadata": {},
   "outputs": [
    {
     "name": "stderr",
     "output_type": "stream",
     "text": [
      "Warning message:\n",
      "“\u001b[1m\u001b[22mUse of `data$body_mass_index_bmi_21001.2.0` is discouraged.\n",
      "\u001b[36mℹ\u001b[39m Use `body_mass_index_bmi_21001.2.0` instead.”\n",
      "Warning message:\n",
      "“\u001b[1m\u001b[22mRemoved 1232 rows containing non-finite values (`stat_boxplot()`).”\n"
     ]
    },
    {
     "data": {
      "image/png": "[encoded data removed]",
      "text/plain": [
       "plot without title"
      ]
     },
     "metadata": {
      "image/png": {
       "height": 420,
       "width": 420
      }
     },
     "output_type": "display_data"
    }
   ],
   "source": [
    "ggplot(data=data, aes(x=as.factor(Taq1A_rec), y=data$`body_mass_index_bmi_21001.2.0`)) + geom_boxplot()"
   ]
  },
  {
   "cell_type": "markdown",
   "id": "28fc920d-8b58-4e9b-bf28-e55fce0ba73a",
   "metadata": {},
   "source": [
    "# Save tables"
   ]
  },
  {
   "cell_type": "code",
   "execution_count": 131,
   "id": "99786081-51cf-45ec-9952-32848a67944b",
   "metadata": {},
   "outputs": [],
   "source": [
    "save_as_docx(tab_corr, tab_cortex, tab_subcortex, tab_wm, tab_dti, tab_noddi, tab_cog, tab_premed, tab_med,\n",
    "             path='/dagher/dagher11/filip/UPF/tables/All_tables_June.docx')"
   ]
  },
  {
   "cell_type": "markdown",
   "id": "32866a04-7c3b-44ad-82d7-9f8385b2978c",
   "metadata": {},
   "source": [
    "# Plotting"
   ]
  },
  {
   "cell_type": "code",
   "execution_count": 91,
   "id": "b683c257-b4b6-4ede-9dd3-6d7a7520bde1",
   "metadata": {},
   "outputs": [],
   "source": [
    "common_theme <- theme(\n",
    "  axis.text.x = element_text(size = 12),\n",
    "  axis.text.y = element_text(size = 12),\n",
    ")"
   ]
  },
  {
   "cell_type": "code",
   "execution_count": 36,
   "id": "21cc5068-b7c8-4502-8bfe-41c7d6684f27",
   "metadata": {},
   "outputs": [
    {
     "data": {
      "text/html": [
       "<strong>png:</strong> 2"
      ],
      "text/latex": [
       "\\textbf{png:} 2"
      ],
      "text/markdown": [
       "**png:** 2"
      ],
      "text/plain": [
       "png \n",
       "  2 "
      ]
     },
     "metadata": {},
     "output_type": "display_data"
    }
   ],
   "source": [
    "png('/dagher/dagher11/filip/UPF/figures/Figure2_old.png', height=3000, width=6000, res=300)\n",
    "ggarrange(forest_CTSA,\n",
    "          ggarrange(forest_subvol, forest_WM, forest_subDTI, forest_subNODDI, \n",
    "                    labels=c('b','c','d','e'),  font.label = list(size = 15, color = \"black\"), ncol=2, nrow=2,\n",
    "                   widths=c(1.5,2)),\n",
    "          labels = c(\"a\", \"\"), font.label = list(size = 15, color = \"black\"),\n",
    "          ncol = 2, nrow = 1, widths=c(1,2)) +\n",
    "          theme(plot.margin = margin(0,0,0,0, \"cm\"))\n",
    "dev.off()"
   ]
  },
  {
   "cell_type": "code",
   "execution_count": 93,
   "id": "96160980-45dd-4acf-a696-9d72aa666094",
   "metadata": {},
   "outputs": [
    {
     "data": {
      "text/html": [
       "<strong>png:</strong> 2"
      ],
      "text/latex": [
       "\\textbf{png:} 2"
      ],
      "text/markdown": [
       "**png:** 2"
      ],
      "text/plain": [
       "png \n",
       "  2 "
      ]
     },
     "metadata": {},
     "output_type": "display_data"
    }
   ],
   "source": [
    "png('/dagher/dagher11/filip/UPF/figures/Figure2.png', height=3000, width=5000, res=300)\n",
    "ggarrange(forest_CTSA + common_theme,\n",
    "          ggarrange(forest_subvol + common_theme, forest_WM + common_theme, \n",
    "                    labels=c('b','c'),  font.label = list(size = 15, color = \"black\"), ncol=1, nrow=2),\n",
    "          labels = c(\"a\", \"\"), font.label = list(size = 15, color = \"black\"),\n",
    "          ncol = 2, nrow = 1, widths=c(1.2,1)) +\n",
    "          theme(plot.margin = margin(0,0,0,0, \"cm\"))\n",
    "dev.off()"
   ]
  },
  {
   "cell_type": "code",
   "execution_count": 101,
   "id": "b2eb8129-d83e-47ab-bb70-1f8dd8410bfe",
   "metadata": {},
   "outputs": [
    {
     "data": {
      "text/html": [
       "<strong>png:</strong> 2"
      ],
      "text/latex": [
       "\\textbf{png:} 2"
      ],
      "text/markdown": [
       "**png:** 2"
      ],
      "text/plain": [
       "png \n",
       "  2 "
      ]
     },
     "metadata": {},
     "output_type": "display_data"
    }
   ],
   "source": [
    "png('/dagher/dagher11/filip/UPF/figures/Figure3.png', height=1700, width=5000, res=300)\n",
    "ggarrange(forest_subDTI + common_theme, forest_subNODDI + common_theme,\n",
    "          labels = c(\"a\", \"b\"), font.label = list(size = 15, color = \"black\"),\n",
    "          ncol = 2, nrow = 1, widths=c(1.2,1)) +\n",
    "          theme(plot.margin = margin(0,0,0,0, \"cm\"))\n",
    "dev.off()"
   ]
  },
  {
   "cell_type": "code",
   "execution_count": null,
   "id": "aec84e71-e3d4-4396-aa14-e2ad0d0c00a1",
   "metadata": {},
   "outputs": [],
   "source": []
  }
 ],
 "metadata": {
  "kernelspec": {
   "display_name": "mambaR",
   "language": "R",
   "name": "r4"
  },
  "language_info": {
   "codemirror_mode": "r",
   "file_extension": ".r",
   "mimetype": "text/x-r-source",
   "name": "R",
   "pygments_lexer": "r",
   "version": "4.3.1"
  }
 },
 "nbformat": 4,
 "nbformat_minor": 5
}
