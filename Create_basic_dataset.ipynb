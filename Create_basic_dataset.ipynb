{
 "cells": [
  {
   "cell_type": "code",
   "execution_count": 1,
   "id": "d71583ec-aa2d-4a0c-847e-b48f6c63a898",
   "metadata": {},
   "outputs": [
    {
     "name": "stderr",
     "output_type": "stream",
     "text": [
      "Loading required package: ggpubr\n",
      "\n",
      "Loading required package: ggplot2\n",
      "\n",
      "Loading required package: tiff\n",
      "\n",
      "Loading required package: grid\n",
      "\n",
      "Loading required package: gridExtra\n",
      "\n",
      "Loading required package: ggseg\n",
      "\n",
      "Loading required package: R.matlab\n",
      "\n",
      "R.matlab v3.7.0 (2022-08-25 21:52:34 UTC) successfully loaded. See ?R.matlab for help.\n",
      "\n",
      "\n",
      "Attaching package: ‘R.matlab’\n",
      "\n",
      "\n",
      "The following objects are masked from ‘package:base’:\n",
      "\n",
      "    getOption, isOpen\n",
      "\n",
      "\n"
     ]
    }
   ],
   "source": [
    "# Install some packages\n",
    "if (!require(\"ggpubr\")) install.packages(\"ggpubr\")\n",
    "if (!require(\"ggplot2\")) install.packages(\"ggplot2\")\n",
    "if (!require(\"tiff\")) install.packages(\"tiff\")\n",
    "if (!require(\"grid\")) install.packages(\"grid\")\n",
    "if (!require(\"gridExtra\")) install.packages(\"gridExtra\")\n",
    "if (!require(\"ggseg\")) install.packages(\"ggseg\")\n",
    "if (!require(\"R.matlab\")) install.packages(\"R.matlab\")"
   ]
  },
  {
   "cell_type": "code",
   "execution_count": 2,
   "id": "90654ed8-b8fe-4fb4-a64d-c8e65c3f4198",
   "metadata": {},
   "outputs": [],
   "source": [
    "data=read.table('/dagher/dagher11/filip/UPF/data/extracted_data_updated_correctedencoding_nutrients.csv', header=TRUE, na.strings = \"\", sep=',', quote = \"\\\"\")\n",
    "icddate=read.table('/dagher/dagher11/filip/UPF/data/icd10date.csv', header=TRUE, na.strings = \"\", sep=',', quote = \"\\\"\")\n",
    "data=merge(data,icddate)"
   ]
  },
  {
   "cell_type": "code",
   "execution_count": 3,
   "id": "923c40b2-1b63-4300-995b-d699fd678dd0",
   "metadata": {},
   "outputs": [
    {
     "data": {
      "text/html": [
       "502293"
      ],
      "text/latex": [
       "502293"
      ],
      "text/markdown": [
       "502293"
      ],
      "text/plain": [
       "[1] 502293"
      ]
     },
     "metadata": {},
     "output_type": "display_data"
    },
    {
     "data": {
      "text/html": [
       "459349"
      ],
      "text/latex": [
       "459349"
      ],
      "text/markdown": [
       "459349"
      ],
      "text/plain": [
       "[1] 459349"
      ]
     },
     "metadata": {},
     "output_type": "display_data"
    }
   ],
   "source": [
    "exclusions_neuro=c('^G','^E0','^E10','^E2','^E3','^A8','^C70','^C71','^C72','^I6')\n",
    "# G - nervous system; F - Mental and behavioural; E0 - thyroid; E11-14 - diabetes, E2-3 endocrine glands; \n",
    "# A8 - viral infections of the CNS; C70-72 malignant neoplasms of brain, meninges and spinal cord; \n",
    "# I6 - cerebrovscular\n",
    "\n",
    "icd_dates_cols=grep('icd10_41280', colnames(data))\n",
    "index=1\n",
    "data$neurological_disorder = NA\n",
    "\n",
    "for (i in as.numeric(grep('icd10_41270', colnames(data)))) {\n",
    "    for (d in 1:length(exclusions_neuro)) {\n",
    "        data$neurological_disorder[grepl(exclusions_neuro[d], data[[i]]) & \n",
    "                                   (data[icd_dates_cols[index]]<data$`date_of_attending_assessment_centre_53.2.0` | \n",
    "                                   data[icd_dates_cols[index]]<data$`date_of_attending_assessment_centre_53.0.0`)] = 1\n",
    "    }\n",
    "    index=index+1\n",
    "}\n",
    "\n",
    "data$excluded <- NA\n",
    "data$excluded[data$neurological_disorder ==1] <- 1\n",
    "\n",
    "data$included<-car::recode(data$excluded, \"1='excluded'; else='included'\")\n",
    "nrow(data)\n",
    "#Select subjects if included \n",
    "data_excluded <- subset(data, included==\"included\")\n",
    "\n",
    "ukbb_all=data_excluded\n",
    "\n",
    "ukbb_all$WHR = ukbb_all$waist_circumference_48.0.0/ukbb_all$hip_circumference_49.0.0\n",
    "ukbb_all$agesq=ukbb_all$age_when_attended_assessment_centre_21003.2.0^2\n",
    "\n",
    "nrow(ukbb_all)"
   ]
  },
  {
   "cell_type": "code",
   "execution_count": 4,
   "id": "997aeb58-30cc-45b1-b089-529a0b8d0c2a",
   "metadata": {},
   "outputs": [],
   "source": [
    "write.csv(ukbb_all, '/dagher/dagher11/filip/UPF/data/dataset_excluded.csv', quote=T, row.names=F)"
   ]
  }
 ],
 "metadata": {
  "kernelspec": {
   "display_name": "mambaR",
   "language": "R",
   "name": "r4"
  },
  "language_info": {
   "codemirror_mode": "r",
   "file_extension": ".r",
   "mimetype": "text/x-r-source",
   "name": "R",
   "pygments_lexer": "r",
   "version": "4.3.1"
  }
 },
 "nbformat": 4,
 "nbformat_minor": 5
}
