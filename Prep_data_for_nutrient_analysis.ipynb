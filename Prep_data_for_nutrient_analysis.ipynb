{
 "cells": [
  {
   "cell_type": "code",
   "execution_count": 2,
   "id": "ad5655ae-662c-4b50-8510-ce8a564fc117",
   "metadata": {},
   "outputs": [],
   "source": [
    "library(dplyr)"
   ]
  },
  {
   "cell_type": "markdown",
   "id": "c2ad0578-3726-4c43-9eff-7f1cde75cb0a",
   "metadata": {},
   "source": [
    "# Read in data"
   ]
  },
  {
   "cell_type": "code",
   "execution_count": 3,
   "id": "928ea0cb-c469-4c4c-84d5-a6cb2a2686c8",
   "metadata": {},
   "outputs": [],
   "source": [
    "data=read.csv('/dagher/dagher11/filip/UPF/data/dataset_excluded.csv', quote='\"')"
   ]
  },
  {
   "cell_type": "markdown",
   "id": "73c66dfd-6e06-4386-81c2-ed00b1639f52",
   "metadata": {},
   "source": [
    "# Coalesce food data columns"
   ]
  },
  {
   "cell_type": "code",
   "execution_count": 42,
   "id": "2d86832f-94cd-4449-9895-47c2042ebfad",
   "metadata": {},
   "outputs": [],
   "source": [
    "data_food=data.frame(data[grep('intake',colnames(data))],data[grep('buttermargarine',colnames(data))],\n",
    "                     data[grep('coffee',colnames(data))], 'eid'=data$eid)"
   ]
  },
  {
   "cell_type": "code",
   "execution_count": 9,
   "id": "9428676e-8c9e-4f6f-8639-939562333cdf",
   "metadata": {},
   "outputs": [],
   "source": [
    "coalesce_set <- function(data, prefix) {\n",
    "  cols <- grep(paste0(\"^\", prefix), names(data), value = TRUE)\n",
    "  ordered_cols <- sort(cols, decreasing = TRUE) \n",
    "  print(ordered_cols)\n",
    "  result <- coalesce(!!!as.list(data[ordered_cols]))\n",
    "  return(result)\n",
    "}"
   ]
  },
  {
   "cell_type": "code",
   "execution_count": 5,
   "id": "c9ca07ed-98d4-4164-82c5-ada56b1abd9a",
   "metadata": {},
   "outputs": [],
   "source": [
    "unique_prefixes <- unique(sub(\"_[0-9]+\\\\..*\", \"\", names(data_food)))\n",
    "\n",
    "for (prefix in unique_prefixes[-1]) {\n",
    "  data[[paste0(prefix, \"_coalesced\")]] <- coalesce_set(data_food, prefix)\n",
    "}"
   ]
  },
  {
   "cell_type": "markdown",
   "id": "61d8ed85-8858-41f8-b904-e1a1a13dfb6d",
   "metadata": {},
   "source": [
    "# Create df with only coalesced data and save it for further analyses"
   ]
  },
  {
   "cell_type": "code",
   "execution_count": 6,
   "id": "fcdf9e56-3b28-4fb2-9920-0e23dafec570",
   "metadata": {},
   "outputs": [],
   "source": [
    "data_food=data[grep('coalesced',colnames(data))]"
   ]
  },
  {
   "cell_type": "code",
   "execution_count": 7,
   "id": "5d0a961e-0327-4929-a1df-20482da403ee",
   "metadata": {},
   "outputs": [],
   "source": [
    "write.table(data_food,'/dagher/dagher11/filip/UPF/data/coalesced_intake.csv',sep=',',quote=TRUE)"
   ]
  },
  {
   "cell_type": "markdown",
   "id": "58d77e9c-1ba6-44a9-8cb5-11fe0e9a23f6",
   "metadata": {},
   "source": [
    "# Split data into 5 dataframes for separate NOVA calculations"
   ]
  },
  {
   "cell_type": "code",
   "execution_count": 37,
   "id": "fa5f0048-f82c-4c7f-830c-388c6910febb",
   "metadata": {},
   "outputs": [],
   "source": [
    "data=subset(data, !is.na(data$uk_biobank_assessment_centre_54.2.0))"
   ]
  },
  {
   "cell_type": "code",
   "execution_count": 47,
   "id": "d2c32d3c-6bd1-41e4-b309-dd259408b5b2",
   "metadata": {},
   "outputs": [],
   "source": [
    "split_timepoints <- function(df) {\n",
    "  # For each timepoint\n",
    "  for(t in 0:4) {\n",
    "    # Get columns for this timepoint (ending in .t.0) plus eid\n",
    "    cols <- c(\"eid\", grep(paste0(\"\\\\.\", t, \"\\\\.0$\"), names(df), value=TRUE))\n",
    "    \n",
    "    # Create new dataframe for this timepoint\n",
    "    new_df <- df[, cols]\n",
    "    \n",
    "    # Remove the timepoint suffix from column names, but keep 'eid' as is\n",
    "    names(new_df)[-1] <- sub(paste0(\"\\\\.\", t, \"\\\\.0$\"), \"\", names(new_df)[-1])\n",
    "    \n",
    "    # Assign to global environment\n",
    "    assign(paste0(\"df_t\", t), new_df, envir = .GlobalEnv)\n",
    "  }\n",
    "}\n",
    "\n",
    "\n"
   ]
  },
  {
   "cell_type": "code",
   "execution_count": 48,
   "id": "a9086a54-c551-4c2b-97d7-1d3dbe7928dc",
   "metadata": {},
   "outputs": [],
   "source": [
    "split_timepoints(data_food)"
   ]
  },
  {
   "cell_type": "code",
   "execution_count": 49,
   "id": "0d3b9239-ca82-421f-9f01-65f1a84dd65a",
   "metadata": {},
   "outputs": [],
   "source": [
    "write.table(df_t0,'/dagher/dagher11/filip/UPF/data/coalesced_intake_0.csv',sep=',',quote=TRUE)\n",
    "write.table(df_t1,'/dagher/dagher11/filip/UPF/data/coalesced_intake_1.csv',sep=',',quote=TRUE)\n",
    "write.table(df_t2,'/dagher/dagher11/filip/UPF/data/coalesced_intake_2.csv',sep=',',quote=TRUE)\n",
    "write.table(df_t3,'/dagher/dagher11/filip/UPF/data/coalesced_intake_3.csv',sep=',',quote=TRUE)\n",
    "write.table(df_t4,'/dagher/dagher11/filip/UPF/data/coalesced_intake_4.csv',sep=',',quote=TRUE)"
   ]
  },
  {
   "cell_type": "code",
   "execution_count": 44,
   "id": "112d1ec7-8501-4acc-84fb-8dfe5ba0ff11",
   "metadata": {},
   "outputs": [],
   "source": [
    "write.table(data_food,'/dagher/dagher11/filip/UPF/data/coalesced_intake_all_timepoints.csv',sep=',',quote=TRUE)"
   ]
  },
  {
   "cell_type": "code",
   "execution_count": null,
   "id": "9e24344a-8b36-4c80-b00a-18ad633afe9c",
   "metadata": {},
   "outputs": [],
   "source": []
  }
 ],
 "metadata": {
  "kernelspec": {
   "display_name": "mambaR",
   "language": "R",
   "name": "r4"
  },
  "language_info": {
   "codemirror_mode": "r",
   "file_extension": ".r",
   "mimetype": "text/x-r-source",
   "name": "R",
   "pygments_lexer": "r",
   "version": "4.3.1"
  }
 },
 "nbformat": 4,
 "nbformat_minor": 5
}
