{
 "cells": [
  {
   "cell_type": "code",
   "execution_count": 1,
   "id": "ad5655ae-662c-4b50-8510-ce8a564fc117",
   "metadata": {},
   "outputs": [
    {
     "name": "stderr",
     "output_type": "stream",
     "text": [
      "\n",
      "Attaching package: ‘dplyr’\n",
      "\n",
      "\n",
      "The following objects are masked from ‘package:stats’:\n",
      "\n",
      "    filter, lag\n",
      "\n",
      "\n",
      "The following objects are masked from ‘package:base’:\n",
      "\n",
      "    intersect, setdiff, setequal, union\n",
      "\n",
      "\n"
     ]
    }
   ],
   "source": [
    "library(dplyr)"
   ]
  },
  {
   "cell_type": "markdown",
   "id": "c2ad0578-3726-4c43-9eff-7f1cde75cb0a",
   "metadata": {},
   "source": [
    "# Read in data"
   ]
  },
  {
   "cell_type": "code",
   "execution_count": 2,
   "id": "928ea0cb-c469-4c4c-84d5-a6cb2a2686c8",
   "metadata": {},
   "outputs": [],
   "source": [
    "data=read.csv('/dagher/dagher11/filip/UPF/data/dataset_excluded.csv', quote='\"')"
   ]
  },
  {
   "cell_type": "markdown",
   "id": "73c66dfd-6e06-4386-81c2-ed00b1639f52",
   "metadata": {},
   "source": [
    "# Coalesce food data columns"
   ]
  },
  {
   "cell_type": "code",
   "execution_count": 3,
   "id": "2d86832f-94cd-4449-9895-47c2042ebfad",
   "metadata": {},
   "outputs": [],
   "source": [
    "data_food=data.frame(data[grep('intake',colnames(data))],data[grep('buttermargarine',colnames(data))],\n",
    "                     data[grep('coffee',colnames(data))], data$eid)"
   ]
  },
  {
   "cell_type": "code",
   "execution_count": 4,
   "id": "9428676e-8c9e-4f6f-8639-939562333cdf",
   "metadata": {},
   "outputs": [],
   "source": [
    "coalesce_set <- function(data, prefix) {\n",
    "  cols <- grep(paste0(\"^\", prefix), names(data), value = TRUE)\n",
    "  ordered_cols <- sort(cols, decreasing = TRUE) \n",
    "  #print(ordered_cols)\n",
    "  result <- coalesce(!!!as.list(data[ordered_cols]))\n",
    "  return(result)\n",
    "}"
   ]
  },
  {
   "cell_type": "code",
   "execution_count": 5,
   "id": "c9ca07ed-98d4-4164-82c5-ada56b1abd9a",
   "metadata": {},
   "outputs": [],
   "source": [
    "unique_prefixes <- unique(sub(\"_[0-9]+\\\\..*\", \"\", names(data_food)))\n",
    "\n",
    "for (prefix in unique_prefixes[-1]) {\n",
    "  data[[paste0(prefix, \"_coalesced\")]] <- coalesce_set(data_food, prefix)\n",
    "}"
   ]
  },
  {
   "cell_type": "markdown",
   "id": "61d8ed85-8858-41f8-b904-e1a1a13dfb6d",
   "metadata": {},
   "source": [
    "# Create df with only coalesced data and save it for further analyses"
   ]
  },
  {
   "cell_type": "code",
   "execution_count": 6,
   "id": "fcdf9e56-3b28-4fb2-9920-0e23dafec570",
   "metadata": {},
   "outputs": [],
   "source": [
    "data_food=data[grep('coalesced',colnames(data))]"
   ]
  },
  {
   "cell_type": "code",
   "execution_count": 7,
   "id": "5d0a961e-0327-4929-a1df-20482da403ee",
   "metadata": {},
   "outputs": [],
   "source": [
    "write.table(data_food,'/dagher/dagher11/filip/UPF/data/coalesced_intake.csv',sep=',',quote=TRUE)"
   ]
  }
 ],
 "metadata": {
  "kernelspec": {
   "display_name": "mambaR",
   "language": "R",
   "name": "r4"
  },
  "language_info": {
   "codemirror_mode": "r",
   "file_extension": ".r",
   "mimetype": "text/x-r-source",
   "name": "R",
   "pygments_lexer": "r",
   "version": "4.3.1"
  }
 },
 "nbformat": 4,
 "nbformat_minor": 5
}
